{
 "cells": [
  {
   "cell_type": "markdown",
   "metadata": {
    "application/vnd.databricks.v1+cell": {
     "cellMetadata": {},
     "inputWidgets": {},
     "nuid": "5deaf080-24b5-4b67-bb9c-677af0e745fa",
     "showTitle": false,
     "tableResultSettingsMap": {},
     "title": ""
    }
   },
   "source": [
    "## v_student_info"
   ]
  },
  {
   "cell_type": "code",
   "execution_count": 0,
   "metadata": {
    "application/vnd.databricks.v1+cell": {
     "cellMetadata": {
      "byteLimit": 2048000,
      "rowLimit": 10000
     },
     "inputWidgets": {},
     "nuid": "2f6163d3-1115-4a8e-bc76-4de024353c7c",
     "showTitle": false,
     "tableResultSettingsMap": {},
     "title": ""
    }
   },
   "outputs": [],
   "source": [
    "CREATE OR REPLACE VIEW v_student_info AS\n",
    "SELECT\n",
    "  si.id_student,\n",
    "  si.gender,\n",
    "  si.age_band,\n",
    "  si.highest_education,\n",
    "  si.region,\n",
    "  si.final_result,\n",
    "  sr.code_module,\n",
    "  sr.code_presentation\n",
    "FROM\n",
    "  student_info si\n",
    "JOIN \n",
    "  student_registration_filtered sr\n",
    "ON \n",
    "  si.id_student = sr.id_student;"
   ]
  },
  {
   "cell_type": "code",
   "execution_count": 0,
   "metadata": {
    "application/vnd.databricks.v1+cell": {
     "cellMetadata": {
      "byteLimit": 2048000,
      "rowLimit": 10000
     },
     "inputWidgets": {},
     "nuid": "fc94005e-3839-48ff-a2b6-72aa5450e253",
     "showTitle": false,
     "tableResultSettingsMap": {},
     "title": ""
    }
   },
   "outputs": [
    {
     "output_type": "display_data",
     "data": {
      "text/html": [
       "<style scoped>\n",
       "  .table-result-container {\n",
       "    max-height: 300px;\n",
       "    overflow: auto;\n",
       "  }\n",
       "  table, th, td {\n",
       "    border: 1px solid black;\n",
       "    border-collapse: collapse;\n",
       "  }\n",
       "  th, td {\n",
       "    padding: 5px;\n",
       "  }\n",
       "  th {\n",
       "    text-align: left;\n",
       "  }\n",
       "</style><div class='table-result-container'><table class='table-result'><thead style='background-color: white'><tr><th>id_student</th><th>gender</th><th>age_band</th><th>highest_education</th><th>region</th><th>final_result</th><th>code_module</th><th>code_presentation</th></tr></thead><tbody><tr><td>11391</td><td>M</td><td>55<=</td><td>HE Qualification</td><td>East Anglian Region</td><td>Pass</td><td>AAA</td><td>2013J</td></tr><tr><td>28400</td><td>F</td><td>35-55</td><td>HE Qualification</td><td>Scotland</td><td>Pass</td><td>AAA</td><td>2013J</td></tr><tr><td>30268</td><td>F</td><td>35-55</td><td>A Level or Equivalent</td><td>North Western Region</td><td>Withdrawn</td><td>AAA</td><td>2013J</td></tr><tr><td>31604</td><td>F</td><td>35-55</td><td>A Level or Equivalent</td><td>South East Region</td><td>Pass</td><td>AAA</td><td>2013J</td></tr><tr><td>32885</td><td>F</td><td>0-35</td><td>Lower Than A Level</td><td>West Midlands Region</td><td>Pass</td><td>AAA</td><td>2013J</td></tr><tr><td>38053</td><td>M</td><td>35-55</td><td>A Level or Equivalent</td><td>Wales</td><td>Pass</td><td>AAA</td><td>2013J</td></tr><tr><td>45462</td><td>M</td><td>0-35</td><td>HE Qualification</td><td>Scotland</td><td>Pass</td><td>AAA</td><td>2013J</td></tr><tr><td>45642</td><td>F</td><td>0-35</td><td>A Level or Equivalent</td><td>North Western Region</td><td>Pass</td><td>AAA</td><td>2013J</td></tr><tr><td>52130</td><td>F</td><td>0-35</td><td>A Level or Equivalent</td><td>East Anglian Region</td><td>Pass</td><td>AAA</td><td>2013J</td></tr><tr><td>53025</td><td>M</td><td>55<=</td><td>Post Graduate Qualification</td><td>North Region</td><td>Pass</td><td>AAA</td><td>2013J</td></tr></tbody></table></div>"
      ]
     },
     "metadata": {
      "application/vnd.databricks.v1+output": {
       "addedWidgets": {},
       "aggData": [],
       "aggError": "",
       "aggOverflow": false,
       "aggSchema": [],
       "aggSeriesLimitReached": false,
       "aggType": "",
       "arguments": {},
       "columnCustomDisplayInfos": {},
       "data": [
        [
         11391,
         "M",
         "55<=",
         "HE Qualification",
         "East Anglian Region",
         "Pass",
         "AAA",
         "2013J"
        ],
        [
         28400,
         "F",
         "35-55",
         "HE Qualification",
         "Scotland",
         "Pass",
         "AAA",
         "2013J"
        ],
        [
         30268,
         "F",
         "35-55",
         "A Level or Equivalent",
         "North Western Region",
         "Withdrawn",
         "AAA",
         "2013J"
        ],
        [
         31604,
         "F",
         "35-55",
         "A Level or Equivalent",
         "South East Region",
         "Pass",
         "AAA",
         "2013J"
        ],
        [
         32885,
         "F",
         "0-35",
         "Lower Than A Level",
         "West Midlands Region",
         "Pass",
         "AAA",
         "2013J"
        ],
        [
         38053,
         "M",
         "35-55",
         "A Level or Equivalent",
         "Wales",
         "Pass",
         "AAA",
         "2013J"
        ],
        [
         45462,
         "M",
         "0-35",
         "HE Qualification",
         "Scotland",
         "Pass",
         "AAA",
         "2013J"
        ],
        [
         45642,
         "F",
         "0-35",
         "A Level or Equivalent",
         "North Western Region",
         "Pass",
         "AAA",
         "2013J"
        ],
        [
         52130,
         "F",
         "0-35",
         "A Level or Equivalent",
         "East Anglian Region",
         "Pass",
         "AAA",
         "2013J"
        ],
        [
         53025,
         "M",
         "55<=",
         "Post Graduate Qualification",
         "North Region",
         "Pass",
         "AAA",
         "2013J"
        ]
       ],
       "datasetInfos": [
        {
         "name": "_sqldf",
         "schema": {
          "fields": [
           {
            "metadata": {},
            "name": "id_student",
            "nullable": true,
            "type": "integer"
           },
           {
            "metadata": {},
            "name": "gender",
            "nullable": true,
            "type": "string"
           },
           {
            "metadata": {},
            "name": "age_band",
            "nullable": true,
            "type": "string"
           },
           {
            "metadata": {},
            "name": "highest_education",
            "nullable": true,
            "type": "string"
           },
           {
            "metadata": {},
            "name": "region",
            "nullable": true,
            "type": "string"
           },
           {
            "metadata": {},
            "name": "final_result",
            "nullable": true,
            "type": "string"
           },
           {
            "metadata": {},
            "name": "code_module",
            "nullable": true,
            "type": "string"
           },
           {
            "metadata": {},
            "name": "code_presentation",
            "nullable": true,
            "type": "string"
           }
          ],
          "type": "struct"
         },
         "tableIdentifier": null,
         "typeStr": "pyspark.sql.connect.dataframe.DataFrame"
        }
       ],
       "dbfsResultPath": null,
       "isJsonSchema": true,
       "metadata": {
        "createTempViewForImplicitDf": true,
        "dataframeName": "_sqldf",
        "executionCount": 7
       },
       "overflow": false,
       "plotOptions": {
        "customPlotOptions": {},
        "displayType": "table",
        "pivotAggregation": null,
        "pivotColumns": null,
        "xColumns": null,
        "yColumns": null
       },
       "removedWidgets": [],
       "schema": [
        {
         "metadata": "{}",
         "name": "id_student",
         "type": "\"integer\""
        },
        {
         "metadata": "{}",
         "name": "gender",
         "type": "\"string\""
        },
        {
         "metadata": "{}",
         "name": "age_band",
         "type": "\"string\""
        },
        {
         "metadata": "{}",
         "name": "highest_education",
         "type": "\"string\""
        },
        {
         "metadata": "{}",
         "name": "region",
         "type": "\"string\""
        },
        {
         "metadata": "{}",
         "name": "final_result",
         "type": "\"string\""
        },
        {
         "metadata": "{}",
         "name": "code_module",
         "type": "\"string\""
        },
        {
         "metadata": "{}",
         "name": "code_presentation",
         "type": "\"string\""
        }
       ],
       "type": "table"
      }
     },
     "output_type": "display_data"
    }
   ],
   "source": [
    "SELECT *\n",
    "FROM\n",
    "  v_student_info\n",
    "LIMIT 10;"
   ]
  },
  {
   "cell_type": "markdown",
   "metadata": {
    "application/vnd.databricks.v1+cell": {
     "cellMetadata": {},
     "inputWidgets": {},
     "nuid": "794170d1-fea0-49e9-bd45-6fd5cffe21a8",
     "showTitle": false,
     "tableResultSettingsMap": {},
     "title": ""
    }
   },
   "source": [
    "## v_vle_summary"
   ]
  },
  {
   "cell_type": "code",
   "execution_count": 0,
   "metadata": {
    "application/vnd.databricks.v1+cell": {
     "cellMetadata": {
      "byteLimit": 2048000,
      "rowLimit": 10000
     },
     "inputWidgets": {},
     "nuid": "fd3675b9-62da-4e15-92de-42fbcae4eda4",
     "showTitle": false,
     "tableResultSettingsMap": {},
     "title": ""
    }
   },
   "outputs": [
    {
     "output_type": "display_data",
     "data": {
      "text/html": [
       "<style scoped>\n",
       "  .table-result-container {\n",
       "    max-height: 300px;\n",
       "    overflow: auto;\n",
       "  }\n",
       "  table, th, td {\n",
       "    border: 1px solid black;\n",
       "    border-collapse: collapse;\n",
       "  }\n",
       "  th, td {\n",
       "    padding: 5px;\n",
       "  }\n",
       "  th {\n",
       "    text-align: left;\n",
       "  }\n",
       "</style><div class='table-result-container'><table class='table-result'><thead style='background-color: white'><tr><th>id_student</th><th>code_module</th><th>code_presentation</th><th>total_clicks</th><th>days_active</th></tr></thead><tbody><tr><td>505131</td><td>FFF</td><td>2014B</td><td>943</td><td>54</td></tr><tr><td>585572</td><td>FFF</td><td>2014J</td><td>2791</td><td>81</td></tr><tr><td>594229</td><td>FFF</td><td>2014J</td><td>3707</td><td>82</td></tr><tr><td>643690</td><td>FFF</td><td>2014J</td><td>395</td><td>18</td></tr><tr><td>2337889</td><td>FFF</td><td>2013J</td><td>4175</td><td>94</td></tr><tr><td>576518</td><td>FFF</td><td>2013J</td><td>3360</td><td>84</td></tr><tr><td>585449</td><td>FFF</td><td>2013J</td><td>2638</td><td>102</td></tr><tr><td>625828</td><td>FFF</td><td>2014B</td><td>610</td><td>32</td></tr><tr><td>1615392</td><td>FFF</td><td>2014B</td><td>4692</td><td>152</td></tr><tr><td>630177</td><td>FFF</td><td>2014B</td><td>3825</td><td>174</td></tr></tbody></table></div>"
      ]
     },
     "metadata": {
      "application/vnd.databricks.v1+output": {
       "addedWidgets": {},
       "aggData": [],
       "aggError": "",
       "aggOverflow": false,
       "aggSchema": [],
       "aggSeriesLimitReached": false,
       "aggType": "",
       "arguments": {},
       "columnCustomDisplayInfos": {},
       "data": [
        [
         505131,
         "FFF",
         "2014B",
         943,
         54
        ],
        [
         585572,
         "FFF",
         "2014J",
         2791,
         81
        ],
        [
         594229,
         "FFF",
         "2014J",
         3707,
         82
        ],
        [
         643690,
         "FFF",
         "2014J",
         395,
         18
        ],
        [
         2337889,
         "FFF",
         "2013J",
         4175,
         94
        ],
        [
         576518,
         "FFF",
         "2013J",
         3360,
         84
        ],
        [
         585449,
         "FFF",
         "2013J",
         2638,
         102
        ],
        [
         625828,
         "FFF",
         "2014B",
         610,
         32
        ],
        [
         1615392,
         "FFF",
         "2014B",
         4692,
         152
        ],
        [
         630177,
         "FFF",
         "2014B",
         3825,
         174
        ]
       ],
       "datasetInfos": [
        {
         "name": "_sqldf",
         "schema": {
          "fields": [
           {
            "metadata": {},
            "name": "id_student",
            "nullable": true,
            "type": "integer"
           },
           {
            "metadata": {},
            "name": "code_module",
            "nullable": true,
            "type": "string"
           },
           {
            "metadata": {},
            "name": "code_presentation",
            "nullable": true,
            "type": "string"
           },
           {
            "metadata": {},
            "name": "total_clicks",
            "nullable": true,
            "type": "long"
           },
           {
            "metadata": {},
            "name": "days_active",
            "nullable": false,
            "type": "long"
           }
          ],
          "type": "struct"
         },
         "tableIdentifier": null,
         "typeStr": "pyspark.sql.connect.dataframe.DataFrame"
        }
       ],
       "dbfsResultPath": null,
       "isJsonSchema": true,
       "metadata": {
        "createTempViewForImplicitDf": true,
        "dataframeName": "_sqldf",
        "executionCount": 23
       },
       "overflow": false,
       "plotOptions": {
        "customPlotOptions": {},
        "displayType": "table",
        "pivotAggregation": null,
        "pivotColumns": null,
        "xColumns": null,
        "yColumns": null
       },
       "removedWidgets": [],
       "schema": [
        {
         "metadata": "{}",
         "name": "id_student",
         "type": "\"integer\""
        },
        {
         "metadata": "{}",
         "name": "code_module",
         "type": "\"string\""
        },
        {
         "metadata": "{}",
         "name": "code_presentation",
         "type": "\"string\""
        },
        {
         "metadata": "{}",
         "name": "total_clicks",
         "type": "\"long\""
        },
        {
         "metadata": "{}",
         "name": "days_active",
         "type": "\"long\""
        }
       ],
       "type": "table"
      }
     },
     "output_type": "display_data"
    }
   ],
   "source": [
    "CREATE OR REPLACE VIEW v_vle_summary AS\n",
    "SELECT\n",
    "  id_student,\n",
    "  code_module,\n",
    "  code_presentation,\n",
    "  SUM(sum_click) AS total_clicks,\n",
    "  COUNT(DISTINCT date) AS days_active\n",
    "FROM\n",
    "  student_vle\n",
    "GROUP BY\n",
    "  id_student,\n",
    "  code_module,\n",
    "  code_presentation;\n",
    "\n",
    "\n",
    "\n",
    "SELECT * \n",
    "FROM\n",
    "  v_vle_summary\n",
    "LIMIT 10;"
   ]
  },
  {
   "cell_type": "markdown",
   "metadata": {
    "application/vnd.databricks.v1+cell": {
     "cellMetadata": {},
     "inputWidgets": {},
     "nuid": "234dbef7-b530-4e7d-b9e7-a1fced19b9c5",
     "showTitle": false,
     "tableResultSettingsMap": {},
     "title": ""
    }
   },
   "source": [
    "## v_assessment_score"
   ]
  },
  {
   "cell_type": "code",
   "execution_count": 0,
   "metadata": {
    "application/vnd.databricks.v1+cell": {
     "cellMetadata": {
      "byteLimit": 2048000,
      "rowLimit": 10000
     },
     "inputWidgets": {},
     "nuid": "a719ce68-0c02-4da2-8dbc-0b44284dc3ce",
     "showTitle": false,
     "tableResultSettingsMap": {},
     "title": ""
    }
   },
   "outputs": [
    {
     "output_type": "display_data",
     "data": {
      "text/html": [
       "<style scoped>\n",
       "  .table-result-container {\n",
       "    max-height: 300px;\n",
       "    overflow: auto;\n",
       "  }\n",
       "  table, th, td {\n",
       "    border: 1px solid black;\n",
       "    border-collapse: collapse;\n",
       "  }\n",
       "  th, td {\n",
       "    padding: 5px;\n",
       "  }\n",
       "  th {\n",
       "    text-align: left;\n",
       "  }\n",
       "</style><div class='table-result-container'><table class='table-result'><thead style='background-color: white'><tr><th>id_student</th><th>code_module</th><th>code_presentation</th><th>num_submissions</th><th>avg_score</th></tr></thead><tbody><tr><td>396655</td><td>AAA</td><td>2014J</td><td>5</td><td>40.2</td></tr><tr><td>528464</td><td>BBB</td><td>2013J</td><td>11</td><td>65.82</td></tr><tr><td>553078</td><td>BBB</td><td>2013J</td><td>10</td><td>81.5</td></tr><tr><td>556427</td><td>BBB</td><td>2013J</td><td>6</td><td>95.17</td></tr><tr><td>626126</td><td>BBB</td><td>2014B</td><td>10</td><td>85.3</td></tr><tr><td>626138</td><td>BBB</td><td>2014B</td><td>11</td><td>90.45</td></tr><tr><td>648310</td><td>BBB</td><td>2014J</td><td>5</td><td>65.4</td></tr><tr><td>84299</td><td>FFF</td><td>2014B</td><td>17</td><td>75.47</td></tr><tr><td>597403</td><td>DDD</td><td>2013J</td><td>14</td><td>70.14</td></tr><tr><td>512475</td><td>CCC</td><td>2014B</td><td>5</td><td>93.4</td></tr></tbody></table></div>"
      ]
     },
     "metadata": {
      "application/vnd.databricks.v1+output": {
       "addedWidgets": {},
       "aggData": [],
       "aggError": "",
       "aggOverflow": false,
       "aggSchema": [],
       "aggSeriesLimitReached": false,
       "aggType": "",
       "arguments": {},
       "columnCustomDisplayInfos": {},
       "data": [
        [
         396655,
         "AAA",
         "2014J",
         5,
         40.2
        ],
        [
         528464,
         "BBB",
         "2013J",
         11,
         65.82
        ],
        [
         553078,
         "BBB",
         "2013J",
         10,
         81.5
        ],
        [
         556427,
         "BBB",
         "2013J",
         6,
         95.17
        ],
        [
         626126,
         "BBB",
         "2014B",
         10,
         85.3
        ],
        [
         626138,
         "BBB",
         "2014B",
         11,
         90.45
        ],
        [
         648310,
         "BBB",
         "2014J",
         5,
         65.4
        ],
        [
         84299,
         "FFF",
         "2014B",
         17,
         75.47
        ],
        [
         597403,
         "DDD",
         "2013J",
         14,
         70.14
        ],
        [
         512475,
         "CCC",
         "2014B",
         5,
         93.4
        ]
       ],
       "datasetInfos": [
        {
         "name": "_sqldf",
         "schema": {
          "fields": [
           {
            "metadata": {},
            "name": "id_student",
            "nullable": true,
            "type": "integer"
           },
           {
            "metadata": {},
            "name": "code_module",
            "nullable": true,
            "type": "string"
           },
           {
            "metadata": {},
            "name": "code_presentation",
            "nullable": true,
            "type": "string"
           },
           {
            "metadata": {},
            "name": "num_submissions",
            "nullable": false,
            "type": "long"
           },
           {
            "metadata": {},
            "name": "avg_score",
            "nullable": true,
            "type": "double"
           }
          ],
          "type": "struct"
         },
         "tableIdentifier": null,
         "typeStr": "pyspark.sql.connect.dataframe.DataFrame"
        }
       ],
       "dbfsResultPath": null,
       "isJsonSchema": true,
       "metadata": {
        "createTempViewForImplicitDf": true,
        "dataframeName": "_sqldf",
        "executionCount": 3
       },
       "overflow": false,
       "plotOptions": {
        "customPlotOptions": {},
        "displayType": "table",
        "pivotAggregation": null,
        "pivotColumns": null,
        "xColumns": null,
        "yColumns": null
       },
       "removedWidgets": [],
       "schema": [
        {
         "metadata": "{}",
         "name": "id_student",
         "type": "\"integer\""
        },
        {
         "metadata": "{}",
         "name": "code_module",
         "type": "\"string\""
        },
        {
         "metadata": "{}",
         "name": "code_presentation",
         "type": "\"string\""
        },
        {
         "metadata": "{}",
         "name": "num_submissions",
         "type": "\"long\""
        },
        {
         "metadata": "{}",
         "name": "avg_score",
         "type": "\"double\""
        }
       ],
       "type": "table"
      }
     },
     "output_type": "display_data"
    }
   ],
   "source": [
    "CREATE OR REPLACE VIEW v_assessment_score AS\n",
    "SELECT\n",
    "  sa.id_student,\n",
    "  sr.code_module,\n",
    "  sr.code_presentation,\n",
    "  COUNT(*) AS num_submissions,\n",
    "  ROUND(AVG(sa.score),2) AS avg_score\n",
    "FROM\n",
    "  student_assessment_filtered sa\n",
    "JOIN\n",
    "  student_registration_filtered sr\n",
    "ON \n",
    "  sa.id_student = sr.id_student\n",
    "GROUP BY\n",
    "  sa.id_student,\n",
    "  sr.code_module,\n",
    "  sr.code_presentation;\n",
    "\n",
    "\n",
    "SELECT *\n",
    "FROM\n",
    "  v_assessment_score\n",
    "LIMIT 10;"
   ]
  },
  {
   "cell_type": "markdown",
   "metadata": {
    "application/vnd.databricks.v1+cell": {
     "cellMetadata": {},
     "inputWidgets": {},
     "nuid": "d7b94da9-14a9-4834-b1b5-207f63cdf62f",
     "showTitle": false,
     "tableResultSettingsMap": {},
     "title": ""
    }
   },
   "source": [
    "## v_student_timeline"
   ]
  },
  {
   "cell_type": "code",
   "execution_count": 0,
   "metadata": {
    "application/vnd.databricks.v1+cell": {
     "cellMetadata": {
      "byteLimit": 2048000,
      "rowLimit": 10000
     },
     "inputWidgets": {},
     "nuid": "1a2b0ae8-89ff-4105-b30a-bfca23788f7a",
     "showTitle": false,
     "tableResultSettingsMap": {},
     "title": ""
    }
   },
   "outputs": [
    {
     "output_type": "display_data",
     "data": {
      "text/html": [
       "<style scoped>\n",
       "  .table-result-container {\n",
       "    max-height: 300px;\n",
       "    overflow: auto;\n",
       "  }\n",
       "  table, th, td {\n",
       "    border: 1px solid black;\n",
       "    border-collapse: collapse;\n",
       "  }\n",
       "  th, td {\n",
       "    padding: 5px;\n",
       "  }\n",
       "  th {\n",
       "    text-align: left;\n",
       "  }\n",
       "</style><div class='table-result-container'><table class='table-result'><thead style='background-color: white'><tr><th>id_student</th><th>code_module</th><th>code_presentation</th><th>real_date_registration</th><th>real_date_unregistration</th><th>learning_days</th></tr></thead><tbody><tr><td>11391</td><td>AAA</td><td>2013J</td><td>2012-07-26</td><td>null</td><td>250</td></tr><tr><td>28400</td><td>AAA</td><td>2013J</td><td>2012-11-09</td><td>null</td><td>250</td></tr><tr><td>30268</td><td>AAA</td><td>2013J</td><td>2012-10-01</td><td>2013-01-13</td><td>104</td></tr><tr><td>31604</td><td>AAA</td><td>2013J</td><td>2012-11-10</td><td>null</td><td>250</td></tr><tr><td>32885</td><td>AAA</td><td>2013J</td><td>2012-07-09</td><td>null</td><td>250</td></tr><tr><td>38053</td><td>AAA</td><td>2013J</td><td>2012-09-13</td><td>null</td><td>250</td></tr><tr><td>45462</td><td>AAA</td><td>2013J</td><td>2012-10-26</td><td>null</td><td>250</td></tr><tr><td>45642</td><td>AAA</td><td>2013J</td><td>2012-12-03</td><td>null</td><td>250</td></tr><tr><td>52130</td><td>AAA</td><td>2013J</td><td>2012-11-29</td><td>null</td><td>250</td></tr><tr><td>53025</td><td>AAA</td><td>2013J</td><td>2012-07-06</td><td>null</td><td>250</td></tr></tbody></table></div>"
      ]
     },
     "metadata": {
      "application/vnd.databricks.v1+output": {
       "addedWidgets": {},
       "aggData": [],
       "aggError": "",
       "aggOverflow": false,
       "aggSchema": [],
       "aggSeriesLimitReached": false,
       "aggType": "",
       "arguments": {},
       "columnCustomDisplayInfos": {},
       "data": [
        [
         11391,
         "AAA",
         "2013J",
         "2012-07-26",
         null,
         250
        ],
        [
         28400,
         "AAA",
         "2013J",
         "2012-11-09",
         null,
         250
        ],
        [
         30268,
         "AAA",
         "2013J",
         "2012-10-01",
         "2013-01-13",
         104
        ],
        [
         31604,
         "AAA",
         "2013J",
         "2012-11-10",
         null,
         250
        ],
        [
         32885,
         "AAA",
         "2013J",
         "2012-07-09",
         null,
         250
        ],
        [
         38053,
         "AAA",
         "2013J",
         "2012-09-13",
         null,
         250
        ],
        [
         45462,
         "AAA",
         "2013J",
         "2012-10-26",
         null,
         250
        ],
        [
         45642,
         "AAA",
         "2013J",
         "2012-12-03",
         null,
         250
        ],
        [
         52130,
         "AAA",
         "2013J",
         "2012-11-29",
         null,
         250
        ],
        [
         53025,
         "AAA",
         "2013J",
         "2012-07-06",
         null,
         250
        ]
       ],
       "datasetInfos": [
        {
         "name": "_sqldf",
         "schema": {
          "fields": [
           {
            "metadata": {},
            "name": "id_student",
            "nullable": true,
            "type": "long"
           },
           {
            "metadata": {},
            "name": "code_module",
            "nullable": true,
            "type": "string"
           },
           {
            "metadata": {},
            "name": "code_presentation",
            "nullable": true,
            "type": "string"
           },
           {
            "metadata": {},
            "name": "real_date_registration",
            "nullable": true,
            "type": "date"
           },
           {
            "metadata": {},
            "name": "real_date_unregistration",
            "nullable": true,
            "type": "date"
           },
           {
            "metadata": {},
            "name": "learning_days",
            "nullable": true,
            "type": "integer"
           }
          ],
          "type": "struct"
         },
         "tableIdentifier": null,
         "typeStr": "pyspark.sql.connect.dataframe.DataFrame"
        }
       ],
       "dbfsResultPath": null,
       "isJsonSchema": true,
       "metadata": {
        "createTempViewForImplicitDf": true,
        "dataframeName": "_sqldf",
        "executionCount": 19
       },
       "overflow": false,
       "plotOptions": {
        "customPlotOptions": {},
        "displayType": "table",
        "pivotAggregation": null,
        "pivotColumns": null,
        "xColumns": null,
        "yColumns": null
       },
       "removedWidgets": [],
       "schema": [
        {
         "metadata": "{}",
         "name": "id_student",
         "type": "\"long\""
        },
        {
         "metadata": "{}",
         "name": "code_module",
         "type": "\"string\""
        },
        {
         "metadata": "{}",
         "name": "code_presentation",
         "type": "\"string\""
        },
        {
         "metadata": "{}",
         "name": "real_date_registration",
         "type": "\"date\""
        },
        {
         "metadata": "{}",
         "name": "real_date_unregistration",
         "type": "\"date\""
        },
        {
         "metadata": "{}",
         "name": "learning_days",
         "type": "\"integer\""
        }
       ],
       "type": "table"
      }
     },
     "output_type": "display_data"
    }
   ],
   "source": [
    "CREATE OR REPLACE VIEW v_student_timeline AS\n",
    "SELECT\n",
    "  id_student,\n",
    "  code_module,\n",
    "  code_presentation,\n",
    "  real_date_registration,\n",
    "  real_date_unregistration,\n",
    "  CASE\n",
    "    WHEN real_date_unregistration IS NOT NULL THEN DATEDIFF(real_date_unregistration, real_date_registration)\n",
    "    ELSE\n",
    "     250\n",
    "  END AS learning_days\n",
    "FROM student_registration_filtered;\n",
    "\n",
    "SELECT *\n",
    "FROM\n",
    "  v_student_timeline\n",
    "LIMIT 10;"
   ]
  },
  {
   "cell_type": "markdown",
   "metadata": {
    "application/vnd.databricks.v1+cell": {
     "cellMetadata": {},
     "inputWidgets": {},
     "nuid": "34082b9a-fa90-4f64-a031-149ac46f7571",
     "showTitle": false,
     "tableResultSettingsMap": {},
     "title": ""
    }
   },
   "source": [
    "## v_student_summary"
   ]
  },
  {
   "cell_type": "code",
   "execution_count": 0,
   "metadata": {
    "application/vnd.databricks.v1+cell": {
     "cellMetadata": {
      "byteLimit": 2048000,
      "rowLimit": 10000
     },
     "inputWidgets": {},
     "nuid": "7902b7ef-405e-48c1-8170-97f213c25cc5",
     "showTitle": false,
     "tableResultSettingsMap": {},
     "title": ""
    }
   },
   "outputs": [
    {
     "output_type": "display_data",
     "data": {
      "text/html": [
       "<style scoped>\n",
       "  .table-result-container {\n",
       "    max-height: 300px;\n",
       "    overflow: auto;\n",
       "  }\n",
       "  table, th, td {\n",
       "    border: 1px solid black;\n",
       "    border-collapse: collapse;\n",
       "  }\n",
       "  th, td {\n",
       "    padding: 5px;\n",
       "  }\n",
       "  th {\n",
       "    text-align: left;\n",
       "  }\n",
       "</style><div class='table-result-container'><table class='table-result'><thead style='background-color: white'><tr><th>id_student</th><th>code_module</th><th>code_presentation</th><th>gender</th><th>age_band</th><th>highest_education</th><th>final_result</th><th>total_clicks</th><th>days_active</th><th>num_submissions</th><th>avg_score</th><th>real_date_registration</th><th>real_date_unregistration</th><th>learning_days</th></tr></thead><tbody><tr><td>2228010</td><td>BBB</td><td>2014J</td><td>F</td><td>35-55</td><td>Lower Than A Level</td><td>Pass</td><td>2052</td><td>73</td><td>5</td><td>63.0</td><td>2013-11-26</td><td>null</td><td>250</td></tr><tr><td>133816</td><td>AAA</td><td>2014J</td><td>F</td><td>35-55</td><td>A Level or Equivalent</td><td>Pass</td><td>4000</td><td>128</td><td>5</td><td>65.4</td><td>2013-12-17</td><td>null</td><td>250</td></tr><tr><td>540513</td><td>BBB</td><td>2013B</td><td>F</td><td>0-35</td><td>A Level or Equivalent</td><td>Pass</td><td>462</td><td>27</td><td>11</td><td>79.64</td><td>2013-03-18</td><td>null</td><td>250</td></tr><tr><td>573893</td><td>BBB</td><td>2013J</td><td>F</td><td>35-55</td><td>HE Qualification</td><td>Fail</td><td>662</td><td>45</td><td>11</td><td>76.27</td><td>2012-10-26</td><td>null</td><td>250</td></tr><tr><td>588321</td><td>BBB</td><td>2013J</td><td>F</td><td>35-55</td><td>Lower Than A Level</td><td>Withdrawn</td><td>238</td><td>27</td><td>7</td><td>66.86</td><td>2012-09-07</td><td>2013-06-10</td><td>276</td></tr><tr><td>555720</td><td>BBB</td><td>2014B</td><td>F</td><td>0-35</td><td>Lower Than A Level</td><td>Fail</td><td>8</td><td>5</td><td>3</td><td>44.0</td><td>2013-12-28</td><td>null</td><td>250</td></tr><tr><td>381909</td><td>BBB</td><td>2014B</td><td>F</td><td>35-55</td><td>A Level or Equivalent</td><td>Distinction</td><td>1756</td><td>78</td><td>11</td><td>89.64</td><td>2014-04-07</td><td>null</td><td>250</td></tr><tr><td>1840034</td><td>BBB</td><td>2014B</td><td>F</td><td>35-55</td><td>Lower Than A Level</td><td>Pass</td><td>376</td><td>50</td><td>10</td><td>81.9</td><td>2014-04-07</td><td>null</td><td>250</td></tr><tr><td>185057</td><td>EEE</td><td>2014B</td><td>M</td><td>35-55</td><td>HE Qualification</td><td>Withdrawn</td><td>3542</td><td>155</td><td>5</td><td>66.4</td><td>2013-12-29</td><td>null</td><td>250</td></tr><tr><td>617804</td><td>BBB</td><td>2014J</td><td>M</td><td>0-35</td><td>A Level or Equivalent</td><td>Withdrawn</td><td>null</td><td>null</td><td>null</td><td>null</td><td>2013-10-16</td><td>2013-11-16</td><td>31</td></tr></tbody></table></div>"
      ]
     },
     "metadata": {
      "application/vnd.databricks.v1+output": {
       "addedWidgets": {},
       "aggData": [],
       "aggError": "",
       "aggOverflow": false,
       "aggSchema": [],
       "aggSeriesLimitReached": false,
       "aggType": "",
       "arguments": {},
       "columnCustomDisplayInfos": {},
       "data": [
        [
         2228010,
         "BBB",
         "2014J",
         "F",
         "35-55",
         "Lower Than A Level",
         "Pass",
         2052,
         73,
         5,
         63.0,
         "2013-11-26",
         null,
         250
        ],
        [
         133816,
         "AAA",
         "2014J",
         "F",
         "35-55",
         "A Level or Equivalent",
         "Pass",
         4000,
         128,
         5,
         65.4,
         "2013-12-17",
         null,
         250
        ],
        [
         540513,
         "BBB",
         "2013B",
         "F",
         "0-35",
         "A Level or Equivalent",
         "Pass",
         462,
         27,
         11,
         79.64,
         "2013-03-18",
         null,
         250
        ],
        [
         573893,
         "BBB",
         "2013J",
         "F",
         "35-55",
         "HE Qualification",
         "Fail",
         662,
         45,
         11,
         76.27,
         "2012-10-26",
         null,
         250
        ],
        [
         588321,
         "BBB",
         "2013J",
         "F",
         "35-55",
         "Lower Than A Level",
         "Withdrawn",
         238,
         27,
         7,
         66.86,
         "2012-09-07",
         "2013-06-10",
         276
        ],
        [
         555720,
         "BBB",
         "2014B",
         "F",
         "0-35",
         "Lower Than A Level",
         "Fail",
         8,
         5,
         3,
         44.0,
         "2013-12-28",
         null,
         250
        ],
        [
         381909,
         "BBB",
         "2014B",
         "F",
         "35-55",
         "A Level or Equivalent",
         "Distinction",
         1756,
         78,
         11,
         89.64,
         "2014-04-07",
         null,
         250
        ],
        [
         1840034,
         "BBB",
         "2014B",
         "F",
         "35-55",
         "Lower Than A Level",
         "Pass",
         376,
         50,
         10,
         81.9,
         "2014-04-07",
         null,
         250
        ],
        [
         185057,
         "EEE",
         "2014B",
         "M",
         "35-55",
         "HE Qualification",
         "Withdrawn",
         3542,
         155,
         5,
         66.4,
         "2013-12-29",
         null,
         250
        ],
        [
         617804,
         "BBB",
         "2014J",
         "M",
         "0-35",
         "A Level or Equivalent",
         "Withdrawn",
         null,
         null,
         null,
         null,
         "2013-10-16",
         "2013-11-16",
         31
        ]
       ],
       "datasetInfos": [
        {
         "name": "_sqldf",
         "schema": {
          "fields": [
           {
            "metadata": {},
            "name": "id_student",
            "nullable": true,
            "type": "integer"
           },
           {
            "metadata": {},
            "name": "code_module",
            "nullable": true,
            "type": "string"
           },
           {
            "metadata": {},
            "name": "code_presentation",
            "nullable": true,
            "type": "string"
           },
           {
            "metadata": {},
            "name": "gender",
            "nullable": true,
            "type": "string"
           },
           {
            "metadata": {},
            "name": "age_band",
            "nullable": true,
            "type": "string"
           },
           {
            "metadata": {},
            "name": "highest_education",
            "nullable": true,
            "type": "string"
           },
           {
            "metadata": {},
            "name": "final_result",
            "nullable": true,
            "type": "string"
           },
           {
            "metadata": {},
            "name": "total_clicks",
            "nullable": true,
            "type": "long"
           },
           {
            "metadata": {},
            "name": "days_active",
            "nullable": true,
            "type": "long"
           },
           {
            "metadata": {},
            "name": "num_submissions",
            "nullable": true,
            "type": "long"
           },
           {
            "metadata": {},
            "name": "avg_score",
            "nullable": true,
            "type": "double"
           },
           {
            "metadata": {},
            "name": "real_date_registration",
            "nullable": true,
            "type": "date"
           },
           {
            "metadata": {},
            "name": "real_date_unregistration",
            "nullable": true,
            "type": "date"
           },
           {
            "metadata": {},
            "name": "learning_days",
            "nullable": true,
            "type": "integer"
           }
          ],
          "type": "struct"
         },
         "tableIdentifier": null,
         "typeStr": "pyspark.sql.connect.dataframe.DataFrame"
        }
       ],
       "dbfsResultPath": null,
       "isJsonSchema": true,
       "metadata": {
        "createTempViewForImplicitDf": true,
        "dataframeName": "_sqldf",
        "executionCount": 32
       },
       "overflow": false,
       "plotOptions": {
        "customPlotOptions": {},
        "displayType": "table",
        "pivotAggregation": null,
        "pivotColumns": null,
        "xColumns": null,
        "yColumns": null
       },
       "removedWidgets": [],
       "schema": [
        {
         "metadata": "{}",
         "name": "id_student",
         "type": "\"integer\""
        },
        {
         "metadata": "{}",
         "name": "code_module",
         "type": "\"string\""
        },
        {
         "metadata": "{}",
         "name": "code_presentation",
         "type": "\"string\""
        },
        {
         "metadata": "{}",
         "name": "gender",
         "type": "\"string\""
        },
        {
         "metadata": "{}",
         "name": "age_band",
         "type": "\"string\""
        },
        {
         "metadata": "{}",
         "name": "highest_education",
         "type": "\"string\""
        },
        {
         "metadata": "{}",
         "name": "final_result",
         "type": "\"string\""
        },
        {
         "metadata": "{}",
         "name": "total_clicks",
         "type": "\"long\""
        },
        {
         "metadata": "{}",
         "name": "days_active",
         "type": "\"long\""
        },
        {
         "metadata": "{}",
         "name": "num_submissions",
         "type": "\"long\""
        },
        {
         "metadata": "{}",
         "name": "avg_score",
         "type": "\"double\""
        },
        {
         "metadata": "{}",
         "name": "real_date_registration",
         "type": "\"date\""
        },
        {
         "metadata": "{}",
         "name": "real_date_unregistration",
         "type": "\"date\""
        },
        {
         "metadata": "{}",
         "name": "learning_days",
         "type": "\"integer\""
        }
       ],
       "type": "table"
      }
     },
     "output_type": "display_data"
    }
   ],
   "source": [
    "CREATE OR REPLACE VIEW v_student_summary AS\n",
    "SELECT\n",
    "  info.id_student,\n",
    "  info.code_module,\n",
    "  info.code_presentation,\n",
    "  info.gender,\n",
    "  info.age_band, \n",
    "  info.highest_education,\n",
    "  info.final_result,\n",
    "  vs.total_clicks,\n",
    "  vs.days_active,\n",
    "  ass.num_submissions,\n",
    "  ass.avg_score,\n",
    "  tl.real_date_registration,\n",
    "  tl.real_date_unregistration,\n",
    "  tl.learning_days\n",
    "FROM v_student_info info\n",
    "LEFT JOIN v_vle_summary vs\n",
    "  ON info.id_student = vs.id_student\n",
    "  AND info.code_module = vs.code_module\n",
    "  AND info.code_presentation = vs.code_presentation\n",
    "LEFT JOIN v_assessment_score ass\n",
    "  ON info.id_student = ass.id_student\n",
    "  AND info.code_module = ass.code_module\n",
    "  AND info.code_presentation = ass.code_presentation\n",
    "LEFT JOIN v_student_timeline tl\n",
    "  ON info.id_student = tl.id_student\n",
    "  AND info.code_module = tl.code_module\n",
    "  AND info.code_presentation = tl.code_presentation;\n",
    "\n",
    "\n",
    "SELECT *\n",
    "FROM\n",
    "  v_student_summary\n",
    "LIMIT 10;\n"
   ]
  }
 ],
 "metadata": {
  "application/vnd.databricks.v1+notebook": {
   "computePreferences": null,
   "dashboards": [],
   "environmentMetadata": {
    "base_environment": "",
    "environment_version": "2"
   },
   "inputWidgetPreferences": null,
   "language": "sql",
   "notebookMetadata": {},
   "notebookName": "03 - Merge data",
   "widgets": {}
  },
  "language_info": {
   "name": "sql"
  }
 },
 "nbformat": 4,
 "nbformat_minor": 0
}