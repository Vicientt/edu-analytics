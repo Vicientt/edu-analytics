{
 "cells": [
  {
   "cell_type": "code",
   "execution_count": 0,
   "metadata": {
    "application/vnd.databricks.v1+cell": {
     "cellMetadata": {
      "byteLimit": 2048000,
      "rowLimit": 10000
     },
     "inputWidgets": {},
     "nuid": "5314e668-6359-4df5-99af-d9d7774f5dc1",
     "showTitle": false,
     "tableResultSettingsMap": {},
     "title": ""
    }
   },
   "outputs": [
    {
     "output_type": "display_data",
     "data": {
      "text/html": [
       "<style scoped>\n",
       "  .table-result-container {\n",
       "    max-height: 300px;\n",
       "    overflow: auto;\n",
       "  }\n",
       "  table, th, td {\n",
       "    border: 1px solid black;\n",
       "    border-collapse: collapse;\n",
       "  }\n",
       "  th, td {\n",
       "    padding: 5px;\n",
       "  }\n",
       "  th {\n",
       "    text-align: left;\n",
       "  }\n",
       "</style><div class='table-result-container'><table class='table-result'><thead style='background-color: white'><tr><th>database</th><th>tableName</th><th>isTemporary</th></tr></thead><tbody><tr><td>default</td><td>student_assessment</td><td>false</td></tr><tr><td>default</td><td>student_info</td><td>false</td></tr><tr><td>default</td><td>student_registration</td><td>false</td></tr><tr><td>default</td><td>student_vle</td><td>false</td></tr></tbody></table></div>"
      ]
     },
     "metadata": {
      "application/vnd.databricks.v1+output": {
       "addedWidgets": {},
       "aggData": [],
       "aggError": "",
       "aggOverflow": false,
       "aggSchema": [],
       "aggSeriesLimitReached": false,
       "aggType": "",
       "arguments": {},
       "columnCustomDisplayInfos": {},
       "data": [
        [
         "default",
         "student_assessment",
         false
        ],
        [
         "default",
         "student_info",
         false
        ],
        [
         "default",
         "student_registration",
         false
        ],
        [
         "default",
         "student_vle",
         false
        ]
       ],
       "datasetInfos": [],
       "dbfsResultPath": null,
       "isJsonSchema": true,
       "metadata": {},
       "overflow": false,
       "plotOptions": {
        "customPlotOptions": {},
        "displayType": "table",
        "pivotAggregation": null,
        "pivotColumns": null,
        "xColumns": null,
        "yColumns": null
       },
       "removedWidgets": [],
       "schema": [
        {
         "metadata": "{}",
         "name": "database",
         "type": "\"string\""
        },
        {
         "metadata": "{}",
         "name": "tableName",
         "type": "\"string\""
        },
        {
         "metadata": "{}",
         "name": "isTemporary",
         "type": "\"boolean\""
        }
       ],
       "type": "table"
      }
     },
     "output_type": "display_data"
    }
   ],
   "source": [
    "SHOW TABLES IN default\n"
   ]
  },
  {
   "cell_type": "code",
   "execution_count": 0,
   "metadata": {
    "application/vnd.databricks.v1+cell": {
     "cellMetadata": {
      "byteLimit": 2048000,
      "rowLimit": 10000
     },
     "inputWidgets": {},
     "nuid": "367564b7-a373-41b4-a9ac-0756cd3c9681",
     "showTitle": false,
     "tableResultSettingsMap": {},
     "title": ""
    }
   },
   "outputs": [
    {
     "output_type": "display_data",
     "data": {
      "text/html": [
       "<style scoped>\n",
       "  .table-result-container {\n",
       "    max-height: 300px;\n",
       "    overflow: auto;\n",
       "  }\n",
       "  table, th, td {\n",
       "    border: 1px solid black;\n",
       "    border-collapse: collapse;\n",
       "  }\n",
       "  th, td {\n",
       "    padding: 5px;\n",
       "  }\n",
       "  th {\n",
       "    text-align: left;\n",
       "  }\n",
       "</style><div class='table-result-container'><table class='table-result'><thead style='background-color: white'><tr><th>id_assessment</th><th>id_student</th><th>date_submitted</th><th>is_banked</th><th>score</th></tr></thead><tbody><tr><td>1752</td><td>11391</td><td>18</td><td>0</td><td>78</td></tr><tr><td>1752</td><td>28400</td><td>22</td><td>0</td><td>70</td></tr><tr><td>1752</td><td>31604</td><td>17</td><td>0</td><td>72</td></tr><tr><td>1752</td><td>32885</td><td>26</td><td>0</td><td>69</td></tr><tr><td>1752</td><td>38053</td><td>19</td><td>0</td><td>79</td></tr></tbody></table></div>"
      ]
     },
     "metadata": {
      "application/vnd.databricks.v1+output": {
       "addedWidgets": {},
       "aggData": [],
       "aggError": "",
       "aggOverflow": false,
       "aggSchema": [],
       "aggSeriesLimitReached": false,
       "aggType": "",
       "arguments": {},
       "columnCustomDisplayInfos": {},
       "data": [
        [
         1752,
         11391,
         18,
         0,
         "78"
        ],
        [
         1752,
         28400,
         22,
         0,
         "70"
        ],
        [
         1752,
         31604,
         17,
         0,
         "72"
        ],
        [
         1752,
         32885,
         26,
         0,
         "69"
        ],
        [
         1752,
         38053,
         19,
         0,
         "79"
        ]
       ],
       "datasetInfos": [],
       "dbfsResultPath": null,
       "isJsonSchema": true,
       "metadata": {},
       "overflow": false,
       "plotOptions": {
        "customPlotOptions": {},
        "displayType": "table",
        "pivotAggregation": null,
        "pivotColumns": null,
        "xColumns": null,
        "yColumns": null
       },
       "removedWidgets": [],
       "schema": [
        {
         "metadata": "{}",
         "name": "id_assessment",
         "type": "\"integer\""
        },
        {
         "metadata": "{}",
         "name": "id_student",
         "type": "\"integer\""
        },
        {
         "metadata": "{}",
         "name": "date_submitted",
         "type": "\"integer\""
        },
        {
         "metadata": "{}",
         "name": "is_banked",
         "type": "\"integer\""
        },
        {
         "metadata": "{}",
         "name": "score",
         "type": "\"string\""
        }
       ],
       "type": "table"
      }
     },
     "output_type": "display_data"
    },
    {
     "output_type": "display_data",
     "data": {
      "text/html": [
       "<style scoped>\n",
       "  .table-result-container {\n",
       "    max-height: 300px;\n",
       "    overflow: auto;\n",
       "  }\n",
       "  table, th, td {\n",
       "    border: 1px solid black;\n",
       "    border-collapse: collapse;\n",
       "  }\n",
       "  th, td {\n",
       "    padding: 5px;\n",
       "  }\n",
       "  th {\n",
       "    text-align: left;\n",
       "  }\n",
       "</style><div class='table-result-container'><table class='table-result'><thead style='background-color: white'><tr><th>code_module</th><th>code_presentation</th><th>id_student</th><th>gender</th><th>region</th><th>highest_education</th><th>imd_band</th><th>age_band</th><th>num_of_prev_attempts</th><th>studied_credits</th><th>disability</th><th>final_result</th></tr></thead><tbody><tr><td>AAA</td><td>2013J</td><td>11391</td><td>M</td><td>East Anglian Region</td><td>HE Qualification</td><td>90-100%</td><td>55<=</td><td>0</td><td>240</td><td>N</td><td>Pass</td></tr><tr><td>AAA</td><td>2013J</td><td>28400</td><td>F</td><td>Scotland</td><td>HE Qualification</td><td>20-30%</td><td>35-55</td><td>0</td><td>60</td><td>N</td><td>Pass</td></tr><tr><td>AAA</td><td>2013J</td><td>30268</td><td>F</td><td>North Western Region</td><td>A Level or Equivalent</td><td>30-40%</td><td>35-55</td><td>0</td><td>60</td><td>Y</td><td>Withdrawn</td></tr><tr><td>AAA</td><td>2013J</td><td>31604</td><td>F</td><td>South East Region</td><td>A Level or Equivalent</td><td>50-60%</td><td>35-55</td><td>0</td><td>60</td><td>N</td><td>Pass</td></tr><tr><td>AAA</td><td>2013J</td><td>32885</td><td>F</td><td>West Midlands Region</td><td>Lower Than A Level</td><td>50-60%</td><td>0-35</td><td>0</td><td>60</td><td>N</td><td>Pass</td></tr></tbody></table></div>"
      ]
     },
     "metadata": {
      "application/vnd.databricks.v1+output": {
       "addedWidgets": {},
       "aggData": [],
       "aggError": "",
       "aggOverflow": false,
       "aggSchema": [],
       "aggSeriesLimitReached": false,
       "aggType": "",
       "arguments": {},
       "columnCustomDisplayInfos": {},
       "data": [
        [
         "AAA",
         "2013J",
         11391,
         "M",
         "East Anglian Region",
         "HE Qualification",
         "90-100%",
         "55<=",
         0,
         240,
         "N",
         "Pass"
        ],
        [
         "AAA",
         "2013J",
         28400,
         "F",
         "Scotland",
         "HE Qualification",
         "20-30%",
         "35-55",
         0,
         60,
         "N",
         "Pass"
        ],
        [
         "AAA",
         "2013J",
         30268,
         "F",
         "North Western Region",
         "A Level or Equivalent",
         "30-40%",
         "35-55",
         0,
         60,
         "Y",
         "Withdrawn"
        ],
        [
         "AAA",
         "2013J",
         31604,
         "F",
         "South East Region",
         "A Level or Equivalent",
         "50-60%",
         "35-55",
         0,
         60,
         "N",
         "Pass"
        ],
        [
         "AAA",
         "2013J",
         32885,
         "F",
         "West Midlands Region",
         "Lower Than A Level",
         "50-60%",
         "0-35",
         0,
         60,
         "N",
         "Pass"
        ]
       ],
       "datasetInfos": [],
       "dbfsResultPath": null,
       "isJsonSchema": true,
       "metadata": {},
       "overflow": false,
       "plotOptions": {
        "customPlotOptions": {},
        "displayType": "table",
        "pivotAggregation": null,
        "pivotColumns": null,
        "xColumns": null,
        "yColumns": null
       },
       "removedWidgets": [],
       "schema": [
        {
         "metadata": "{}",
         "name": "code_module",
         "type": "\"string\""
        },
        {
         "metadata": "{}",
         "name": "code_presentation",
         "type": "\"string\""
        },
        {
         "metadata": "{}",
         "name": "id_student",
         "type": "\"integer\""
        },
        {
         "metadata": "{}",
         "name": "gender",
         "type": "\"string\""
        },
        {
         "metadata": "{}",
         "name": "region",
         "type": "\"string\""
        },
        {
         "metadata": "{}",
         "name": "highest_education",
         "type": "\"string\""
        },
        {
         "metadata": "{}",
         "name": "imd_band",
         "type": "\"string\""
        },
        {
         "metadata": "{}",
         "name": "age_band",
         "type": "\"string\""
        },
        {
         "metadata": "{}",
         "name": "num_of_prev_attempts",
         "type": "\"integer\""
        },
        {
         "metadata": "{}",
         "name": "studied_credits",
         "type": "\"integer\""
        },
        {
         "metadata": "{}",
         "name": "disability",
         "type": "\"string\""
        },
        {
         "metadata": "{}",
         "name": "final_result",
         "type": "\"string\""
        }
       ],
       "type": "table"
      }
     },
     "output_type": "display_data"
    },
    {
     "output_type": "display_data",
     "data": {
      "text/html": [
       "<style scoped>\n",
       "  .table-result-container {\n",
       "    max-height: 300px;\n",
       "    overflow: auto;\n",
       "  }\n",
       "  table, th, td {\n",
       "    border: 1px solid black;\n",
       "    border-collapse: collapse;\n",
       "  }\n",
       "  th, td {\n",
       "    padding: 5px;\n",
       "  }\n",
       "  th {\n",
       "    text-align: left;\n",
       "  }\n",
       "</style><div class='table-result-container'><table class='table-result'><thead style='background-color: white'><tr><th>code_module</th><th>code_presentation</th><th>id_student</th><th>date_registration</th><th>date_unregistration</th></tr></thead><tbody><tr><td>AAA</td><td>2013J</td><td>11391</td><td>-159</td><td>?</td></tr><tr><td>AAA</td><td>2013J</td><td>28400</td><td>-53</td><td>?</td></tr><tr><td>AAA</td><td>2013J</td><td>30268</td><td>-92</td><td>12</td></tr><tr><td>AAA</td><td>2013J</td><td>31604</td><td>-52</td><td>?</td></tr><tr><td>AAA</td><td>2013J</td><td>32885</td><td>-176</td><td>?</td></tr></tbody></table></div>"
      ]
     },
     "metadata": {
      "application/vnd.databricks.v1+output": {
       "addedWidgets": {},
       "aggData": [],
       "aggError": "",
       "aggOverflow": false,
       "aggSchema": [],
       "aggSeriesLimitReached": false,
       "aggType": "",
       "arguments": {},
       "columnCustomDisplayInfos": {},
       "data": [
        [
         "AAA",
         "2013J",
         11391,
         "-159",
         "?"
        ],
        [
         "AAA",
         "2013J",
         28400,
         "-53",
         "?"
        ],
        [
         "AAA",
         "2013J",
         30268,
         "-92",
         "12"
        ],
        [
         "AAA",
         "2013J",
         31604,
         "-52",
         "?"
        ],
        [
         "AAA",
         "2013J",
         32885,
         "-176",
         "?"
        ]
       ],
       "datasetInfos": [],
       "dbfsResultPath": null,
       "isJsonSchema": true,
       "metadata": {},
       "overflow": false,
       "plotOptions": {
        "customPlotOptions": {},
        "displayType": "table",
        "pivotAggregation": null,
        "pivotColumns": null,
        "xColumns": null,
        "yColumns": null
       },
       "removedWidgets": [],
       "schema": [
        {
         "metadata": "{}",
         "name": "code_module",
         "type": "\"string\""
        },
        {
         "metadata": "{}",
         "name": "code_presentation",
         "type": "\"string\""
        },
        {
         "metadata": "{}",
         "name": "id_student",
         "type": "\"long\""
        },
        {
         "metadata": "{}",
         "name": "date_registration",
         "type": "\"string\""
        },
        {
         "metadata": "{}",
         "name": "date_unregistration",
         "type": "\"string\""
        }
       ],
       "type": "table"
      }
     },
     "output_type": "display_data"
    },
    {
     "output_type": "display_data",
     "data": {
      "text/html": [
       "<style scoped>\n",
       "  .table-result-container {\n",
       "    max-height: 300px;\n",
       "    overflow: auto;\n",
       "  }\n",
       "  table, th, td {\n",
       "    border: 1px solid black;\n",
       "    border-collapse: collapse;\n",
       "  }\n",
       "  th, td {\n",
       "    padding: 5px;\n",
       "  }\n",
       "  th {\n",
       "    text-align: left;\n",
       "  }\n",
       "</style><div class='table-result-container'><table class='table-result'><thead style='background-color: white'><tr><th>code_module</th><th>code_presentation</th><th>id_student</th><th>id_site</th><th>date</th><th>sum_click</th></tr></thead><tbody><tr><td>FFF</td><td>2014J</td><td>647324</td><td>883152</td><td>45</td><td>2</td></tr><tr><td>FFF</td><td>2014J</td><td>647324</td><td>882545</td><td>45</td><td>2</td></tr><tr><td>FFF</td><td>2014J</td><td>647324</td><td>882549</td><td>45</td><td>1</td></tr><tr><td>FFF</td><td>2014J</td><td>647324</td><td>882537</td><td>45</td><td>2</td></tr><tr><td>FFF</td><td>2014J</td><td>647111</td><td>882545</td><td>45</td><td>1</td></tr></tbody></table></div>"
      ]
     },
     "metadata": {
      "application/vnd.databricks.v1+output": {
       "addedWidgets": {},
       "aggData": [],
       "aggError": "",
       "aggOverflow": false,
       "aggSchema": [],
       "aggSeriesLimitReached": false,
       "aggType": "",
       "arguments": {},
       "columnCustomDisplayInfos": {},
       "data": [
        [
         "FFF",
         "2014J",
         647324,
         883152,
         45,
         2
        ],
        [
         "FFF",
         "2014J",
         647324,
         882545,
         45,
         2
        ],
        [
         "FFF",
         "2014J",
         647324,
         882549,
         45,
         1
        ],
        [
         "FFF",
         "2014J",
         647324,
         882537,
         45,
         2
        ],
        [
         "FFF",
         "2014J",
         647111,
         882545,
         45,
         1
        ]
       ],
       "datasetInfos": [],
       "dbfsResultPath": null,
       "isJsonSchema": true,
       "metadata": {},
       "overflow": false,
       "plotOptions": {
        "customPlotOptions": {},
        "displayType": "table",
        "pivotAggregation": null,
        "pivotColumns": null,
        "xColumns": null,
        "yColumns": null
       },
       "removedWidgets": [],
       "schema": [
        {
         "metadata": "{}",
         "name": "code_module",
         "type": "\"string\""
        },
        {
         "metadata": "{}",
         "name": "code_presentation",
         "type": "\"string\""
        },
        {
         "metadata": "{}",
         "name": "id_student",
         "type": "\"integer\""
        },
        {
         "metadata": "{}",
         "name": "id_site",
         "type": "\"integer\""
        },
        {
         "metadata": "{}",
         "name": "date",
         "type": "\"integer\""
        },
        {
         "metadata": "{}",
         "name": "sum_click",
         "type": "\"integer\""
        }
       ],
       "type": "table"
      }
     },
     "output_type": "display_data"
    }
   ],
   "source": [
    "SELECT *\n",
    "FROM\n",
    "  student_assessment\n",
    "LIMIT 5;\n",
    "\n",
    "SELECT *\n",
    "FROM\n",
    "  student_info\n",
    "LIMIT 5;\n",
    "\n",
    "SELECT *\n",
    "FROM\n",
    "  student_registration\n",
    "LIMIT 5;\n",
    "\n",
    "SELECT *\n",
    "FROM\n",
    "  student_vle\n",
    "LIMIT 5;\n"
   ]
  }
 ],
 "metadata": {
  "application/vnd.databricks.v1+notebook": {
   "computePreferences": null,
   "dashboards": [],
   "environmentMetadata": {
    "base_environment": "",
    "environment_version": "2"
   },
   "inputWidgetPreferences": null,
   "language": "sql",
   "notebookMetadata": {
    "mostRecentlyExecutedCommandWithImplicitDF": {
     "commandId": -1,
     "dataframes": [
      "_sqldf"
     ]
    },
    "pythonIndentUnit": 4
   },
   "notebookName": "01-create-table",
   "widgets": {}
  },
  "language_info": {
   "name": "sql"
  }
 },
 "nbformat": 4,
 "nbformat_minor": 0
}