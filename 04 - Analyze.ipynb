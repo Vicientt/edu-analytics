{
 "cells": [
  {
   "cell_type": "code",
   "execution_count": 0,
   "metadata": {
    "application/vnd.databricks.v1+cell": {
     "cellMetadata": {
      "byteLimit": 2048000,
      "rowLimit": 10000
     },
     "inputWidgets": {},
     "nuid": "5d6fa58f-fd19-46cf-a2b2-9b4279bf444c",
     "showTitle": false,
     "tableResultSettingsMap": {},
     "title": ""
    }
   },
   "outputs": [
    {
     "output_type": "display_data",
     "data": {
      "text/html": [
       "<style scoped>\n",
       "  .table-result-container {\n",
       "    max-height: 300px;\n",
       "    overflow: auto;\n",
       "  }\n",
       "  table, th, td {\n",
       "    border: 1px solid black;\n",
       "    border-collapse: collapse;\n",
       "  }\n",
       "  th, td {\n",
       "    padding: 5px;\n",
       "  }\n",
       "  th {\n",
       "    text-align: left;\n",
       "  }\n",
       "</style><div class='table-result-container'><table class='table-result'><thead style='background-color: white'><tr><th>final_result</th><th>num_students</th></tr></thead><tbody><tr><td>Distinction</td><td>3623</td></tr><tr><td>Fail</td><td>8468</td></tr><tr><td>Withdrawn</td><td>13967</td></tr><tr><td>Pass</td><td>14679</td></tr></tbody></table></div>"
      ]
     },
     "metadata": {
      "application/vnd.databricks.v1+output": {
       "addedWidgets": {},
       "aggData": [],
       "aggError": "",
       "aggOverflow": false,
       "aggSchema": [],
       "aggSeriesLimitReached": false,
       "aggType": "",
       "arguments": {},
       "columnCustomDisplayInfos": {},
       "data": [
        [
         "Distinction",
         3623
        ],
        [
         "Fail",
         8468
        ],
        [
         "Withdrawn",
         13967
        ],
        [
         "Pass",
         14679
        ]
       ],
       "datasetInfos": [
        {
         "name": "_sqldf",
         "schema": {
          "fields": [
           {
            "metadata": {},
            "name": "final_result",
            "nullable": true,
            "type": "string"
           },
           {
            "metadata": {},
            "name": "num_students",
            "nullable": false,
            "type": "long"
           }
          ],
          "type": "struct"
         },
         "tableIdentifier": null,
         "typeStr": "pyspark.sql.connect.dataframe.DataFrame"
        }
       ],
       "dbfsResultPath": null,
       "isJsonSchema": true,
       "metadata": {
        "createTempViewForImplicitDf": true,
        "dataframeName": "_sqldf",
        "executionCount": 1
       },
       "overflow": false,
       "plotOptions": {
        "customPlotOptions": {},
        "displayType": "table",
        "pivotAggregation": null,
        "pivotColumns": null,
        "xColumns": null,
        "yColumns": null
       },
       "removedWidgets": [],
       "schema": [
        {
         "metadata": "{}",
         "name": "final_result",
         "type": "\"string\""
        },
        {
         "metadata": "{}",
         "name": "num_students",
         "type": "\"long\""
        }
       ],
       "type": "table"
      }
     },
     "output_type": "display_data"
    }
   ],
   "source": [
    "-- final_result_distribution (Dem so sinh vien trong tung nhom ket qua hoc tap)\n",
    "SELECT\n",
    "  final_result,\n",
    "  COUNT(*) AS num_students\n",
    "FROM\n",
    "  v_student_summary\n",
    "GROUP BY\n",
    "  final_result;"
   ]
  },
  {
   "cell_type": "code",
   "execution_count": 0,
   "metadata": {
    "application/vnd.databricks.v1+cell": {
     "cellMetadata": {
      "byteLimit": 2048000,
      "rowLimit": 10000
     },
     "inputWidgets": {},
     "nuid": "6ae62b16-11ab-4c3f-a5c4-72e806681e2c",
     "showTitle": false,
     "tableResultSettingsMap": {},
     "title": ""
    }
   },
   "outputs": [
    {
     "output_type": "display_data",
     "data": {
      "text/html": [
       "<style scoped>\n",
       "  .table-result-container {\n",
       "    max-height: 300px;\n",
       "    overflow: auto;\n",
       "  }\n",
       "  table, th, td {\n",
       "    border: 1px solid black;\n",
       "    border-collapse: collapse;\n",
       "  }\n",
       "  th, td {\n",
       "    padding: 5px;\n",
       "  }\n",
       "  th {\n",
       "    text-align: left;\n",
       "  }\n",
       "</style><div class='table-result-container'><table class='table-result'><thead style='background-color: white'><tr><th>final_result</th><th>avg_clicks</th><th>avg_score</th></tr></thead><tbody><tr><td>Distinction</td><td>2610.0</td><td>88.0</td></tr><tr><td>Fail</td><td>702.0</td><td>64.0</td></tr><tr><td>Withdrawn</td><td>614.0</td><td>67.0</td></tr><tr><td>Pass</td><td>1849.0</td><td>76.0</td></tr></tbody></table></div>"
      ]
     },
     "metadata": {
      "application/vnd.databricks.v1+output": {
       "addedWidgets": {},
       "aggData": [],
       "aggError": "",
       "aggOverflow": false,
       "aggSchema": [],
       "aggSeriesLimitReached": false,
       "aggType": "",
       "arguments": {},
       "columnCustomDisplayInfos": {},
       "data": [
        [
         "Distinction",
         2610.0,
         88.0
        ],
        [
         "Fail",
         702.0,
         64.0
        ],
        [
         "Withdrawn",
         614.0,
         67.0
        ],
        [
         "Pass",
         1849.0,
         76.0
        ]
       ],
       "datasetInfos": [
        {
         "name": "_sqldf",
         "schema": {
          "fields": [
           {
            "metadata": {},
            "name": "final_result",
            "nullable": true,
            "type": "string"
           },
           {
            "metadata": {},
            "name": "avg_clicks",
            "nullable": true,
            "type": "double"
           },
           {
            "metadata": {},
            "name": "avg_score",
            "nullable": true,
            "type": "double"
           }
          ],
          "type": "struct"
         },
         "tableIdentifier": null,
         "typeStr": "pyspark.sql.connect.dataframe.DataFrame"
        }
       ],
       "dbfsResultPath": null,
       "isJsonSchema": true,
       "metadata": {
        "createTempViewForImplicitDf": true,
        "dataframeName": "_sqldf",
        "executionCount": 7
       },
       "overflow": false,
       "plotOptions": {
        "customPlotOptions": {},
        "displayType": "table",
        "pivotAggregation": null,
        "pivotColumns": null,
        "xColumns": null,
        "yColumns": null
       },
       "removedWidgets": [],
       "schema": [
        {
         "metadata": "{}",
         "name": "final_result",
         "type": "\"string\""
        },
        {
         "metadata": "{}",
         "name": "avg_clicks",
         "type": "\"double\""
        },
        {
         "metadata": "{}",
         "name": "avg_score",
         "type": "\"double\""
        }
       ],
       "type": "table"
      }
     },
     "output_type": "display_data"
    }
   ],
   "source": [
    "-- clicks_vs_score (Click trung binh va diem trung binh theo nhom ket qua)\n",
    "SELECT\n",
    "  final_result,\n",
    "  ROUND(AVG(total_clicks)) AS avg_clicks,\n",
    "  ROUND(AVG(avg_score)) AS avg_score\n",
    "FROM v_student_summary\n",
    "GROUP BY final_result;"
   ]
  },
  {
   "cell_type": "code",
   "execution_count": 0,
   "metadata": {
    "application/vnd.databricks.v1+cell": {
     "cellMetadata": {
      "byteLimit": 2048000,
      "rowLimit": 10000
     },
     "inputWidgets": {},
     "nuid": "52876c2c-d9bc-4b2b-99c5-4f532feabb2e",
     "showTitle": false,
     "tableResultSettingsMap": {},
     "title": ""
    }
   },
   "outputs": [
    {
     "output_type": "display_data",
     "data": {
      "text/html": [
       "<style scoped>\n",
       "  .table-result-container {\n",
       "    max-height: 300px;\n",
       "    overflow: auto;\n",
       "  }\n",
       "  table, th, td {\n",
       "    border: 1px solid black;\n",
       "    border-collapse: collapse;\n",
       "  }\n",
       "  th, td {\n",
       "    padding: 5px;\n",
       "  }\n",
       "  th {\n",
       "    text-align: left;\n",
       "  }\n",
       "</style><div class='table-result-container'><table class='table-result'><thead style='background-color: white'><tr><th>age_band</th><th>num_students</th><th>avg_clicks</th><th>avg_score</th></tr></thead><tbody><tr><td>0-35</td><td>28933</td><td>1170.0</td><td>72.0</td></tr><tr><td>35-55</td><td>11508</td><td>1665.0</td><td>74.0</td></tr><tr><td>55<=</td><td>296</td><td>2422.0</td><td>77.0</td></tr></tbody></table></div>"
      ]
     },
     "metadata": {
      "application/vnd.databricks.v1+output": {
       "addedWidgets": {},
       "aggData": [],
       "aggError": "",
       "aggOverflow": false,
       "aggSchema": [],
       "aggSeriesLimitReached": false,
       "aggType": "",
       "arguments": {},
       "columnCustomDisplayInfos": {},
       "data": [
        [
         "0-35",
         28933,
         1170.0,
         72.0
        ],
        [
         "35-55",
         11508,
         1665.0,
         74.0
        ],
        [
         "55<=",
         296,
         2422.0,
         77.0
        ]
       ],
       "datasetInfos": [
        {
         "name": "_sqldf",
         "schema": {
          "fields": [
           {
            "metadata": {},
            "name": "age_band",
            "nullable": true,
            "type": "string"
           },
           {
            "metadata": {},
            "name": "num_students",
            "nullable": false,
            "type": "long"
           },
           {
            "metadata": {},
            "name": "avg_clicks",
            "nullable": true,
            "type": "double"
           },
           {
            "metadata": {},
            "name": "avg_score",
            "nullable": true,
            "type": "double"
           }
          ],
          "type": "struct"
         },
         "tableIdentifier": null,
         "typeStr": "pyspark.sql.connect.dataframe.DataFrame"
        }
       ],
       "dbfsResultPath": null,
       "isJsonSchema": true,
       "metadata": {
        "createTempViewForImplicitDf": true,
        "dataframeName": "_sqldf",
        "executionCount": 12
       },
       "overflow": false,
       "plotOptions": {
        "customPlotOptions": {},
        "displayType": "table",
        "pivotAggregation": null,
        "pivotColumns": null,
        "xColumns": null,
        "yColumns": null
       },
       "removedWidgets": [],
       "schema": [
        {
         "metadata": "{}",
         "name": "age_band",
         "type": "\"string\""
        },
        {
         "metadata": "{}",
         "name": "num_students",
         "type": "\"long\""
        },
        {
         "metadata": "{}",
         "name": "avg_clicks",
         "type": "\"double\""
        },
        {
         "metadata": "{}",
         "name": "avg_score",
         "type": "\"double\""
        }
       ],
       "type": "table"
      }
     },
     "output_type": "display_data"
    }
   ],
   "source": [
    "-- ageband_summary (Phan phoi tuoi va tuong tac hoc tap)\n",
    "SELECT\n",
    "  age_band,\n",
    "  COUNT(*) AS num_students,\n",
    "  ROUND(AVG(total_clicks)) AS avg_clicks,\n",
    "  ROUND(AVG(avg_score)) AS avg_score\n",
    "FROM \n",
    "  v_student_summary\n",
    "GROUP BY  \n",
    "  age_band;"
   ]
  },
  {
   "cell_type": "code",
   "execution_count": 0,
   "metadata": {
    "application/vnd.databricks.v1+cell": {
     "cellMetadata": {
      "byteLimit": 2048000,
      "rowLimit": 10000
     },
     "inputWidgets": {},
     "nuid": "d70d163e-3096-4c59-b654-6474592eded7",
     "showTitle": false,
     "tableResultSettingsMap": {},
     "title": ""
    }
   },
   "outputs": [
    {
     "output_type": "display_data",
     "data": {
      "text/html": [
       "<style scoped>\n",
       "  .table-result-container {\n",
       "    max-height: 300px;\n",
       "    overflow: auto;\n",
       "  }\n",
       "  table, th, td {\n",
       "    border: 1px solid black;\n",
       "    border-collapse: collapse;\n",
       "  }\n",
       "  th, td {\n",
       "    padding: 5px;\n",
       "  }\n",
       "  th {\n",
       "    text-align: left;\n",
       "  }\n",
       "</style><div class='table-result-container'><table class='table-result'><thead style='background-color: white'><tr><th>final_result</th><th>avg_days</th><th>num_students</th></tr></thead><tbody><tr><td>Distinction</td><td>246.0</td><td>3623</td></tr><tr><td>Fail</td><td>243.0</td><td>8468</td></tr><tr><td>Withdrawn</td><td>145.0</td><td>13967</td></tr><tr><td>Pass</td><td>244.0</td><td>14679</td></tr></tbody></table></div>"
      ]
     },
     "metadata": {
      "application/vnd.databricks.v1+output": {
       "addedWidgets": {},
       "aggData": [],
       "aggError": "",
       "aggOverflow": false,
       "aggSchema": [],
       "aggSeriesLimitReached": false,
       "aggType": "",
       "arguments": {},
       "columnCustomDisplayInfos": {},
       "data": [
        [
         "Distinction",
         246.0,
         3623
        ],
        [
         "Fail",
         243.0,
         8468
        ],
        [
         "Withdrawn",
         145.0,
         13967
        ],
        [
         "Pass",
         244.0,
         14679
        ]
       ],
       "datasetInfos": [
        {
         "name": "_sqldf",
         "schema": {
          "fields": [
           {
            "metadata": {},
            "name": "final_result",
            "nullable": true,
            "type": "string"
           },
           {
            "metadata": {},
            "name": "avg_days",
            "nullable": true,
            "type": "double"
           },
           {
            "metadata": {},
            "name": "num_students",
            "nullable": false,
            "type": "long"
           }
          ],
          "type": "struct"
         },
         "tableIdentifier": null,
         "typeStr": "pyspark.sql.connect.dataframe.DataFrame"
        }
       ],
       "dbfsResultPath": null,
       "isJsonSchema": true,
       "metadata": {
        "createTempViewForImplicitDf": true,
        "dataframeName": "_sqldf",
        "executionCount": 15
       },
       "overflow": false,
       "plotOptions": {
        "customPlotOptions": {},
        "displayType": "table",
        "pivotAggregation": null,
        "pivotColumns": null,
        "xColumns": null,
        "yColumns": null
       },
       "removedWidgets": [],
       "schema": [
        {
         "metadata": "{}",
         "name": "final_result",
         "type": "\"string\""
        },
        {
         "metadata": "{}",
         "name": "avg_days",
         "type": "\"double\""
        },
        {
         "metadata": "{}",
         "name": "num_students",
         "type": "\"long\""
        }
       ],
       "type": "table"
      }
     },
     "output_type": "display_data"
    }
   ],
   "source": [
    "-- learning_days_vs_score (Quan he giua so ngay hoc va ket qua)\n",
    "SELECT\n",
    "  final_result,\n",
    "  ROUND(AVG(learning_days)) AS avg_days,\n",
    "  COUNT(*) AS num_students\n",
    "FROM \n",
    "  v_student_summary\n",
    "GROUP BY\n",
    "  final_result;"
   ]
  },
  {
   "cell_type": "code",
   "execution_count": 0,
   "metadata": {
    "application/vnd.databricks.v1+cell": {
     "cellMetadata": {
      "byteLimit": 2048000,
      "rowLimit": 10000
     },
     "inputWidgets": {},
     "nuid": "0eae9507-700f-4a1a-a7ef-f017ba9aba26",
     "showTitle": false,
     "tableResultSettingsMap": {},
     "title": ""
    }
   },
   "outputs": [
    {
     "output_type": "display_data",
     "data": {
      "text/html": [
       "<style scoped>\n",
       "  .table-result-container {\n",
       "    max-height: 300px;\n",
       "    overflow: auto;\n",
       "  }\n",
       "  table, th, td {\n",
       "    border: 1px solid black;\n",
       "    border-collapse: collapse;\n",
       "  }\n",
       "  th, td {\n",
       "    padding: 5px;\n",
       "  }\n",
       "  th {\n",
       "    text-align: left;\n",
       "  }\n",
       "</style><div class='table-result-container'><table class='table-result'><thead style='background-color: white'><tr><th>age_band</th><th>total_students</th><th>num_dropout</th><th>dropout_rate_pct</th></tr></thead><tbody><tr><td>0-35</td><td>28933</td><td>10063</td><td>34.78</td></tr><tr><td>35-55</td><td>11508</td><td>3704</td><td>32.19</td></tr><tr><td>55<=</td><td>296</td><td>86</td><td>29.05</td></tr></tbody></table></div>"
      ]
     },
     "metadata": {
      "application/vnd.databricks.v1+output": {
       "addedWidgets": {},
       "aggData": [],
       "aggError": "",
       "aggOverflow": false,
       "aggSchema": [],
       "aggSeriesLimitReached": false,
       "aggType": "",
       "arguments": {},
       "columnCustomDisplayInfos": {},
       "data": [
        [
         "0-35",
         28933,
         10063,
         34.78
        ],
        [
         "35-55",
         11508,
         3704,
         32.19
        ],
        [
         "55<=",
         296,
         86,
         29.05
        ]
       ],
       "datasetInfos": [
        {
         "name": "_sqldf",
         "schema": {
          "fields": [
           {
            "metadata": {},
            "name": "age_band",
            "nullable": true,
            "type": "string"
           },
           {
            "metadata": {},
            "name": "total_students",
            "nullable": false,
            "type": "long"
           },
           {
            "metadata": {},
            "name": "num_dropout",
            "nullable": true,
            "type": "long"
           },
           {
            "metadata": {},
            "name": "dropout_rate_pct",
            "nullable": true,
            "type": "double"
           }
          ],
          "type": "struct"
         },
         "tableIdentifier": null,
         "typeStr": "pyspark.sql.connect.dataframe.DataFrame"
        }
       ],
       "dbfsResultPath": null,
       "isJsonSchema": true,
       "metadata": {
        "createTempViewForImplicitDf": true,
        "dataframeName": "_sqldf",
        "executionCount": 25
       },
       "overflow": false,
       "plotOptions": {
        "customPlotOptions": {},
        "displayType": "table",
        "pivotAggregation": null,
        "pivotColumns": null,
        "xColumns": null,
        "yColumns": null
       },
       "removedWidgets": [],
       "schema": [
        {
         "metadata": "{}",
         "name": "age_band",
         "type": "\"string\""
        },
        {
         "metadata": "{}",
         "name": "total_students",
         "type": "\"long\""
        },
        {
         "metadata": "{}",
         "name": "num_dropout",
         "type": "\"long\""
        },
        {
         "metadata": "{}",
         "name": "dropout_rate_pct",
         "type": "\"double\""
        }
       ],
       "type": "table"
      }
     },
     "output_type": "display_data"
    }
   ],
   "source": [
    "--dropout_rate_analysis (Ty le dang ky mon hoc theo nhom tuoi)\n",
    "SELECT\n",
    "  age_band,\n",
    "  COUNT(*) AS total_students,\n",
    "  SUM(CASE WHEN real_date_unregistration IS NOT NULL THEN 1 ELSE 0 END) AS num_dropout, \n",
    "  ROUND(100* SUM(CASE WHEN real_date_unregistration IS NOT NULL THEN 1 ELSE 0 END)/ COUNT(*),2) AS dropout_rate_pct\n",
    "FROM\n",
    "  v_student_summary\n",
    "GROUP BY\n",
    "  age_band;"
   ]
  },
  {
   "cell_type": "code",
   "execution_count": 0,
   "metadata": {
    "application/vnd.databricks.v1+cell": {
     "cellMetadata": {
      "byteLimit": 2048000,
      "rowLimit": 10000
     },
     "inputWidgets": {},
     "nuid": "1125551d-3fef-48b8-b311-13b4e08ac508",
     "showTitle": false,
     "tableResultSettingsMap": {},
     "title": ""
    }
   },
   "outputs": [
    {
     "output_type": "display_data",
     "data": {
      "text/html": [
       "<style scoped>\n",
       "  .table-result-container {\n",
       "    max-height: 300px;\n",
       "    overflow: auto;\n",
       "  }\n",
       "  table, th, td {\n",
       "    border: 1px solid black;\n",
       "    border-collapse: collapse;\n",
       "  }\n",
       "  th, td {\n",
       "    padding: 5px;\n",
       "  }\n",
       "  th {\n",
       "    text-align: left;\n",
       "  }\n",
       "</style><div class='table-result-container'><table class='table-result'><thead style='background-color: white'><tr><th>code_module</th><th>final_result</th><th>num_students</th></tr></thead><tbody><tr><td>AAA</td><td>Distinction</td><td>46</td></tr><tr><td>AAA</td><td>Fail</td><td>100</td></tr><tr><td>AAA</td><td>Pass</td><td>506</td></tr><tr><td>AAA</td><td>Withdrawn</td><td>170</td></tr><tr><td>BBB</td><td>Distinction</td><td>699</td></tr><tr><td>BBB</td><td>Fail</td><td>1878</td></tr><tr><td>BBB</td><td>Pass</td><td>3186</td></tr><tr><td>BBB</td><td>Withdrawn</td><td>2688</td></tr><tr><td>CCC</td><td>Distinction</td><td>831</td></tr><tr><td>CCC</td><td>Fail</td><td>1209</td></tr><tr><td>CCC</td><td>Pass</td><td>2449</td></tr><tr><td>CCC</td><td>Withdrawn</td><td>2806</td></tr><tr><td>DDD</td><td>Distinction</td><td>500</td></tr><tr><td>DDD</td><td>Fail</td><td>1711</td></tr><tr><td>DDD</td><td>Pass</td><td>2573</td></tr><tr><td>DDD</td><td>Withdrawn</td><td>3247</td></tr><tr><td>EEE</td><td>Distinction</td><td>409</td></tr><tr><td>EEE</td><td>Fail</td><td>854</td></tr><tr><td>EEE</td><td>Pass</td><td>1587</td></tr><tr><td>EEE</td><td>Withdrawn</td><td>1465</td></tr><tr><td>FFF</td><td>Distinction</td><td>737</td></tr><tr><td>FFF</td><td>Fail</td><td>1979</td></tr><tr><td>FFF</td><td>Pass</td><td>3230</td></tr><tr><td>FFF</td><td>Withdrawn</td><td>3265</td></tr><tr><td>GGG</td><td>Distinction</td><td>401</td></tr><tr><td>GGG</td><td>Fail</td><td>737</td></tr><tr><td>GGG</td><td>Pass</td><td>1148</td></tr><tr><td>GGG</td><td>Withdrawn</td><td>326</td></tr></tbody></table></div>"
      ]
     },
     "metadata": {
      "application/vnd.databricks.v1+output": {
       "addedWidgets": {},
       "aggData": [],
       "aggError": "",
       "aggOverflow": false,
       "aggSchema": [],
       "aggSeriesLimitReached": false,
       "aggType": "",
       "arguments": {},
       "columnCustomDisplayInfos": {},
       "data": [
        [
         "AAA",
         "Distinction",
         46
        ],
        [
         "AAA",
         "Fail",
         100
        ],
        [
         "AAA",
         "Pass",
         506
        ],
        [
         "AAA",
         "Withdrawn",
         170
        ],
        [
         "BBB",
         "Distinction",
         699
        ],
        [
         "BBB",
         "Fail",
         1878
        ],
        [
         "BBB",
         "Pass",
         3186
        ],
        [
         "BBB",
         "Withdrawn",
         2688
        ],
        [
         "CCC",
         "Distinction",
         831
        ],
        [
         "CCC",
         "Fail",
         1209
        ],
        [
         "CCC",
         "Pass",
         2449
        ],
        [
         "CCC",
         "Withdrawn",
         2806
        ],
        [
         "DDD",
         "Distinction",
         500
        ],
        [
         "DDD",
         "Fail",
         1711
        ],
        [
         "DDD",
         "Pass",
         2573
        ],
        [
         "DDD",
         "Withdrawn",
         3247
        ],
        [
         "EEE",
         "Distinction",
         409
        ],
        [
         "EEE",
         "Fail",
         854
        ],
        [
         "EEE",
         "Pass",
         1587
        ],
        [
         "EEE",
         "Withdrawn",
         1465
        ],
        [
         "FFF",
         "Distinction",
         737
        ],
        [
         "FFF",
         "Fail",
         1979
        ],
        [
         "FFF",
         "Pass",
         3230
        ],
        [
         "FFF",
         "Withdrawn",
         3265
        ],
        [
         "GGG",
         "Distinction",
         401
        ],
        [
         "GGG",
         "Fail",
         737
        ],
        [
         "GGG",
         "Pass",
         1148
        ],
        [
         "GGG",
         "Withdrawn",
         326
        ]
       ],
       "datasetInfos": [
        {
         "name": "_sqldf",
         "schema": {
          "fields": [
           {
            "metadata": {},
            "name": "code_module",
            "nullable": true,
            "type": "string"
           },
           {
            "metadata": {},
            "name": "final_result",
            "nullable": true,
            "type": "string"
           },
           {
            "metadata": {},
            "name": "num_students",
            "nullable": false,
            "type": "long"
           }
          ],
          "type": "struct"
         },
         "tableIdentifier": null,
         "typeStr": "pyspark.sql.connect.dataframe.DataFrame"
        }
       ],
       "dbfsResultPath": null,
       "isJsonSchema": true,
       "metadata": {
        "createTempViewForImplicitDf": true,
        "dataframeName": "_sqldf",
        "executionCount": 56
       },
       "overflow": false,
       "plotOptions": {
        "customPlotOptions": {},
        "displayType": "table",
        "pivotAggregation": null,
        "pivotColumns": null,
        "xColumns": null,
        "yColumns": null
       },
       "removedWidgets": [],
       "schema": [
        {
         "metadata": "{}",
         "name": "code_module",
         "type": "\"string\""
        },
        {
         "metadata": "{}",
         "name": "final_result",
         "type": "\"string\""
        },
        {
         "metadata": "{}",
         "name": "num_students",
         "type": "\"long\""
        }
       ],
       "type": "table"
      }
     },
     "output_type": "display_data"
    }
   ],
   "source": [
    "-- Hieu suat hoc tap theo tung khoa hoc\n",
    "SELECT \n",
    "  code_module,\n",
    "  final_result,\n",
    "  COUNT(*) AS num_students\n",
    "FROM\n",
    "  v_student_summary\n",
    "GROUP BY\n",
    "  code_module,\n",
    "  final_result\n",
    "ORDER BY\n",
    "  code_module,\n",
    "  final_result;"
   ]
  },
  {
   "cell_type": "code",
   "execution_count": 0,
   "metadata": {
    "application/vnd.databricks.v1+cell": {
     "cellMetadata": {
      "byteLimit": 2048000,
      "rowLimit": 10000
     },
     "inputWidgets": {},
     "nuid": "f4789df8-1b93-4799-9af1-76a28d902cf5",
     "showTitle": false,
     "tableResultSettingsMap": {},
     "title": ""
    }
   },
   "outputs": [
    {
     "output_type": "display_data",
     "data": {
      "text/html": [
       "<style scoped>\n",
       "  .table-result-container {\n",
       "    max-height: 300px;\n",
       "    overflow: auto;\n",
       "  }\n",
       "  table, th, td {\n",
       "    border: 1px solid black;\n",
       "    border-collapse: collapse;\n",
       "  }\n",
       "  th, td {\n",
       "    padding: 5px;\n",
       "  }\n",
       "  th {\n",
       "    text-align: left;\n",
       "  }\n",
       "</style><div class='table-result-container'><table class='table-result'><thead style='background-color: white'><tr><th>code_module</th><th>avg_clicks</th><th>num_students</th></tr></thead><tbody><tr><td>FFF</td><td>2480.81</td><td>7092</td></tr><tr><td>AAA</td><td>1696.13</td><td>735</td></tr><tr><td>EEE</td><td>1483.88</td><td>2685</td></tr><tr><td>CCC</td><td>1175.53</td><td>3983</td></tr><tr><td>DDD</td><td>962.59</td><td>5745</td></tr><tr><td>BBB</td><td>790.42</td><td>6622</td></tr><tr><td>GGG</td><td>563.77</td><td>2366</td></tr></tbody></table></div>"
      ]
     },
     "metadata": {
      "application/vnd.databricks.v1+output": {
       "addedWidgets": {},
       "aggData": [],
       "aggError": "",
       "aggOverflow": false,
       "aggSchema": [],
       "aggSeriesLimitReached": false,
       "aggType": "",
       "arguments": {},
       "columnCustomDisplayInfos": {},
       "data": [
        [
         "FFF",
         2480.81,
         7092
        ],
        [
         "AAA",
         1696.13,
         735
        ],
        [
         "EEE",
         1483.88,
         2685
        ],
        [
         "CCC",
         1175.53,
         3983
        ],
        [
         "DDD",
         962.59,
         5745
        ],
        [
         "BBB",
         790.42,
         6622
        ],
        [
         "GGG",
         563.77,
         2366
        ]
       ],
       "datasetInfos": [
        {
         "name": "_sqldf",
         "schema": {
          "fields": [
           {
            "metadata": {},
            "name": "code_module",
            "nullable": true,
            "type": "string"
           },
           {
            "metadata": {},
            "name": "avg_clicks",
            "nullable": true,
            "type": "double"
           },
           {
            "metadata": {},
            "name": "num_students",
            "nullable": false,
            "type": "long"
           }
          ],
          "type": "struct"
         },
         "tableIdentifier": null,
         "typeStr": "pyspark.sql.connect.dataframe.DataFrame"
        }
       ],
       "dbfsResultPath": null,
       "isJsonSchema": true,
       "metadata": {
        "createTempViewForImplicitDf": true,
        "dataframeName": "_sqldf",
        "executionCount": 61
       },
       "overflow": false,
       "plotOptions": {
        "customPlotOptions": {},
        "displayType": "table",
        "pivotAggregation": null,
        "pivotColumns": null,
        "xColumns": null,
        "yColumns": null
       },
       "removedWidgets": [],
       "schema": [
        {
         "metadata": "{}",
         "name": "code_module",
         "type": "\"string\""
        },
        {
         "metadata": "{}",
         "name": "avg_clicks",
         "type": "\"double\""
        },
        {
         "metadata": "{}",
         "name": "num_students",
         "type": "\"long\""
        }
       ],
       "type": "table"
      }
     },
     "output_type": "display_data"
    }
   ],
   "source": [
    "-- Tuong tac VLE theo khoa hoc\n",
    "SELECT\n",
    "  code_module,\n",
    "  ROUND(AVG(total_clicks),2) AS avg_clicks,\n",
    "  COUNT(*) AS num_students\n",
    "FROM \n",
    "  v_vle_summary\n",
    "GROUP BY\n",
    "  code_module\n",
    "ORDER BY\n",
    "  avg_clicks DESC;"
   ]
  },
  {
   "cell_type": "code",
   "execution_count": 0,
   "metadata": {
    "application/vnd.databricks.v1+cell": {
     "cellMetadata": {
      "byteLimit": 2048000,
      "rowLimit": 10000
     },
     "inputWidgets": {},
     "nuid": "fb13f2d2-bf04-4c6f-8bd0-77a294c5ab35",
     "showTitle": false,
     "tableResultSettingsMap": {},
     "title": ""
    }
   },
   "outputs": [
    {
     "output_type": "display_data",
     "data": {
      "text/html": [
       "<style scoped>\n",
       "  .table-result-container {\n",
       "    max-height: 300px;\n",
       "    overflow: auto;\n",
       "  }\n",
       "  table, th, td {\n",
       "    border: 1px solid black;\n",
       "    border-collapse: collapse;\n",
       "  }\n",
       "  th, td {\n",
       "    padding: 5px;\n",
       "  }\n",
       "  th {\n",
       "    text-align: left;\n",
       "  }\n",
       "</style><div class='table-result-container'><table class='table-result'><thead style='background-color: white'><tr><th>code_module</th><th>avg_score</th><th>avg_num_assessments</th></tr></thead><tbody><tr><td>GGG</td><td>77.34</td><td>7.34</td></tr><tr><td>EEE</td><td>76.44</td><td>5.25</td></tr><tr><td>FFF</td><td>75.22</td><td>9.41</td></tr><tr><td>BBB</td><td>73.4</td><td>7.33</td></tr><tr><td>CCC</td><td>71.33</td><td>8.54</td></tr><tr><td>AAA</td><td>68.24</td><td>4.73</td></tr><tr><td>DDD</td><td>67.36</td><td>7.32</td></tr></tbody></table></div>"
      ]
     },
     "metadata": {
      "application/vnd.databricks.v1+output": {
       "addedWidgets": {},
       "aggData": [],
       "aggError": "",
       "aggOverflow": false,
       "aggSchema": [],
       "aggSeriesLimitReached": false,
       "aggType": "",
       "arguments": {},
       "columnCustomDisplayInfos": {},
       "data": [
        [
         "GGG",
         77.34,
         7.34
        ],
        [
         "EEE",
         76.44,
         5.25
        ],
        [
         "FFF",
         75.22,
         9.41
        ],
        [
         "BBB",
         73.4,
         7.33
        ],
        [
         "CCC",
         71.33,
         8.54
        ],
        [
         "AAA",
         68.24,
         4.73
        ],
        [
         "DDD",
         67.36,
         7.32
        ]
       ],
       "datasetInfos": [
        {
         "name": "_sqldf",
         "schema": {
          "fields": [
           {
            "metadata": {},
            "name": "code_module",
            "nullable": true,
            "type": "string"
           },
           {
            "metadata": {},
            "name": "avg_score",
            "nullable": true,
            "type": "double"
           },
           {
            "metadata": {},
            "name": "avg_num_assessments",
            "nullable": true,
            "type": "double"
           }
          ],
          "type": "struct"
         },
         "tableIdentifier": null,
         "typeStr": "pyspark.sql.connect.dataframe.DataFrame"
        }
       ],
       "dbfsResultPath": null,
       "isJsonSchema": true,
       "metadata": {
        "createTempViewForImplicitDf": true,
        "dataframeName": "_sqldf",
        "executionCount": 71
       },
       "overflow": false,
       "plotOptions": {
        "customPlotOptions": {},
        "displayType": "table",
        "pivotAggregation": null,
        "pivotColumns": null,
        "xColumns": null,
        "yColumns": null
       },
       "removedWidgets": [],
       "schema": [
        {
         "metadata": "{}",
         "name": "code_module",
         "type": "\"string\""
        },
        {
         "metadata": "{}",
         "name": "avg_score",
         "type": "\"double\""
        },
        {
         "metadata": "{}",
         "name": "avg_num_assessments",
         "type": "\"double\""
        }
       ],
       "type": "table"
      }
     },
     "output_type": "display_data"
    }
   ],
   "source": [
    "-- Diem so trung binh theo mon hoc\n",
    "SELECT\n",
    "  code_module,\n",
    "  ROUND(AVG(avg_score),2) AS avg_score,\n",
    "  ROUND(AVG(num_submissions),2) AS avg_num_assessments\n",
    "FROM \n",
    "  v_assessment_score\n",
    "GROUP BY \n",
    "  code_module\n",
    "ORDER BY\n",
    "  avg_score DESC\n"
   ]
  }
 ],
 "metadata": {
  "application/vnd.databricks.v1+notebook": {
   "computePreferences": null,
   "dashboards": [],
   "environmentMetadata": {
    "base_environment": "",
    "environment_version": "2"
   },
   "inputWidgetPreferences": null,
   "language": "sql",
   "notebookMetadata": {},
   "notebookName": "04 - Analyze",
   "widgets": {}
  },
  "language_info": {
   "name": "sql"
  }
 },
 "nbformat": 4,
 "nbformat_minor": 0
}