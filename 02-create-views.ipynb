{
 "cells": [
  {
   "cell_type": "markdown",
   "metadata": {
    "application/vnd.databricks.v1+cell": {
     "cellMetadata": {
      "byteLimit": 2048000,
      "rowLimit": 10000
     },
     "inputWidgets": {},
     "nuid": "ca740c85-2699-4755-adf0-53fd3c3dca9f",
     "showTitle": false,
     "tableResultSettingsMap": {},
     "title": ""
    }
   },
   "source": [
    "### 2. Exploratory Data Analysis (Data Cleaning & View Creation)\n",
    "**Objective:** Transform raw OULAD data into clean, analysis-ready tables and create comprehensive views that aggregate student engagement, performance, and demographic data for analytical insights."
   ]
  },
  {
   "cell_type": "markdown",
   "metadata": {
    "application/vnd.databricks.v1+cell": {
     "cellMetadata": {
      "byteLimit": 2048000,
      "rowLimit": 10000
     },
     "inputWidgets": {},
     "nuid": "41832fda-2b11-41ca-9880-3f4ec8b5c3c4",
     "showTitle": false,
     "tableResultSettingsMap": {},
     "title": ""
    }
   },
   "source": [
    "**Data Quality Issues Identified**\n",
    "\n",
    "- **Date Format Problems:** Raw date columns stored as integers (days since course start) rather than proper DATE format\n",
    "- **Non-numeric Values:** Some score and click columns contained non-numeric data requiring casting\n",
    "- **Missing Value Handling:** Inconsistent NULL handling across related tables"
   ]
  },
  {
   "cell_type": "markdown",
   "metadata": {
    "application/vnd.databricks.v1+cell": {
     "cellMetadata": {
      "byteLimit": 2048000,
      "rowLimit": 10000
     },
     "inputWidgets": {},
     "nuid": "ebde96a2-01a9-4e0c-bed3-1292200e20e5",
     "showTitle": false,
     "tableResultSettingsMap": {},
     "title": ""
    }
   },
   "source": [
    "**a. Data Quality Assessment**\n",
    "\n",
    "- Identified problematic date columns in `assessments`, `student_registration`, and `student_vle` tables\n",
    "- Detected non-numeric values in score and click columns requiring type conversion\n",
    "- Validated data integrity before transformation"
   ]
  },
  {
   "cell_type": "code",
   "execution_count": 0,
   "metadata": {
    "application/vnd.databricks.v1+cell": {
     "cellMetadata": {
      "byteLimit": 2048000,
      "rowLimit": 10000
     },
     "inputWidgets": {},
     "nuid": "87776100-11c8-407d-86ee-ab6b5299e43d",
     "showTitle": false,
     "tableResultSettingsMap": {},
     "title": ""
    }
   },
   "outputs": [],
   "source": [
    "-- Set database context\n",
    "USE eduanalytics;\n",
    "\n",
    "-- Data Quality Check: Identify malformed data before cleaning\n",
    "-- Check for non-numeric values in date columns\n",
    "SELECT 'assessments' as table_name, \n",
    "       'date' as column_name,\n",
    "       date as problematic_value,\n",
    "       COUNT(*) as count\n",
    "FROM eduanalytics.assessments \n",
    "WHERE TRY_CAST(date AS INT) IS NULL AND date IS NOT NULL\n",
    "GROUP BY date\n",
    "\n",
    "UNION ALL\n",
    "\n",
    "SELECT 'student_registration' as table_name, \n",
    "       'date_registration' as column_name,\n",
    "       date_registration as problematic_value,\n",
    "       COUNT(*) as count\n",
    "FROM eduanalytics.student_registration \n",
    "WHERE TRY_CAST(date_registration AS INT) IS NULL AND date_registration IS NOT NULL\n",
    "GROUP BY date_registration\n",
    "\n",
    "\n",
    "UNION ALL\n",
    "-- Check for non-numeric values in score columns\n",
    "SELECT 'student_assessment' as table_name, \n",
    "       'score' as column_name,\n",
    "       score as problematic_value,\n",
    "       COUNT(*) as count\n",
    "FROM eduanalytics.student_assessments \n",
    "WHERE TRY_CAST(score AS DOUBLE) IS NULL AND score IS NOT NULL\n",
    "GROUP BY score\n",
    "LIMIT 10;"
   ]
  },
  {
   "cell_type": "markdown",
   "metadata": {
    "application/vnd.databricks.v1+cell": {
     "cellMetadata": {
      "byteLimit": 2048000,
      "rowLimit": 10000
     },
     "inputWidgets": {},
     "nuid": "530ee131-2632-430e-8696-0f7977455ce3",
     "showTitle": false,
     "tableResultSettingsMap": {},
     "title": ""
    }
   },
   "source": [
    "**b. Date Standardization**\n",
    "- Base Date: Established 2013-02-01 as reference point for date calculations\n",
    "- Conversion Logic: Used `DATE_ADD()` function to convert integer days to proper DATE format\n",
    "- Tables Cleaned: `assessments_clean`, `studentregistration_clean`, `studentassessment_clean`, `studentvle_clean`"
   ]
  },
  {
   "cell_type": "code",
   "execution_count": 0,
   "metadata": {
    "application/vnd.databricks.v1+cell": {
     "cellMetadata": {
      "byteLimit": 2048000,
      "rowLimit": 10000
     },
     "inputWidgets": {},
     "nuid": "158ef9a3-5ffe-4b3f-8d18-c1d10f74424c",
     "showTitle": false,
     "tableResultSettingsMap": {},
     "title": ""
    }
   },
   "outputs": [],
   "source": [
    "-- Fix assessments table\n",
    "CREATE OR REPLACE TABLE eduanalytics.assessments_clean AS\n",
    "SELECT \n",
    "    code_module,\n",
    "    code_presentation,\n",
    "    id_assessment,\n",
    "    assessment_type,\n",
    "    CASE \n",
    "        WHEN TRY_CAST(date AS INT) IS NOT NULL \n",
    "        THEN DATE_ADD('2013-02-01', TRY_CAST(date AS INT)) \n",
    "        ELSE NULL \n",
    "    END AS date,\n",
    "    weight\n",
    "FROM eduanalytics.assessments;\n",
    "\n",
    "-- Fix student registration table  \n",
    "CREATE OR REPLACE TABLE eduanalytics.studentregistration_clean AS\n",
    "SELECT \n",
    "    code_module,\n",
    "    code_presentation,\n",
    "    id_student,\n",
    "    CASE \n",
    "        WHEN TRY_CAST(date_registration AS INT) IS NOT NULL \n",
    "        THEN DATE_ADD('2013-02-01', TRY_CAST(date_registration AS INT)) \n",
    "        ELSE NULL \n",
    "    END AS date_registration,\n",
    "    CASE \n",
    "        WHEN date_unregistration IS NOT NULL AND TRY_CAST(date_unregistration AS INT) IS NOT NULL\n",
    "        THEN DATE_ADD('2013-02-01', TRY_CAST(date_unregistration AS INT)) \n",
    "        ELSE NULL \n",
    "    END AS date_unregistration\n",
    "FROM eduanalytics.student_registration;  -- Note: using snake_case based on your workspace\n",
    "\n",
    "-- Fix student assessment table\n",
    "CREATE OR REPLACE TABLE eduanalytics.studentassessment_clean AS\n",
    "SELECT \n",
    "    id_assessment,\n",
    "    id_student,\n",
    "    CASE \n",
    "        WHEN TRY_CAST(date_submitted AS INT) IS NOT NULL \n",
    "        THEN DATE_ADD('2013-02-01', TRY_CAST(date_submitted AS INT)) \n",
    "        ELSE NULL \n",
    "    END AS date_submitted,\n",
    "    is_banked,\n",
    "    TRY_CAST(score AS DOUBLE) AS score  -- Also handle score casting\n",
    "FROM eduanalytics.student_assessments;  -- Note: using snake_case based on your workspace\n",
    "\n",
    "-- Fix student VLE table (has date column)\n",
    "CREATE OR REPLACE TABLE eduanalytics.studentvle_clean AS\n",
    "SELECT \n",
    "    code_module,\n",
    "    code_presentation,\n",
    "    id_student,\n",
    "    id_site,\n",
    "    CASE \n",
    "        WHEN TRY_CAST(date AS INT) IS NOT NULL \n",
    "        THEN DATE_ADD('2013-02-01', TRY_CAST(date AS INT)) \n",
    "        ELSE NULL \n",
    "    END AS date,\n",
    "    TRY_CAST(sum_click AS INT) AS sum_click  -- Handle sum_click casting\n",
    "FROM eduanalytics.student_vle;  -- Note: using snake_case based on your workspace\n",
    "\n",
    "-- Fix VLE table (has week_from and week_to columns - these are relative week numbers)\n",
    "CREATE OR REPLACE TABLE eduanalytics.vle_clean AS  \n",
    "SELECT \n",
    "    id_site,\n",
    "    code_module,\n",
    "    code_presentation,\n",
    "    activity_type,\n",
    "    week_from,\n",
    "    week_to\n",
    "FROM eduanalytics.vle;"
   ]
  },
  {
   "cell_type": "markdown",
   "metadata": {
    "application/vnd.databricks.v1+cell": {
     "cellMetadata": {},
     "inputWidgets": {},
     "nuid": "7299869e-8b90-4e06-a024-e85a87d9fe56",
     "showTitle": false,
     "tableResultSettingsMap": {},
     "title": ""
    }
   },
   "source": [
    "**c. Comprehensive View Creation**\n",
    "- `v_student_info_complete` - Enhanced student demographics with registration dates and course details\n",
    "- `v_vle_engagement_summary` - VLE interaction metrics per student (clicks, resources, engagement span)\n",
    "- `v_assessment_performance` - Assessment scores aggregated by type (TMA, CMA, Exam) with performance statistics\n",
    "`v_student_analytics_master` - Master view combining all student data with derived metrics"
   ]
  },
  {
   "cell_type": "code",
   "execution_count": 0,
   "metadata": {
    "application/vnd.databricks.v1+cell": {
     "cellMetadata": {
      "byteLimit": 2048000,
      "rowLimit": 10000
     },
     "inputWidgets": {},
     "nuid": "dcf83f0b-fdfe-481e-a7d4-78270bbab04d",
     "showTitle": false,
     "tableResultSettingsMap": {},
     "title": ""
    }
   },
   "outputs": [],
   "source": [
    "-- Create Comprehensive Student Information View\n",
    "CREATE OR REPLACE VIEW eduanalytics.v_student_info_complete AS\n",
    "SELECT \n",
    "    si.code_module,\n",
    "    si.code_presentation,\n",
    "    si.id_student,\n",
    "    si.gender,\n",
    "    si.region,\n",
    "    si.highest_education,\n",
    "    si.imd_band,\n",
    "    si.age_band,\n",
    "    si.num_of_prev_attempts,\n",
    "    si.studied_credits,\n",
    "    si.disability,\n",
    "    si.final_result,\n",
    "    sr.date_registration,\n",
    "    sr.date_unregistration,\n",
    "    c.module_presentation_length\n",
    "FROM eduanalytics.student_info si  -- Note: using snake_case\n",
    "LEFT JOIN eduanalytics.studentregistration_clean sr \n",
    "    ON si.code_module = sr.code_module \n",
    "    AND si.code_presentation = sr.code_presentation \n",
    "    AND si.id_student = sr.id_student\n",
    "LEFT JOIN eduanalytics.student_courses c  -- Note: check actual table name\n",
    "    ON si.code_module = c.code_module \n",
    "    AND si.code_presentation = c.code_presentation;"
   ]
  },
  {
   "cell_type": "code",
   "execution_count": 0,
   "metadata": {
    "application/vnd.databricks.v1+cell": {
     "cellMetadata": {
      "byteLimit": 2048000,
      "rowLimit": 10000
     },
     "inputWidgets": {},
     "nuid": "b4faa2bd-96cf-4391-be9e-b4188579c860",
     "showTitle": false,
     "tableResultSettingsMap": {},
     "title": ""
    }
   },
   "outputs": [],
   "source": [
    "-- Step 3: Create VLE Engagement Summary\n",
    "CREATE OR REPLACE VIEW eduanalytics.v_vle_engagement_summary AS\n",
    "SELECT \n",
    "    code_module,\n",
    "    code_presentation,\n",
    "    id_student,\n",
    "    COUNT(DISTINCT id_site) as unique_resources_accessed,\n",
    "    COUNT(*) as total_interactions,\n",
    "    SUM(sum_click) as total_clicks,\n",
    "    AVG(sum_click) as avg_clicks_per_interaction,\n",
    "    MIN(date) as first_interaction_date,\n",
    "    MAX(date) as last_interaction_date,\n",
    "    DATEDIFF(MAX(date), MIN(date)) as engagement_span_days\n",
    "FROM eduanalytics.studentvle_clean\n",
    "WHERE sum_click > 0\n",
    "GROUP BY code_module, code_presentation, id_student;\n",
    "\n",
    "-- Step 4: Create Assessment Performance Summary\n",
    "CREATE OR REPLACE VIEW eduanalytics.v_assessment_performance AS\n",
    "SELECT \n",
    "    sa.id_student,\n",
    "    COUNT(*) as total_assessments_submitted,\n",
    "    COUNT(CASE WHEN sa.score >= 40 THEN 1 END) as assessments_passed,\n",
    "    AVG(sa.score) as average_score,\n",
    "    MAX(sa.score) as highest_score,\n",
    "    MIN(sa.score) as lowest_score,\n",
    "    STDDEV(sa.score) as score_std_dev,\n",
    "    COUNT(CASE WHEN a.assessment_type = 'TMA' THEN 1 END) as tma_count,\n",
    "    COUNT(CASE WHEN a.assessment_type = 'CMA' THEN 1 END) as cma_count,\n",
    "    COUNT(CASE WHEN a.assessment_type = 'Exam' THEN 1 END) as exam_count,\n",
    "    AVG(CASE WHEN a.assessment_type = 'TMA' THEN sa.score END) as avg_tma_score,\n",
    "    AVG(CASE WHEN a.assessment_type = 'CMA' THEN sa.score END) as avg_cma_score,\n",
    "    AVG(CASE WHEN a.assessment_type = 'Exam' THEN sa.score END) as avg_exam_score\n",
    "FROM eduanalytics.studentassessment_clean sa\n",
    "JOIN eduanalytics.assessments_clean a ON sa.id_assessment = a.id_assessment\n",
    "WHERE sa.score IS NOT NULL\n",
    "GROUP BY sa.id_student;"
   ]
  },
  {
   "cell_type": "code",
   "execution_count": 0,
   "metadata": {
    "application/vnd.databricks.v1+cell": {
     "cellMetadata": {
      "byteLimit": 2048000,
      "rowLimit": 10000
     },
     "inputWidgets": {},
     "nuid": "9030101c-f442-4780-8b6a-26e207592bc6",
     "showTitle": false,
     "tableResultSettingsMap": {},
     "title": ""
    }
   },
   "outputs": [],
   "source": [
    "-- Step 5: Create Master Analytics View\n",
    "CREATE OR REPLACE VIEW eduanalytics.v_student_analytics_master AS\n",
    "SELECT \n",
    "    si.code_module,\n",
    "    si.code_presentation,\n",
    "    si.id_student,\n",
    "    si.gender,\n",
    "    si.region,\n",
    "    si.highest_education,\n",
    "    si.imd_band,\n",
    "    si.age_band,\n",
    "    si.num_of_prev_attempts,\n",
    "    si.studied_credits,\n",
    "    si.disability,\n",
    "    si.final_result,\n",
    "    si.date_registration,\n",
    "    si.date_unregistration,\n",
    "    si.module_presentation_length,\n",
    "    \n",
    "    -- VLE Engagement Metrics\n",
    "    COALESCE(ve.unique_resources_accessed, 0) as unique_resources_accessed,\n",
    "    COALESCE(ve.total_interactions, 0) as total_vle_interactions,\n",
    "    COALESCE(ve.total_clicks, 0) as total_clicks,\n",
    "    COALESCE(ve.avg_clicks_per_interaction, 0) as avg_clicks_per_interaction,\n",
    "    ve.first_interaction_date,\n",
    "    ve.last_interaction_date,\n",
    "    COALESCE(ve.engagement_span_days, 0) as engagement_span_days,\n",
    "    \n",
    "    -- Assessment Performance Metrics\n",
    "    COALESCE(ap.total_assessments_submitted, 0) as total_assessments_submitted,\n",
    "    COALESCE(ap.assessments_passed, 0) as assessments_passed,\n",
    "    ap.average_score,\n",
    "    ap.highest_score,\n",
    "    ap.lowest_score,\n",
    "    ap.score_std_dev,\n",
    "    COALESCE(ap.tma_count, 0) as tma_count,\n",
    "    COALESCE(ap.cma_count, 0) as cma_count,\n",
    "    COALESCE(ap.exam_count, 0) as exam_count,\n",
    "    ap.avg_tma_score,\n",
    "    ap.avg_cma_score,\n",
    "    ap.avg_exam_score,\n",
    "    \n",
    "    -- Derived Metrics\n",
    "    CASE \n",
    "        WHEN ap.total_assessments_submitted > 0 \n",
    "        THEN (ap.assessments_passed * 100.0 / ap.total_assessments_submitted)\n",
    "        ELSE 0 \n",
    "    END as pass_rate_percentage,\n",
    "    \n",
    "    CASE \n",
    "        WHEN ve.total_clicks > 1000 THEN 'High'\n",
    "        WHEN ve.total_clicks > 500 THEN 'Medium'\n",
    "        WHEN ve.total_clicks > 0 THEN 'Low'\n",
    "        ELSE 'No Engagement'\n",
    "    END as engagement_level\n",
    "\n",
    "FROM eduanalytics.v_student_info_complete si\n",
    "LEFT JOIN eduanalytics.v_vle_engagement_summary ve \n",
    "    ON si.code_module = ve.code_module \n",
    "    AND si.code_presentation = ve.code_presentation \n",
    "    AND si.id_student = ve.id_student\n",
    "LEFT JOIN eduanalytics.v_assessment_performance ap \n",
    "    ON si.id_student = ap.id_student;"
   ]
  },
  {
   "cell_type": "code",
   "execution_count": 0,
   "metadata": {
    "application/vnd.databricks.v1+cell": {
     "cellMetadata": {
      "byteLimit": 2048000,
      "rowLimit": 10000
     },
     "inputWidgets": {},
     "nuid": "1fae8b1e-3477-4c0b-bd11-36089c77268d",
     "showTitle": false,
     "tableResultSettingsMap": {},
     "title": ""
    }
   },
   "outputs": [],
   "source": [
    "-- Step 6: Data Quality Check Queries\n",
    "-- Run these to verify your data cleaning worked correctly\n",
    "\n",
    "-- Check date formatting\n",
    "SELECT 'Assessment Dates' as table_name, \n",
    "       COUNT(*) as total_records,\n",
    "       COUNT(date) as valid_dates,\n",
    "       COUNT(*) - COUNT(date) as null_dates\n",
    "FROM eduanalytics.assessments_clean\n",
    "UNION ALL\n",
    "SELECT 'Registration Dates' as table_name,\n",
    "       COUNT(*) as total_records,\n",
    "       COUNT(date_registration) as valid_dates,\n",
    "       COUNT(*) - COUNT(date_registration) as null_dates\n",
    "FROM eduanalytics.studentregistration_clean\n",
    "UNION ALL\n",
    "SELECT 'VLE Dates' as table_name,\n",
    "       COUNT(*) as total_records,\n",
    "       COUNT(date) as valid_dates,\n",
    "       COUNT(*) - COUNT(date) as null_dates\n",
    "FROM eduanalytics.studentvle_clean;"
   ]
  },
  {
   "cell_type": "code",
   "execution_count": 0,
   "metadata": {
    "application/vnd.databricks.v1+cell": {
     "cellMetadata": {
      "byteLimit": 2048000,
      "rowLimit": 10000
     },
     "inputWidgets": {},
     "nuid": "7a776e20-d869-4de2-8264-60bfb32029d3",
     "showTitle": false,
     "tableResultSettingsMap": {},
     "title": ""
    }
   },
   "outputs": [],
   "source": [
    "-- Check master view record counts\n",
    "SELECT \n",
    "    'Total Students' as metric,\n",
    "    COUNT(*) as count\n",
    "FROM eduanalytics.v_student_analytics_master\n",
    "UNION ALL\n",
    "SELECT \n",
    "    'Students with VLE Data' as metric,\n",
    "    COUNT(*) as count\n",
    "FROM eduanalytics.v_student_analytics_master \n",
    "WHERE total_clicks > 0\n",
    "UNION ALL\n",
    "SELECT \n",
    "    'Students with Assessment Data' as metric,\n",
    "    COUNT(*) as count\n",
    "FROM eduanalytics.v_student_analytics_master \n",
    "WHERE total_assessments_submitted > 0;\n"
   ]
  },
  {
   "cell_type": "code",
   "execution_count": 0,
   "metadata": {
    "application/vnd.databricks.v1+cell": {
     "cellMetadata": {
      "byteLimit": 2048000,
      "rowLimit": 10000
     },
     "inputWidgets": {},
     "nuid": "e24ac75a-821a-44b8-bbd8-8f4453ca3f2e",
     "showTitle": false,
     "tableResultSettingsMap": {},
     "title": ""
    }
   },
   "outputs": [],
   "source": [
    "-- Sample data verification\n",
    "SELECT \n",
    "    code_module,\n",
    "    code_presentation,\n",
    "    final_result,\n",
    "    COUNT(*) AS student_count,\n",
    "    ROUND(AVG(total_clicks), 2) AS avg_clicks,\n",
    "    ROUND(AVG(average_score), 2) AS avg_score\n",
    "FROM eduanalytics.v_student_analytics_master\n",
    "GROUP BY code_module, code_presentation, final_result\n",
    "ORDER BY code_module, code_presentation, final_result\n",
    "LIMIT 20;"
   ]
  }
 ],
 "metadata": {
  "application/vnd.databricks.v1+notebook": {
   "computePreferences": null,
   "dashboards": [],
   "environmentMetadata": {
    "base_environment": "",
    "environment_version": "2"
   },
   "inputWidgetPreferences": null,
   "language": "sql",
   "notebookMetadata": {
    "pythonIndentUnit": 4
   },
   "notebookName": "02-create-views",
   "widgets": {}
  },
  "language_info": {
   "name": "sql"
  }
 },
 "nbformat": 4,
 "nbformat_minor": 0
}
