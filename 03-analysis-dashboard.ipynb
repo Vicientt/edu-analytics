{
 "cells": [
  {
   "cell_type": "code",
   "execution_count": 0,
   "metadata": {
    "application/vnd.databricks.v1+cell": {
     "cellMetadata": {
      "byteLimit": 2048000,
      "rowLimit": 10000
     },
     "inputWidgets": {},
     "nuid": "b09b8885-7a29-46f5-8526-6a38f5e3d140",
     "showTitle": false,
     "tableResultSettingsMap": {},
     "title": ""
    }
   },
   "outputs": [],
   "source": [
    "-- =====================================================\n",
    "-- Day 3: Analysis Queries & Dashboard Preparation\n",
    "-- OULAD Education Analytics Project - Updated Version\n",
    "-- =====================================================\n",
    "\n",
    "-- Set database context\n",
    "USE eduanalytics;\n",
    "\n",
    "-- Query 1: Overall Performance Distribution\n",
    "SELECT \n",
    "    'Performance Distribution' as analysis_type,\n",
    "    final_result,\n",
    "    COUNT(*) as student_count,\n",
    "    ROUND(COUNT(*) * 100.0 / SUM(COUNT(*)) OVER(), 2) as percentage\n",
    "FROM eduanalytics.v_student_analytics_master\n",
    "GROUP BY final_result\n",
    "ORDER BY student_count DESC;"
   ]
  },
  {
   "cell_type": "code",
   "execution_count": 0,
   "metadata": {
    "application/vnd.databricks.v1+cell": {
     "cellMetadata": {
      "byteLimit": 2048000,
      "rowLimit": 10000
     },
     "inputWidgets": {},
     "nuid": "770ccebf-3c1b-40e6-b96c-dfd985e66b9a",
     "showTitle": false,
     "tableResultSettingsMap": {},
     "title": ""
    }
   },
   "outputs": [],
   "source": [
    "-- Query 2: Engagement vs Academic Performance\n",
    "SELECT \n",
    "    'Engagement vs Performance' as analysis_type,\n",
    "    engagement_level,\n",
    "    final_result,\n",
    "    COUNT(*) as student_count,\n",
    "    ROUND(AVG(average_score), 2) as avg_assessment_score,\n",
    "    ROUND(AVG(total_clicks), 2) as avg_total_clicks\n",
    "FROM eduanalytics.v_student_analytics_master\n",
    "WHERE final_result IS NOT NULL\n",
    "GROUP BY engagement_level, final_result\n",
    "ORDER BY engagement_level, final_result;"
   ]
  },
  {
   "cell_type": "code",
   "execution_count": 0,
   "metadata": {
    "application/vnd.databricks.v1+cell": {
     "cellMetadata": {
      "byteLimit": 2048000,
      "rowLimit": 10000
     },
     "inputWidgets": {},
     "nuid": "bf86880c-fbe7-4f3e-af15-d7d68b84d659",
     "showTitle": false,
     "tableResultSettingsMap": {},
     "title": ""
    }
   },
   "outputs": [],
   "source": [
    "-- Query 3: Demographics Impact Analysis\n",
    "SELECT \n",
    "    'Demographics Analysis' as analysis_type,\n",
    "    gender,\n",
    "    age_band,\n",
    "    COUNT(*) as student_count,\n",
    "    ROUND(AVG(total_clicks), 2) as avg_clicks,\n",
    "    ROUND(AVG(average_score), 2) as avg_score,\n",
    "    ROUND(SUM(CASE WHEN final_result IN ('Pass', 'Distinction') THEN 1 ELSE 0 END) * 100.0 / COUNT(*), 2) as success_rate\n",
    "FROM eduanalytics.v_student_analytics_master\n",
    "WHERE final_result IS NOT NULL AND average_score IS NOT NULL\n",
    "GROUP BY gender, age_band\n",
    "ORDER BY success_rate DESC;"
   ]
  },
  {
   "cell_type": "code",
   "execution_count": 0,
   "metadata": {
    "application/vnd.databricks.v1+cell": {
     "cellMetadata": {
      "byteLimit": 2048000,
      "rowLimit": 10000
     },
     "inputWidgets": {},
     "nuid": "390d5b01-ed8a-4bc6-97fe-ccff6a73b53e",
     "showTitle": false,
     "tableResultSettingsMap": {},
     "title": ""
    }
   },
   "outputs": [],
   "source": [
    "-- Query 4: Module Performance Comparison\n",
    "SELECT \n",
    "    'Module Comparison' as analysis_type,\n",
    "    code_module,\n",
    "    COUNT(*) as total_students,\n",
    "    ROUND(AVG(total_clicks), 2) as avg_clicks,\n",
    "    ROUND(AVG(average_score), 2) as avg_score,\n",
    "    ROUND(SUM(CASE WHEN final_result IN ('Pass', 'Distinction') THEN 1 ELSE 0 END) * 100.0 / COUNT(*), 2) as success_rate,\n",
    "    ROUND(AVG(unique_resources_accessed), 2) as avg_resources_used\n",
    "FROM eduanalytics.v_student_analytics_master\n",
    "WHERE final_result IS NOT NULL\n",
    "GROUP BY code_module\n",
    "ORDER BY success_rate DESC;\n"
   ]
  },
  {
   "cell_type": "code",
   "execution_count": 0,
   "metadata": {
    "application/vnd.databricks.v1+cell": {
     "cellMetadata": {
      "byteLimit": 2048000,
      "rowLimit": 10000
     },
     "inputWidgets": {},
     "nuid": "6110a0b2-a66a-4a3b-8644-dac3f0891bb8",
     "showTitle": false,
     "tableResultSettingsMap": {},
     "title": ""
    }
   },
   "outputs": [],
   "source": [
    "-- Query 5: Early Warning Indicators\n",
    "SELECT \n",
    "    'Early Warning Analysis' as analysis_type,\n",
    "    code_module,\n",
    "    code_presentation,\n",
    "    id_student,\n",
    "    gender,\n",
    "    age_band,\n",
    "    final_result,\n",
    "    total_clicks,\n",
    "    average_score,\n",
    "    total_assessments_submitted,\n",
    "    CASE \n",
    "        WHEN total_clicks < 100 AND average_score < 40 THEN 'High Risk'\n",
    "        WHEN total_clicks < 300 OR average_score < 50 THEN 'Medium Risk'\n",
    "        ELSE 'Low Risk'\n",
    "    END as risk_level\n",
    "FROM eduanalytics.v_student_analytics_master\n",
    "WHERE final_result IS NOT NULL AND average_score IS NOT NULL\n",
    "ORDER BY \n",
    "    CASE \n",
    "        WHEN total_clicks < 100 AND average_score < 40 THEN 1\n",
    "        WHEN total_clicks < 300 OR average_score < 50 THEN 2\n",
    "        ELSE 3\n",
    "    END,\n",
    "    average_score ASC;\n"
   ]
  },
  {
   "cell_type": "code",
   "execution_count": 0,
   "metadata": {
    "application/vnd.databricks.v1+cell": {
     "cellMetadata": {
      "byteLimit": 2048000,
      "rowLimit": 10000
     },
     "inputWidgets": {},
     "nuid": "4ec36a4b-779c-4363-9405-54b04d1cf452",
     "showTitle": false,
     "tableResultSettingsMap": {},
     "title": ""
    }
   },
   "outputs": [],
   "source": [
    "-- Query 6: Assessment Type Performance Analysis (Fixed)\n",
    "WITH assessment_scores AS (\n",
    "    SELECT \n",
    "        'TMA' as assessment_type,\n",
    "        avg_tma_score as score,\n",
    "        id_student\n",
    "    FROM eduanalytics.v_student_analytics_master\n",
    "    WHERE avg_tma_score IS NOT NULL\n",
    "    \n",
    "    UNION ALL\n",
    "    \n",
    "    SELECT \n",
    "        'CMA' as assessment_type,\n",
    "        avg_cma_score as score,\n",
    "        id_student\n",
    "    FROM eduanalytics.v_student_analytics_master\n",
    "    WHERE avg_cma_score IS NOT NULL\n",
    "    \n",
    "    UNION ALL\n",
    "    \n",
    "    SELECT \n",
    "        'Exam' as assessment_type,\n",
    "        avg_exam_score as score,\n",
    "        id_student\n",
    "    FROM eduanalytics.v_student_analytics_master\n",
    "    WHERE avg_exam_score IS NOT NULL\n",
    ")\n",
    "SELECT \n",
    "    'Assessment Type Analysis' as analysis_type,\n",
    "    assessment_type,\n",
    "    COUNT(*) as students_with_scores,\n",
    "    ROUND(AVG(score), 2) as average_score,\n",
    "    ROUND(MIN(score), 2) as min_score,\n",
    "    ROUND(MAX(score), 2) as max_score,\n",
    "    ROUND(STDDEV(score), 2) as score_std_dev\n",
    "FROM assessment_scores\n",
    "GROUP BY assessment_type\n",
    "ORDER BY average_score DESC;\n",
    "\n"
   ]
  },
  {
   "cell_type": "code",
   "execution_count": 0,
   "metadata": {
    "application/vnd.databricks.v1+cell": {
     "cellMetadata": {
      "byteLimit": 2048000,
      "rowLimit": 10000
     },
     "inputWidgets": {},
     "nuid": "5b43cdf5-c308-4086-81ad-05458e763cc0",
     "showTitle": false,
     "tableResultSettingsMap": {},
     "title": ""
    }
   },
   "outputs": [],
   "source": [
    "-- Query 7: Temporal Engagement Patterns (Fixed date calculation)\n",
    "SELECT \n",
    "    'Temporal Patterns' as analysis_type,\n",
    "    code_module,\n",
    "    code_presentation,\n",
    "    CASE \n",
    "        WHEN DATEDIFF(first_interaction_date, DATE_ADD('2013-02-01', 0)) <= 7 THEN 'Early Starter (Week 1)'\n",
    "        WHEN DATEDIFF(first_interaction_date, DATE_ADD('2013-02-01', 0)) <= 30 THEN 'Regular Starter (Month 1)'\n",
    "        WHEN DATEDIFF(first_interaction_date, DATE_ADD('2013-02-01', 0)) <= 60 THEN 'Late Starter (Month 2)'\n",
    "        ELSE 'Very Late Starter'\n",
    "    END as engagement_timing,\n",
    "    COUNT(*) as student_count,\n",
    "    ROUND(AVG(total_clicks), 2) as avg_total_clicks,\n",
    "    ROUND(AVG(average_score), 2) as avg_score,\n",
    "    ROUND(SUM(CASE WHEN final_result IN ('Pass', 'Distinction') THEN 1 ELSE 0 END) * 100.0 / COUNT(*), 2) as success_rate\n",
    "FROM eduanalytics.v_student_analytics_master\n",
    "WHERE first_interaction_date IS NOT NULL AND final_result IS NOT NULL\n",
    "GROUP BY code_module, code_presentation, \n",
    "    CASE \n",
    "        WHEN DATEDIFF(first_interaction_date, DATE_ADD('2013-02-01', 0)) <= 7 THEN 'Early Starter (Week 1)'\n",
    "        WHEN DATEDIFF(first_interaction_date, DATE_ADD('2013-02-01', 0)) <= 30 THEN 'Regular Starter (Month 1)'\n",
    "        WHEN DATEDIFF(first_interaction_date, DATE_ADD('2013-02-01', 0)) <= 60 THEN 'Late Starter (Month 2)'\n",
    "        ELSE 'Very Late Starter'\n",
    "    END\n",
    "ORDER BY code_module, code_presentation, success_rate DESC;"
   ]
  },
  {
   "cell_type": "code",
   "execution_count": 0,
   "metadata": {
    "application/vnd.databricks.v1+cell": {
     "cellMetadata": {
      "byteLimit": 2048000,
      "rowLimit": 10000
     },
     "inputWidgets": {},
     "nuid": "1156a113-dfbc-4bff-8b8d-3efb3f4a4c48",
     "showTitle": false,
     "tableResultSettingsMap": {},
     "title": ""
    }
   },
   "outputs": [],
   "source": [
    "-- Query 8: Correlation Analysis - Key Metrics\n",
    "SELECT \n",
    "    'Correlation Analysis' as analysis_type,\n",
    "    'Clicks vs Score' as metric_pair,\n",
    "    ROUND(CORR(total_clicks, average_score), 3) as correlation_coefficient,\n",
    "    COUNT(*) as sample_size\n",
    "FROM eduanalytics.v_student_analytics_master\n",
    "WHERE total_clicks > 0 AND average_score IS NOT NULL\n",
    "\n",
    "UNION ALL\n",
    "\n",
    "SELECT \n",
    "    'Correlation Analysis' as analysis_type,\n",
    "    'Resources vs Score' as metric_pair,\n",
    "    ROUND(CORR(unique_resources_accessed, average_score), 3) as correlation_coefficient,\n",
    "    COUNT(*) as sample_size\n",
    "FROM eduanalytics.v_student_analytics_master\n",
    "WHERE unique_resources_accessed > 0 AND average_score IS NOT NULL\n",
    "\n",
    "UNION ALL\n",
    "\n",
    "SELECT \n",
    "    'Correlation Analysis' as analysis_type,\n",
    "    'Engagement Span vs Score' as metric_pair,\n",
    "    ROUND(CORR(engagement_span_days, average_score), 3) as correlation_coefficient,\n",
    "    COUNT(*) as sample_size\n",
    "FROM eduanalytics.v_student_analytics_master\n",
    "WHERE engagement_span_days > 0 AND average_score IS NOT NULL;"
   ]
  },
  {
   "cell_type": "code",
   "execution_count": 0,
   "metadata": {
    "application/vnd.databricks.v1+cell": {
     "cellMetadata": {
      "byteLimit": 2048000,
      "rowLimit": 10000
     },
     "inputWidgets": {},
     "nuid": "f21b205b-5e5f-43d0-bcb8-9c98d2858ca1",
     "showTitle": false,
     "tableResultSettingsMap": {},
     "title": ""
    }
   },
   "outputs": [],
   "source": [
    "-- Query 9: Detailed Performance Breakdown by Education Level\n",
    "SELECT \n",
    "    'Education Level Analysis' as analysis_type,\n",
    "    highest_education,\n",
    "    COUNT(*) as student_count,\n",
    "    ROUND(AVG(total_clicks), 2) as avg_clicks,\n",
    "    ROUND(AVG(average_score), 2) as avg_score,\n",
    "    ROUND(AVG(unique_resources_accessed), 2) as avg_resources,\n",
    "    ROUND(SUM(CASE WHEN final_result = 'Pass' THEN 1 ELSE 0 END) * 100.0 / COUNT(*), 2) as pass_rate,\n",
    "    ROUND(SUM(CASE WHEN final_result = 'Distinction' THEN 1 ELSE 0 END) * 100.0 / COUNT(*), 2) as distinction_rate,\n",
    "    ROUND(SUM(CASE WHEN final_result = 'Withdrawn' THEN 1 ELSE 0 END) * 100.0 / COUNT(*), 2) as withdrawal_rate\n",
    "FROM eduanalytics.v_student_analytics_master\n",
    "WHERE final_result IS NOT NULL\n",
    "GROUP BY highest_education\n",
    "ORDER BY avg_score DESC;\n"
   ]
  },
  {
   "cell_type": "code",
   "execution_count": 0,
   "metadata": {
    "application/vnd.databricks.v1+cell": {
     "cellMetadata": {
      "byteLimit": 2048000,
      "rowLimit": 10000
     },
     "inputWidgets": {},
     "nuid": "9e4bfb03-cab7-4ce3-b01c-085302fbdf29",
     "showTitle": false,
     "tableResultSettingsMap": {},
     "title": ""
    }
   },
   "outputs": [],
   "source": [
    "-- Query 10: Additional Analysis - Previous Attempts Impact\n",
    "SELECT \n",
    "    'Previous Attempts Analysis' as analysis_type,\n",
    "    num_of_prev_attempts,\n",
    "    COUNT(*) as student_count,\n",
    "    ROUND(AVG(total_clicks), 2) as avg_clicks,\n",
    "    ROUND(AVG(average_score), 2) as avg_score,\n",
    "    ROUND(SUM(CASE WHEN final_result IN ('Pass', 'Distinction') THEN 1 ELSE 0 END) * 100.0 / COUNT(*), 2) as success_rate,\n",
    "    ROUND(SUM(CASE WHEN final_result = 'Withdrawn' THEN 1 ELSE 0 END) * 100.0 / COUNT(*), 2) as withdrawal_rate\n",
    "FROM eduanalytics.v_student_analytics_master\n",
    "WHERE final_result IS NOT NULL\n",
    "GROUP BY num_of_prev_attempts\n",
    "ORDER BY num_of_prev_attempts;"
   ]
  },
  {
   "cell_type": "code",
   "execution_count": 0,
   "metadata": {
    "application/vnd.databricks.v1+cell": {
     "cellMetadata": {
      "byteLimit": 2048000,
      "rowLimit": 10000
     },
     "inputWidgets": {},
     "nuid": "55d6597d-781a-43f0-8d61-569ccca1ce54",
     "showTitle": false,
     "tableResultSettingsMap": {},
     "title": ""
    }
   },
   "outputs": [],
   "source": [
    "-- Query 11: Disability Support Analysis\n",
    "SELECT \n",
    "    'Disability Analysis' as analysis_type,\n",
    "    disability,\n",
    "    COUNT(*) as student_count,\n",
    "    ROUND(AVG(total_clicks), 2) as avg_clicks,\n",
    "    ROUND(AVG(average_score), 2) as avg_score,\n",
    "    ROUND(SUM(CASE WHEN final_result IN ('Pass', 'Distinction') THEN 1 ELSE 0 END) * 100.0 / COUNT(*), 2) as success_rate,\n",
    "    ROUND(AVG(unique_resources_accessed), 2) as avg_resources_used\n",
    "FROM eduanalytics.v_student_analytics_master\n",
    "WHERE final_result IS NOT NULL\n",
    "GROUP BY disability\n",
    "ORDER BY success_rate DESC;"
   ]
  },
  {
   "cell_type": "code",
   "execution_count": 0,
   "metadata": {
    "application/vnd.databricks.v1+cell": {
     "cellMetadata": {
      "byteLimit": 2048000,
      "rowLimit": 10000
     },
     "inputWidgets": {},
     "nuid": "ff76ed02-6637-49e5-b4cd-fa7b8edb730b",
     "showTitle": false,
     "tableResultSettingsMap": {},
     "title": ""
    }
   },
   "outputs": [],
   "source": [
    "-- Query 12: Summary Dashboard View\n",
    "CREATE OR REPLACE VIEW eduanalytics.v_dashboard_summary AS\n",
    "SELECT \n",
    "    -- Overall metrics\n",
    "    COUNT(*) as total_students,\n",
    "    COUNT(DISTINCT code_module) as total_modules,\n",
    "    COUNT(DISTINCT CONCAT(code_module, '_', code_presentation)) as total_presentations,\n",
    "    \n",
    "    -- Performance metrics\n",
    "    ROUND(AVG(average_score), 2) as overall_avg_score,\n",
    "    ROUND(SUM(CASE WHEN final_result IN ('Pass', 'Distinction') THEN 1 ELSE 0 END) * 100.0 / COUNT(*), 2) as overall_success_rate,\n",
    "    \n",
    "    -- Engagement metrics\n",
    "    ROUND(AVG(total_clicks), 2) as avg_total_clicks,\n",
    "    ROUND(AVG(unique_resources_accessed), 2) as avg_resources_accessed,\n",
    "    \n",
    "    -- Risk distribution\n",
    "    ROUND(SUM(CASE WHEN total_clicks < 100 AND average_score < 40 THEN 1 ELSE 0 END) * 100.0 / COUNT(*), 2) as high_risk_percentage,\n",
    "    ROUND(SUM(CASE WHEN total_clicks < 300 OR average_score < 50 THEN 1 ELSE 0 END) * 100.0 / COUNT(*), 2) as medium_risk_percentage,\n",
    "    \n",
    "    -- Demographics\n",
    "    ROUND(SUM(CASE WHEN gender = 'F' THEN 1 ELSE 0 END) * 100.0 / COUNT(*), 2) as female_percentage,\n",
    "    ROUND(SUM(CASE WHEN disability = 'Y' THEN 1 ELSE 0 END) * 100.0 / COUNT(*), 2) as disability_percentage,\n",
    "    \n",
    "    -- Engagement levels\n",
    "    ROUND(SUM(CASE WHEN engagement_level = 'High' THEN 1 ELSE 0 END) * 100.0 / COUNT(*), 2) as high_engagement_percentage,\n",
    "    ROUND(SUM(CASE WHEN engagement_level = 'No Engagement' THEN 1 ELSE 0 END) * 100.0 / COUNT(*), 2) as no_engagement_percentage\n",
    "    \n",
    "FROM eduanalytics.v_student_analytics_master\n",
    "WHERE final_result IS NOT NULL;\n",
    "\n",
    "-- Display the dashboard summary\n",
    "SELECT * FROM eduanalytics.v_dashboard_summary;\n"
   ]
  },
  {
   "cell_type": "code",
   "execution_count": 0,
   "metadata": {
    "application/vnd.databricks.v1+cell": {
     "cellMetadata": {
      "byteLimit": 2048000,
      "rowLimit": 10000
     },
     "inputWidgets": {},
     "nuid": "1192e9b5-43a0-4436-a1d9-035b1e59c7a0",
     "showTitle": false,
     "tableResultSettingsMap": {},
     "title": ""
    }
   },
   "outputs": [],
   "source": [
    "-- Final data export queries for visualization tools\n",
    "-- Export 1: Student performance data for dashboards\n",
    "SELECT \n",
    "    code_module,\n",
    "    code_presentation,\n",
    "    final_result,\n",
    "    gender,\n",
    "    age_band,\n",
    "    highest_education,\n",
    "    disability,\n",
    "    total_clicks,\n",
    "    average_score,\n",
    "    engagement_level,\n",
    "    unique_resources_accessed,\n",
    "    total_assessments_submitted,\n",
    "    CASE \n",
    "        WHEN total_clicks < 100 AND average_score < 40 THEN 'High Risk'\n",
    "        WHEN total_clicks < 300 OR average_score < 50 THEN 'Medium Risk'\n",
    "        ELSE 'Low Risk'\n",
    "    END as risk_level\n",
    "FROM eduanalytics.v_student_analytics_master\n",
    "WHERE final_result IS NOT NULL\n",
    "ORDER BY code_module, code_presentation, average_score DESC;"
   ]
  },
  {
   "cell_type": "code",
   "execution_count": 0,
   "metadata": {
    "application/vnd.databricks.v1+cell": {
     "cellMetadata": {
      "byteLimit": 2048000,
      "rowLimit": 10000
     },
     "inputWidgets": {},
     "nuid": "44f6c4a8-2a85-4a56-9056-730b854c3a5b",
     "showTitle": false,
     "tableResultSettingsMap": {},
     "title": ""
    }
   },
   "outputs": [],
   "source": [
    "-- Export 2: Module-level summary for reporting\n",
    "SELECT \n",
    "    code_module,\n",
    "    code_presentation,\n",
    "    COUNT(*) as total_students,\n",
    "    ROUND(AVG(total_clicks), 2) as avg_clicks,\n",
    "    ROUND(AVG(average_score), 2) as avg_score,\n",
    "    ROUND(SUM(CASE WHEN final_result IN ('Pass', 'Distinction') THEN 1 ELSE 0 END) * 100.0 / COUNT(*), 2) as success_rate,\n",
    "    ROUND(SUM(CASE WHEN final_result = 'Withdrawn' THEN 1 ELSE 0 END) * 100.0 / COUNT(*), 2) as withdrawal_rate,\n",
    "    ROUND(AVG(unique_resources_accessed), 2) as avg_resources_used,\n",
    "    COUNT(CASE WHEN engagement_level = 'High' THEN 1 END) as high_engagement_students,\n",
    "    COUNT(CASE WHEN engagement_level = 'No Engagement' THEN 1 END) as no_engagement_students\n",
    "FROM eduanalytics.v_student_analytics_master\n",
    "WHERE final_result IS NOT NULL\n",
    "GROUP BY code_module, code_presentation\n",
    "ORDER BY code_module, code_presentation;"
   ]
  },
  {
   "cell_type": "code",
   "execution_count": 0,
   "metadata": {
    "application/vnd.databricks.v1+cell": {
     "cellMetadata": {
      "byteLimit": 2048000,
      "rowLimit": 10000
     },
     "inputWidgets": {},
     "nuid": "b7c0d380-f31f-44fb-b3f9-f5952eeae22e",
     "showTitle": false,
     "tableResultSettingsMap": {},
     "title": ""
    }
   },
   "outputs": [],
   "source": [
    "-- Export 3: Time-series data for trend analysis (if needed)\n",
    "SELECT \n",
    "    code_module,\n",
    "    code_presentation,\n",
    "    DATE_TRUNC('week', first_interaction_date) as week_start,\n",
    "    COUNT(*) as students_starting_engagement,\n",
    "    AVG(total_clicks) as avg_eventual_clicks,\n",
    "    AVG(average_score) as avg_eventual_score\n",
    "FROM eduanalytics.v_student_analytics_master\n",
    "WHERE first_interaction_date IS NOT NULL AND final_result IS NOT NULL\n",
    "GROUP BY code_module, code_presentation, DATE_TRUNC('week', first_interaction_date)\n",
    "ORDER BY code_module, code_presentation, week_start;"
   ]
  }
 ],
 "metadata": {
  "application/vnd.databricks.v1+notebook": {
   "computePreferences": null,
   "dashboards": [],
   "environmentMetadata": {
    "base_environment": "",
    "environment_version": "2"
   },
   "inputWidgetPreferences": null,
   "language": "sql",
   "notebookMetadata": {
    "pythonIndentUnit": 4
   },
   "notebookName": "03-analysis-dashboard",
   "widgets": {}
  },
  "language_info": {
   "name": "sql"
  }
 },
 "nbformat": 4,
 "nbformat_minor": 0
}
