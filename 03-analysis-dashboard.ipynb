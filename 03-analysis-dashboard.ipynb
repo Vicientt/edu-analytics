{
 "cells": [
  {
   "cell_type": "markdown",
   "metadata": {
    "application/vnd.databricks.v1+cell": {
     "cellMetadata": {},
     "inputWidgets": {},
     "nuid": "ced7d1ca-8036-4582-a0dc-693673642122",
     "showTitle": false,
     "tableResultSettingsMap": {},
     "title": ""
    }
   },
   "source": [
    "### 3. Analysis & Insights\n",
    "**Objective**\n",
    "Execute comprehensive data-driven analysis using SQL to uncover actionable insights about student learning patterns, performance predictors, and at-risk student identification within the OULAD dataset."
   ]
  },
  {
   "cell_type": "markdown",
   "metadata": {
    "application/vnd.databricks.v1+cell": {
     "cellMetadata": {},
     "inputWidgets": {},
     "nuid": "177c7eba-57a7-453c-8841-42e79e1efe69",
     "showTitle": false,
     "tableResultSettingsMap": {},
     "title": ""
    }
   },
   "source": [
    "**Analysis Framework**\n",
    "\n",
    "This analysis employs 12 strategic queries and dashboard preparation to answer critical educational questions:\n",
    "\n",
    "- **What drives student success vs. failure?**\n",
    "- **Can we predict at-risk students early?**\n",
    "- **How do demographics impact learning outcomes?**\n",
    "- **Which engagement patterns lead to better performance?**"
   ]
  },
  {
   "cell_type": "code",
   "execution_count": 0,
   "metadata": {
    "application/vnd.databricks.v1+cell": {
     "cellMetadata": {
      "byteLimit": 2048000,
      "rowLimit": 10000
     },
     "inputWidgets": {},
     "nuid": "b09b8885-7a29-46f5-8526-6a38f5e3d140",
     "showTitle": false,
     "tableResultSettingsMap": {},
     "title": ""
    }
   },
   "outputs": [],
   "source": [
    "-- Set database context\n",
    "USE eduanalytics;\n",
    "\n",
    "-- Query 1: Overall Performance Distribution\n",
    "SELECT \n",
    "    'Performance Distribution' as analysis_type,\n",
    "    final_result,\n",
    "    COUNT(*) as student_count,\n",
    "    ROUND(COUNT(*) * 100.0 / SUM(COUNT(*)) OVER(), 2) as percentage\n",
    "FROM eduanalytics.v_student_analytics_master\n",
    "GROUP BY final_result\n",
    "ORDER BY student_count DESC;"
   ]
  },
  {
   "cell_type": "markdown",
   "metadata": {
    "application/vnd.databricks.v1+cell": {
     "cellMetadata": {},
     "inputWidgets": {},
     "nuid": "6ab17d80-a2b7-4acb-af5e-5256086615e7",
     "showTitle": false,
     "tableResultSettingsMap": {},
     "title": ""
    }
   },
   "source": [
    "Overall Student Performance Distribution:\n",
    "> Only 1 in 3 students crosses the finish line successfully. Nearly a third simply disappear—withdrawing before they fail. \n",
    "- **Pass rate is 37.93%** - the largest single category with 12,361 students.\n",
    "- **High withdrawal rate of 31.16%** (10,156 students) indicates significant attrition.\n",
    "- **Failure rate is 21.64%** (7,052 students).\n",
    "- Only **9.28% achieve distinction** (3,024), suggesting high academic standards. "
   ]
  },
  {
   "cell_type": "code",
   "execution_count": 0,
   "metadata": {
    "application/vnd.databricks.v1+cell": {
     "cellMetadata": {
      "byteLimit": 2048000,
      "rowLimit": 10000
     },
     "inputWidgets": {},
     "nuid": "770ccebf-3c1b-40e6-b96c-dfd985e66b9a",
     "showTitle": false,
     "tableResultSettingsMap": {},
     "title": ""
    }
   },
   "outputs": [],
   "source": [
    "-- Query 2: Engagement vs Academic Performance\n",
    "SELECT \n",
    "    'Engagement vs Performance' as analysis_type,\n",
    "    engagement_level,\n",
    "    final_result,\n",
    "    COUNT(*) as student_count,\n",
    "    ROUND(AVG(average_score), 2) as avg_assessment_score,\n",
    "    ROUND(AVG(total_clicks), 2) as avg_total_clicks\n",
    "FROM eduanalytics.v_student_analytics_master\n",
    "WHERE final_result IS NOT NULL\n",
    "GROUP BY engagement_level, final_result\n",
    "ORDER BY engagement_level, final_result;"
   ]
  },
  {
   "cell_type": "markdown",
   "metadata": {
    "application/vnd.databricks.v1+cell": {
     "cellMetadata": {},
     "inputWidgets": {},
     "nuid": "1c9de003-1473-46d8-bc50-8f44483232c9",
     "showTitle": false,
     "tableResultSettingsMap": {},
     "title": ""
    }
   },
   "source": [
    "**Engagement vs Academic Performance**\n",
    "> High engagement correlates with better outcomes, but the \"No Engagement\" group has surprisingly decent assessment scores (around 69), suggesting some students succeed despite minimal platform interaction.\n",
    "\n",
    "**High engagement students statistics:**\n",
    "- Pass rate: 76.91% vs 73.43% (low) vs 74.65% (medium)\n",
    "- Assessment scores: 88.86 vs 84.28 vs 86.62\n",
    "- Total clicks: 3422.95 vs 350.1 vs 738.11"
   ]
  },
  {
   "cell_type": "code",
   "execution_count": 0,
   "metadata": {
    "application/vnd.databricks.v1+cell": {
     "cellMetadata": {
      "byteLimit": 2048000,
      "rowLimit": 10000
     },
     "inputWidgets": {},
     "nuid": "bf86880c-fbe7-4f3e-af15-d7d68b84d659",
     "showTitle": false,
     "tableResultSettingsMap": {},
     "title": ""
    }
   },
   "outputs": [],
   "source": [
    "-- Query 3: Demographics Impact Analysis\n",
    "SELECT \n",
    "    'Demographics Analysis' as analysis_type,\n",
    "    gender,\n",
    "    age_band,\n",
    "    COUNT(*) as student_count,\n",
    "    ROUND(AVG(total_clicks), 2) as avg_clicks,\n",
    "    ROUND(AVG(average_score), 2) as avg_score,\n",
    "    ROUND(SUM(CASE WHEN final_result IN ('Pass', 'Distinction') THEN 1 ELSE 0 END) * 100.0 / COUNT(*), 2) as success_rate\n",
    "FROM eduanalytics.v_student_analytics_master\n",
    "WHERE final_result IS NOT NULL AND average_score IS NOT NULL\n",
    "GROUP BY gender, age_band\n",
    "ORDER BY success_rate DESC;"
   ]
  },
  {
   "cell_type": "markdown",
   "metadata": {
    "application/vnd.databricks.v1+cell": {
     "cellMetadata": {},
     "inputWidgets": {},
     "nuid": "7b39c1a0-f326-4867-b8bb-84f99aa2d524",
     "showTitle": false,
     "tableResultSettingsMap": {},
     "title": ""
    }
   },
   "source": [
    "**Demographics Impact**\n",
    "> Older students (55+) achieve better outcomes with less platform activity, possibly indicating more focused study habits.\n",
    "- Males aged 55+ show the highest success rate (71.26%) despite lower engagement\n",
    "- Younger students (0-35) have lower success rates across both genders\n",
    "- Female students aged 35-55 perform well (65.68% success rate) with moderate engagement\n"
   ]
  },
  {
   "cell_type": "code",
   "execution_count": 0,
   "metadata": {
    "application/vnd.databricks.v1+cell": {
     "cellMetadata": {
      "byteLimit": 2048000,
      "rowLimit": 10000
     },
     "inputWidgets": {},
     "nuid": "390d5b01-ed8a-4bc6-97fe-ccff6a73b53e",
     "showTitle": false,
     "tableResultSettingsMap": {},
     "title": ""
    }
   },
   "outputs": [],
   "source": [
    "-- Query 4: Module Performance Comparison\n",
    "SELECT \n",
    "    'Module Comparison' as analysis_type,\n",
    "    code_module,\n",
    "    COUNT(*) as total_students,\n",
    "    ROUND(AVG(total_clicks), 2) as avg_clicks,\n",
    "    ROUND(AVG(average_score), 2) as avg_score,\n",
    "    ROUND(SUM(CASE WHEN final_result IN ('Pass', 'Distinction') THEN 1 ELSE 0 END) * 100.0 / COUNT(*), 2) as success_rate,\n",
    "    ROUND(AVG(unique_resources_accessed), 2) as avg_resources_used\n",
    "FROM eduanalytics.v_student_analytics_master\n",
    "WHERE final_result IS NOT NULL\n",
    "GROUP BY code_module\n",
    "ORDER BY success_rate DESC;\n"
   ]
  },
  {
   "cell_type": "markdown",
   "metadata": {
    "application/vnd.databricks.v1+cell": {
     "cellMetadata": {},
     "inputWidgets": {},
     "nuid": "d8e0d077-3b08-4b3a-b333-0a719528022b",
     "showTitle": false,
     "tableResultSettingsMap": {},
     "title": ""
    }
   },
   "source": [
    "**Module Performance Comparison**\n",
    "- **AAA module leads** with 70.99% success rate and second highest engagement (1666.65 clicks)\n",
    "- **GGG and EEE modules** perform well (59.75% and 56.24% respectively)\n",
    "- **CCC module struggles most** with only 37.84% success rate despite moderate engagement and second highest number of total students."
   ]
  },
  {
   "cell_type": "code",
   "execution_count": 0,
   "metadata": {
    "application/vnd.databricks.v1+cell": {
     "cellMetadata": {
      "byteLimit": 2048000,
      "rowLimit": 10000
     },
     "inputWidgets": {},
     "nuid": "6110a0b2-a66a-4a3b-8644-dac3f0891bb8",
     "showTitle": false,
     "tableResultSettingsMap": {},
     "title": ""
    }
   },
   "outputs": [],
   "source": [
    "-- Query 5: Early Warning Indicators\n",
    "WITH risk_categorized AS (\n",
    "    SELECT \n",
    "        id_student,\n",
    "        total_clicks,\n",
    "        average_score,\n",
    "        total_assessments_submitted,\n",
    "        CASE \n",
    "            WHEN total_clicks < 100 AND average_score < 40 THEN 'High Risk'\n",
    "            WHEN total_clicks < 300 OR average_score < 50 THEN 'Medium Risk'\n",
    "            ELSE 'Low Risk'\n",
    "        END as risk_level\n",
    "    FROM eduanalytics.v_student_analytics_master\n",
    "    WHERE final_result IS NOT NULL AND average_score IS NOT NULL\n",
    ")\n",
    "SELECT \n",
    "    'Early Warning Analysis' as analysis_type,\n",
    "    risk_level,\n",
    "    COUNT(id_student) as student_count,\n",
    "    ROUND(AVG(total_clicks), 2) as avg_clicks,\n",
    "    ROUND(AVG(average_score), 2) as avg_score,\n",
    "    ROUND(AVG(total_assessments_submitted), 2) as avg_assessments_submitted\n",
    "FROM risk_categorized\n",
    "GROUP BY risk_level\n",
    "ORDER BY \n",
    "    CASE risk_level \n",
    "        WHEN 'High Risk' THEN 1\n",
    "        WHEN 'Medium Risk' THEN 2\n",
    "        ELSE 3\n",
    "    END;"
   ]
  },
  {
   "cell_type": "markdown",
   "metadata": {
    "application/vnd.databricks.v1+cell": {
     "cellMetadata": {},
     "inputWidgets": {},
     "nuid": "22824542-cacf-4098-8f3c-facb718085b8",
     "showTitle": false,
     "tableResultSettingsMap": {},
     "title": ""
    }
   },
   "source": [
    "**Early Warnings Indicator**\n",
    "> Strong correlation between engagement and outcomes. High-risk students show 42x lower platform interaction (44 vs 1,887 clicks) and minimal assessment completion (1.84 vs 8.74 submissions).\n",
    "- **High Risk:** 206 students (0.8%) - Critical intervention needed\n",
    "- **Medium Risk:** 6,664 students (25%) - Enhanced support required\n",
    "- **Low Risk:** 19,857 students (73%) - Standard monitoring"
   ]
  },
  {
   "cell_type": "code",
   "execution_count": 0,
   "metadata": {
    "application/vnd.databricks.v1+cell": {
     "cellMetadata": {
      "byteLimit": 2048000,
      "rowLimit": 10000
     },
     "inputWidgets": {},
     "nuid": "4ec36a4b-779c-4363-9405-54b04d1cf452",
     "showTitle": false,
     "tableResultSettingsMap": {},
     "title": ""
    }
   },
   "outputs": [],
   "source": [
    "-- Query 6: Assessment Type Performance Analysis\n",
    "WITH assessment_scores AS (\n",
    "    SELECT \n",
    "        'TMA' as assessment_type,\n",
    "        avg_tma_score as score,\n",
    "        id_student\n",
    "    FROM eduanalytics.v_student_analytics_master\n",
    "    WHERE avg_tma_score IS NOT NULL\n",
    "    \n",
    "    UNION ALL\n",
    "    \n",
    "    SELECT \n",
    "        'CMA' as assessment_type,\n",
    "        avg_cma_score as score,\n",
    "        id_student\n",
    "    FROM eduanalytics.v_student_analytics_master\n",
    "    WHERE avg_cma_score IS NOT NULL\n",
    "    \n",
    "    UNION ALL\n",
    "    \n",
    "    SELECT \n",
    "        'Exam' as assessment_type,\n",
    "        avg_exam_score as score,\n",
    "        id_student\n",
    "    FROM eduanalytics.v_student_analytics_master\n",
    "    WHERE avg_exam_score IS NOT NULL\n",
    ")\n",
    "SELECT \n",
    "    'Assessment Type Analysis' as analysis_type,\n",
    "    assessment_type,\n",
    "    COUNT(*) as students_with_scores,\n",
    "    ROUND(AVG(score), 2) as average_score,\n",
    "    ROUND(MIN(score), 2) as min_score,\n",
    "    ROUND(MAX(score), 2) as max_score,\n",
    "    ROUND(STDDEV(score), 2) as score_std_dev\n",
    "FROM assessment_scores\n",
    "GROUP BY assessment_type\n",
    "ORDER BY average_score DESC;\n"
   ]
  },
  {
   "cell_type": "markdown",
   "metadata": {
    "application/vnd.databricks.v1+cell": {
     "cellMetadata": {},
     "inputWidgets": {},
     "nuid": "c9117205-79b8-48fd-bddf-a44a8f321f75",
     "showTitle": false,
     "tableResultSettingsMap": {},
     "title": ""
    }
   },
   "source": [
    "**Assessment Type Analysis**\n",
    "> Computer-marked assessments yield the highest scores with lowest standard deviation (17.99), suggesting either more accessible content or grade inflation. Exams show the most challenging performance with highest variability (20.48 std dev), indicating authentic assessment difficulty.\n",
    "\n",
    "1. Assessment Participation:\n",
    "\n",
    "- **TMA (Tutor Marked Assignments):** 25,960 students (97% participation)\n",
    "- **CMA (Computer Marked Assessments):** 16,944 students (63% participation)\n",
    "- **Exam:** 5,998 students (22% participation)\n",
    "\n",
    "2. Performance Hierarchy:\n",
    "\n",
    "- **CMA:** 78% average (highest performance, lowest variability)\n",
    "- **TMA:** 71.35% average (consistent performance across largest cohort)\n",
    "- **Exam:** 65.01% average (lowest performance, highest variability)\n"
   ]
  },
  {
   "cell_type": "code",
   "execution_count": 0,
   "metadata": {
    "application/vnd.databricks.v1+cell": {
     "cellMetadata": {
      "byteLimit": 2048000,
      "rowLimit": 10000
     },
     "inputWidgets": {},
     "nuid": "1156a113-dfbc-4bff-8b8d-3efb3f4a4c48",
     "showTitle": false,
     "tableResultSettingsMap": {},
     "title": ""
    }
   },
   "outputs": [],
   "source": [
    "-- Query 7: Correlation Analysis - Key Metrics\n",
    "SELECT \n",
    "    'Correlation Analysis' as analysis_type,\n",
    "    'Clicks vs Score' as metric_pair,\n",
    "    ROUND(CORR(total_clicks, average_score), 3) as correlation_coefficient,\n",
    "    COUNT(*) as sample_size\n",
    "FROM eduanalytics.v_student_analytics_master\n",
    "WHERE total_clicks > 0 AND average_score IS NOT NULL\n",
    "\n",
    "UNION ALL\n",
    "\n",
    "SELECT \n",
    "    'Correlation Analysis' as analysis_type,\n",
    "    'Resources vs Score' as metric_pair,\n",
    "    ROUND(CORR(unique_resources_accessed, average_score), 3) as correlation_coefficient,\n",
    "    COUNT(*) as sample_size\n",
    "FROM eduanalytics.v_student_analytics_master\n",
    "WHERE unique_resources_accessed > 0 AND average_score IS NOT NULL\n",
    "\n",
    "UNION ALL\n",
    "\n",
    "SELECT \n",
    "    'Correlation Analysis' as analysis_type,\n",
    "    'Engagement Span vs Score' as metric_pair,\n",
    "    ROUND(CORR(engagement_span_days, average_score), 3) as correlation_coefficient,\n",
    "    COUNT(*) as sample_size\n",
    "FROM eduanalytics.v_student_analytics_master\n",
    "WHERE engagement_span_days > 0 AND average_score IS NOT NULL;"
   ]
  },
  {
   "cell_type": "markdown",
   "metadata": {
    "application/vnd.databricks.v1+cell": {
     "cellMetadata": {},
     "inputWidgets": {},
     "nuid": "066bf9e1-6a17-42c7-8325-e3b141ec8b11",
     "showTitle": false,
     "tableResultSettingsMap": {},
     "title": ""
    }
   },
   "source": [
    "**Correlation Analysis**\n",
    "- **Engagement Span vs Score:** 0.299 (strongest predictor)\n",
    "- **Clicks vs Score:** 0.286 (moderate correlation)\n",
    "- **Resources vs Score:** 0.239 (weakest correlation)\n",
    "> Students who maintain consistent engagement over time outperform those who simply access more resources or click frequently in short bursts. Quality of sustained interaction trumps quantity of resource consumption."
   ]
  },
  {
   "cell_type": "code",
   "execution_count": 0,
   "metadata": {
    "application/vnd.databricks.v1+cell": {
     "cellMetadata": {
      "byteLimit": 2048000,
      "rowLimit": 10000
     },
     "inputWidgets": {},
     "nuid": "f21b205b-5e5f-43d0-bcb8-9c98d2858ca1",
     "showTitle": false,
     "tableResultSettingsMap": {},
     "title": ""
    }
   },
   "outputs": [],
   "source": [
    "-- Query 8: Detailed Performance Breakdown by Education Level\n",
    "SELECT \n",
    "    'Education Level Analysis' as analysis_type,\n",
    "    highest_education,\n",
    "    COUNT(*) as student_count,\n",
    "    ROUND(AVG(total_clicks), 2) as avg_clicks,\n",
    "    ROUND(AVG(average_score), 2) as avg_score,\n",
    "    ROUND(AVG(unique_resources_accessed), 2) as avg_resources,\n",
    "    ROUND(SUM(CASE WHEN final_result = 'Pass' THEN 1 ELSE 0 END) * 100.0 / COUNT(*), 2) as pass_rate,\n",
    "    ROUND(SUM(CASE WHEN final_result = 'Distinction' THEN 1 ELSE 0 END) * 100.0 / COUNT(*), 2) as distinction_rate,\n",
    "    ROUND(SUM(CASE WHEN final_result = 'Withdrawn' THEN 1 ELSE 0 END) * 100.0 / COUNT(*), 2) as withdrawal_rate\n",
    "FROM eduanalytics.v_student_analytics_master\n",
    "WHERE final_result IS NOT NULL\n",
    "GROUP BY highest_education\n",
    "ORDER BY avg_score DESC;\n"
   ]
  },
  {
   "cell_type": "markdown",
   "metadata": {
    "application/vnd.databricks.v1+cell": {
     "cellMetadata": {},
     "inputWidgets": {},
     "nuid": "576c3a8b-f8f8-4d54-84a1-90efdd8f84df",
     "showTitle": false,
     "tableResultSettingsMap": {},
     "title": ""
    }
   },
   "source": [
    "**Education Level Analysis**\n",
    "**Student Distribution (N=32,593):**\n",
    "- **A Level or Equivalent:** 14,045 students (43% - largest cohort)\n",
    "- **Lower Than A Level:** 13,158 students (40% - significant population)\n",
    "- **HE Qualification:** 4,730 students (15% - strong performers)\n",
    "- **Post Graduate:** 313 students (1% - elite group)\n",
    "- **No Formal Quals:** 347 students (1% - highest risk)\n",
    "> The 40% cohort with below A-level education represents the highest-volume, highest-risk population requiring targeted support interventions. Withdrawal rates inversely correlate with education level - from 23.6% (post-grad) to 42.9% (no formal quals). Students without formal qualifications are nearly twice as likely to withdraw."
   ]
  },
  {
   "cell_type": "code",
   "execution_count": 0,
   "metadata": {
    "application/vnd.databricks.v1+cell": {
     "cellMetadata": {
      "byteLimit": 2048000,
      "rowLimit": 10000
     },
     "inputWidgets": {},
     "nuid": "ff76ed02-6637-49e5-b4cd-fa7b8edb730b",
     "showTitle": false,
     "tableResultSettingsMap": {},
     "title": ""
    }
   },
   "outputs": [],
   "source": [
    "-- Query 10: Summary Dashboard View\n",
    "CREATE OR REPLACE VIEW eduanalytics.v_dashboard_summary AS\n",
    "SELECT \n",
    "    -- Overall metrics\n",
    "    COUNT(*) as total_students,\n",
    "    COUNT(DISTINCT code_module) as total_modules,\n",
    "    COUNT(DISTINCT CONCAT(code_module, '_', code_presentation)) as total_presentations,\n",
    "    \n",
    "    -- Performance metrics\n",
    "    ROUND(AVG(average_score), 2) as overall_avg_score,\n",
    "    ROUND(SUM(CASE WHEN final_result IN ('Pass', 'Distinction') THEN 1 ELSE 0 END) * 100.0 / COUNT(*), 2) as overall_success_rate,\n",
    "    \n",
    "    -- Engagement metrics\n",
    "    ROUND(AVG(total_clicks), 2) as avg_total_clicks,\n",
    "    ROUND(AVG(unique_resources_accessed), 2) as avg_resources_accessed,\n",
    "    \n",
    "    -- Risk distribution\n",
    "    ROUND(SUM(CASE WHEN total_clicks < 100 AND average_score < 40 THEN 1 ELSE 0 END) * 100.0 / COUNT(*), 2) as high_risk_percentage,\n",
    "    ROUND(SUM(CASE WHEN total_clicks < 300 OR average_score < 50 THEN 1 ELSE 0 END) * 100.0 / COUNT(*), 2) as medium_risk_percentage,\n",
    "    \n",
    "    -- Demographics\n",
    "    ROUND(SUM(CASE WHEN gender = 'F' THEN 1 ELSE 0 END) * 100.0 / COUNT(*), 2) as female_percentage,\n",
    "    ROUND(SUM(CASE WHEN disability = 'Y' THEN 1 ELSE 0 END) * 100.0 / COUNT(*), 2) as disability_percentage,\n",
    "    \n",
    "    -- Engagement levels\n",
    "    ROUND(SUM(CASE WHEN engagement_level = 'High' THEN 1 ELSE 0 END) * 100.0 / COUNT(*), 2) as high_engagement_percentage,\n",
    "    ROUND(SUM(CASE WHEN engagement_level = 'No Engagement' THEN 1 ELSE 0 END) * 100.0 / COUNT(*), 2) as no_engagement_percentage\n",
    "    \n",
    "FROM eduanalytics.v_student_analytics_master\n",
    "WHERE final_result IS NOT NULL;\n",
    "\n",
    "-- Display the dashboard summary\n",
    "SELECT * FROM eduanalytics.v_dashboard_summary;\n"
   ]
  },
  {
   "cell_type": "markdown",
   "metadata": {
    "application/vnd.databricks.v1+cell": {
     "cellMetadata": {},
     "inputWidgets": {},
     "nuid": "5b4ed0c4-d995-488a-9ed0-131985dc640a",
     "showTitle": false,
     "tableResultSettingsMap": {},
     "title": ""
    }
   },
   "source": [
    "## OULAD Dashboard: The Complete Picture\n",
    "\n",
    "**Scale & Scope:**  \n",
    "32,593 students across 7 modules and 22 presentations - representing comprehensive online learning analytics.\n",
    "\n",
    "**Academic Performance:**\n",
    "- **Average Score**: 72.8% (solid performance)\n",
    "- **Success Rate**: 47.2% (concerning - less than half succeed)\n",
    "- **Risk Profile**: 39% medium/high risk students need intervention\n",
    "\n",
    "**Engagement Reality:**\n",
    "- **Active Learners**: 37% show high engagement (1,215 avg clicks)\n",
    "- **Digital Dropouts**: 10% show no engagement - already lost\n",
    "- **Resource Utilization**: 60 resources accessed per student on average\n",
    "\n",
    "**Demographics:**\n",
    "- **Gender**: 45% female representation\n",
    "- **Accessibility**: 10% students with disabilities require specialized support\n",
    "\n",
    "**Critical Finding:**  \n",
    "Despite decent academic scores (73%), the **47% success rate** reveals a completion crisis. One in ten students shows zero engagement, while 39% are at-risk - indicating systemic retention challenges in online education.\n",
    "\n",
    "**Bottom Line:**  \n",
    "Strong academic performance among engaged students, but significant attrition and engagement gaps require immediate institutional intervention strategies."
   ]
  },
  {
   "cell_type": "markdown",
   "metadata": {
    "application/vnd.databricks.v1+cell": {
     "cellMetadata": {},
     "inputWidgets": {},
     "nuid": "22c362fe-c39b-43a6-b053-853d94f2f382",
     "showTitle": false,
     "tableResultSettingsMap": {},
     "title": ""
    }
   },
   "source": [
    "### 3. Data Mart Creation: From OLAP to Specialized Analytics\n",
    "\n",
    "Our OLAP layer (`v_student_analytics_master`) provides comprehensive student analytics, but BI tools need **specialized, performance-optimized datasets**. The following export queries transform our unified OLAP data into focused **data marts** tailored for specific business functions:"
   ]
  },
  {
   "cell_type": "code",
   "execution_count": 0,
   "metadata": {
    "application/vnd.databricks.v1+cell": {
     "cellMetadata": {
      "byteLimit": 2048000,
      "rowLimit": 10000
     },
     "inputWidgets": {},
     "nuid": "1192e9b5-43a0-4436-a1d9-035b1e59c7a0",
     "showTitle": false,
     "tableResultSettingsMap": {},
     "title": ""
    }
   },
   "outputs": [],
   "source": [
    "-- Final data export queries for visualization tools\n",
    "-- Export 1: Student performance data for dashboards\n",
    "SELECT \n",
    "    code_module,\n",
    "    code_presentation,\n",
    "    final_result,\n",
    "    gender,\n",
    "    age_band,\n",
    "    highest_education,\n",
    "    disability,\n",
    "    total_clicks,\n",
    "    average_score,\n",
    "    engagement_level,\n",
    "    unique_resources_accessed,\n",
    "    total_assessments_submitted,\n",
    "    CASE \n",
    "        WHEN total_clicks < 100 AND average_score < 40 THEN 'High Risk'\n",
    "        WHEN total_clicks < 300 OR average_score < 50 THEN 'Medium Risk'\n",
    "        ELSE 'Low Risk'\n",
    "    END as risk_level\n",
    "FROM eduanalytics.v_student_analytics_master\n",
    "WHERE final_result IS NOT NULL\n",
    "ORDER BY code_module, code_presentation, average_score DESC;"
   ]
  },
  {
   "cell_type": "code",
   "execution_count": 0,
   "metadata": {
    "application/vnd.databricks.v1+cell": {
     "cellMetadata": {
      "byteLimit": 2048000,
      "rowLimit": 10000
     },
     "inputWidgets": {},
     "nuid": "44f6c4a8-2a85-4a56-9056-730b854c3a5b",
     "showTitle": false,
     "tableResultSettingsMap": {},
     "title": ""
    }
   },
   "outputs": [],
   "source": [
    "-- Export 2: Module-level summary for reporting\n",
    "SELECT \n",
    "    code_module,\n",
    "    code_presentation,\n",
    "    COUNT(*) as total_students,\n",
    "    ROUND(AVG(total_clicks), 2) as avg_clicks,\n",
    "    ROUND(AVG(average_score), 2) as avg_score,\n",
    "    ROUND(SUM(CASE WHEN final_result IN ('Pass', 'Distinction') THEN 1 ELSE 0 END) * 100.0 / COUNT(*), 2) as success_rate,\n",
    "    ROUND(SUM(CASE WHEN final_result = 'Withdrawn' THEN 1 ELSE 0 END) * 100.0 / COUNT(*), 2) as withdrawal_rate,\n",
    "    ROUND(AVG(unique_resources_accessed), 2) as avg_resources_used,\n",
    "    COUNT(CASE WHEN engagement_level = 'High' THEN 1 END) as high_engagement_students,\n",
    "    COUNT(CASE WHEN engagement_level = 'No Engagement' THEN 1 END) as no_engagement_students\n",
    "FROM eduanalytics.v_student_analytics_master\n",
    "WHERE final_result IS NOT NULL\n",
    "GROUP BY code_module, code_presentation\n",
    "ORDER BY code_module, code_presentation;"
   ]
  },
  {
   "cell_type": "code",
   "execution_count": 0,
   "metadata": {
    "application/vnd.databricks.v1+cell": {
     "cellMetadata": {
      "byteLimit": 2048000,
      "rowLimit": 10000
     },
     "inputWidgets": {},
     "nuid": "b7c0d380-f31f-44fb-b3f9-f5952eeae22e",
     "showTitle": false,
     "tableResultSettingsMap": {},
     "title": ""
    }
   },
   "outputs": [],
   "source": [
    "-- Export 3: Time-series data for trend analysis\n",
    "SELECT \n",
    "    code_module,\n",
    "    code_presentation,\n",
    "    DATE_TRUNC('week', first_interaction_date) as week_start,\n",
    "    COUNT(*) as students_starting_engagement,\n",
    "    AVG(total_clicks) as avg_eventual_clicks,\n",
    "    AVG(average_score) as avg_eventual_score\n",
    "FROM eduanalytics.v_student_analytics_master\n",
    "WHERE first_interaction_date IS NOT NULL AND final_result IS NOT NULL\n",
    "GROUP BY code_module, code_presentation, DATE_TRUNC('week', first_interaction_date)\n",
    "ORDER BY code_module, code_presentation, week_start;"
   ]
  }
 ],
 "metadata": {
  "application/vnd.databricks.v1+notebook": {
   "computePreferences": null,
   "dashboards": [],
   "environmentMetadata": {
    "base_environment": "",
    "environment_version": "2"
   },
   "inputWidgetPreferences": null,
   "language": "sql",
   "notebookMetadata": {
    "pythonIndentUnit": 4
   },
   "notebookName": "03-analysis-dashboard",
   "widgets": {}
  },
  "language_info": {
   "name": "sql"
  }
 },
 "nbformat": 4,
 "nbformat_minor": 0
}
