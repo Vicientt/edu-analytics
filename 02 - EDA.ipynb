{
 "cells": [
  {
   "cell_type": "markdown",
   "metadata": {
    "application/vnd.databricks.v1+cell": {
     "cellMetadata": {},
     "inputWidgets": {},
     "nuid": "6993c3e6-7bad-4b5d-9703-4bd00ad28030",
     "showTitle": false,
     "tableResultSettingsMap": {},
     "title": ""
    }
   },
   "source": [
    "## STUDENT INFO"
   ]
  },
  {
   "cell_type": "code",
   "execution_count": 0,
   "metadata": {
    "application/vnd.databricks.v1+cell": {
     "cellMetadata": {
      "byteLimit": 2048000,
      "rowLimit": 10000
     },
     "inputWidgets": {},
     "nuid": "4f945aa0-19d2-435b-abed-2413848ac63e",
     "showTitle": false,
     "tableResultSettingsMap": {},
     "title": ""
    }
   },
   "outputs": [
    {
     "output_type": "display_data",
     "data": {
      "text/html": [
       "<style scoped>\n",
       "  .table-result-container {\n",
       "    max-height: 300px;\n",
       "    overflow: auto;\n",
       "  }\n",
       "  table, th, td {\n",
       "    border: 1px solid black;\n",
       "    border-collapse: collapse;\n",
       "  }\n",
       "  th, td {\n",
       "    padding: 5px;\n",
       "  }\n",
       "  th {\n",
       "    text-align: left;\n",
       "  }\n",
       "</style><div class='table-result-container'><table class='table-result'><thead style='background-color: white'><tr><th>code_module</th><th>code_presentation</th><th>id_student</th><th>gender</th><th>region</th><th>highest_education</th><th>imd_band</th><th>age_band</th><th>num_of_prev_attempts</th><th>studied_credits</th><th>disability</th><th>final_result</th></tr></thead><tbody><tr><td>AAA</td><td>2013J</td><td>11391</td><td>M</td><td>East Anglian Region</td><td>HE Qualification</td><td>90-100%</td><td>55<=</td><td>0</td><td>240</td><td>N</td><td>Pass</td></tr><tr><td>AAA</td><td>2013J</td><td>28400</td><td>F</td><td>Scotland</td><td>HE Qualification</td><td>20-30%</td><td>35-55</td><td>0</td><td>60</td><td>N</td><td>Pass</td></tr><tr><td>AAA</td><td>2013J</td><td>30268</td><td>F</td><td>North Western Region</td><td>A Level or Equivalent</td><td>30-40%</td><td>35-55</td><td>0</td><td>60</td><td>Y</td><td>Withdrawn</td></tr><tr><td>AAA</td><td>2013J</td><td>31604</td><td>F</td><td>South East Region</td><td>A Level or Equivalent</td><td>50-60%</td><td>35-55</td><td>0</td><td>60</td><td>N</td><td>Pass</td></tr><tr><td>AAA</td><td>2013J</td><td>32885</td><td>F</td><td>West Midlands Region</td><td>Lower Than A Level</td><td>50-60%</td><td>0-35</td><td>0</td><td>60</td><td>N</td><td>Pass</td></tr><tr><td>AAA</td><td>2013J</td><td>38053</td><td>M</td><td>Wales</td><td>A Level or Equivalent</td><td>80-90%</td><td>35-55</td><td>0</td><td>60</td><td>N</td><td>Pass</td></tr><tr><td>AAA</td><td>2013J</td><td>45462</td><td>M</td><td>Scotland</td><td>HE Qualification</td><td>30-40%</td><td>0-35</td><td>0</td><td>60</td><td>N</td><td>Pass</td></tr><tr><td>AAA</td><td>2013J</td><td>45642</td><td>F</td><td>North Western Region</td><td>A Level or Equivalent</td><td>90-100%</td><td>0-35</td><td>0</td><td>120</td><td>N</td><td>Pass</td></tr><tr><td>AAA</td><td>2013J</td><td>52130</td><td>F</td><td>East Anglian Region</td><td>A Level or Equivalent</td><td>70-80%</td><td>0-35</td><td>0</td><td>90</td><td>N</td><td>Pass</td></tr><tr><td>AAA</td><td>2013J</td><td>53025</td><td>M</td><td>North Region</td><td>Post Graduate Qualification</td><td>?</td><td>55<=</td><td>0</td><td>60</td><td>N</td><td>Pass</td></tr></tbody></table></div>"
      ]
     },
     "metadata": {
      "application/vnd.databricks.v1+output": {
       "addedWidgets": {},
       "aggData": [],
       "aggError": "",
       "aggOverflow": false,
       "aggSchema": [],
       "aggSeriesLimitReached": false,
       "aggType": "",
       "arguments": {},
       "columnCustomDisplayInfos": {},
       "data": [
        [
         "AAA",
         "2013J",
         11391,
         "M",
         "East Anglian Region",
         "HE Qualification",
         "90-100%",
         "55<=",
         0,
         240,
         "N",
         "Pass"
        ],
        [
         "AAA",
         "2013J",
         28400,
         "F",
         "Scotland",
         "HE Qualification",
         "20-30%",
         "35-55",
         0,
         60,
         "N",
         "Pass"
        ],
        [
         "AAA",
         "2013J",
         30268,
         "F",
         "North Western Region",
         "A Level or Equivalent",
         "30-40%",
         "35-55",
         0,
         60,
         "Y",
         "Withdrawn"
        ],
        [
         "AAA",
         "2013J",
         31604,
         "F",
         "South East Region",
         "A Level or Equivalent",
         "50-60%",
         "35-55",
         0,
         60,
         "N",
         "Pass"
        ],
        [
         "AAA",
         "2013J",
         32885,
         "F",
         "West Midlands Region",
         "Lower Than A Level",
         "50-60%",
         "0-35",
         0,
         60,
         "N",
         "Pass"
        ],
        [
         "AAA",
         "2013J",
         38053,
         "M",
         "Wales",
         "A Level or Equivalent",
         "80-90%",
         "35-55",
         0,
         60,
         "N",
         "Pass"
        ],
        [
         "AAA",
         "2013J",
         45462,
         "M",
         "Scotland",
         "HE Qualification",
         "30-40%",
         "0-35",
         0,
         60,
         "N",
         "Pass"
        ],
        [
         "AAA",
         "2013J",
         45642,
         "F",
         "North Western Region",
         "A Level or Equivalent",
         "90-100%",
         "0-35",
         0,
         120,
         "N",
         "Pass"
        ],
        [
         "AAA",
         "2013J",
         52130,
         "F",
         "East Anglian Region",
         "A Level or Equivalent",
         "70-80%",
         "0-35",
         0,
         90,
         "N",
         "Pass"
        ],
        [
         "AAA",
         "2013J",
         53025,
         "M",
         "North Region",
         "Post Graduate Qualification",
         "?",
         "55<=",
         0,
         60,
         "N",
         "Pass"
        ]
       ],
       "datasetInfos": [
        {
         "name": "_sqldf",
         "schema": {
          "fields": [
           {
            "metadata": {},
            "name": "code_module",
            "nullable": true,
            "type": "string"
           },
           {
            "metadata": {},
            "name": "code_presentation",
            "nullable": true,
            "type": "string"
           },
           {
            "metadata": {},
            "name": "id_student",
            "nullable": true,
            "type": "integer"
           },
           {
            "metadata": {},
            "name": "gender",
            "nullable": true,
            "type": "string"
           },
           {
            "metadata": {},
            "name": "region",
            "nullable": true,
            "type": "string"
           },
           {
            "metadata": {},
            "name": "highest_education",
            "nullable": true,
            "type": "string"
           },
           {
            "metadata": {},
            "name": "imd_band",
            "nullable": true,
            "type": "string"
           },
           {
            "metadata": {},
            "name": "age_band",
            "nullable": true,
            "type": "string"
           },
           {
            "metadata": {},
            "name": "num_of_prev_attempts",
            "nullable": true,
            "type": "integer"
           },
           {
            "metadata": {},
            "name": "studied_credits",
            "nullable": true,
            "type": "integer"
           },
           {
            "metadata": {},
            "name": "disability",
            "nullable": true,
            "type": "string"
           },
           {
            "metadata": {},
            "name": "final_result",
            "nullable": true,
            "type": "string"
           }
          ],
          "type": "struct"
         },
         "tableIdentifier": null,
         "typeStr": "pyspark.sql.connect.dataframe.DataFrame"
        }
       ],
       "dbfsResultPath": null,
       "isJsonSchema": true,
       "metadata": {
        "createTempViewForImplicitDf": true,
        "dataframeName": "_sqldf",
        "executionCount": 3
       },
       "overflow": false,
       "plotOptions": {
        "customPlotOptions": {},
        "displayType": "table",
        "pivotAggregation": null,
        "pivotColumns": null,
        "xColumns": null,
        "yColumns": null
       },
       "removedWidgets": [],
       "schema": [
        {
         "metadata": "{}",
         "name": "code_module",
         "type": "\"string\""
        },
        {
         "metadata": "{}",
         "name": "code_presentation",
         "type": "\"string\""
        },
        {
         "metadata": "{}",
         "name": "id_student",
         "type": "\"integer\""
        },
        {
         "metadata": "{}",
         "name": "gender",
         "type": "\"string\""
        },
        {
         "metadata": "{}",
         "name": "region",
         "type": "\"string\""
        },
        {
         "metadata": "{}",
         "name": "highest_education",
         "type": "\"string\""
        },
        {
         "metadata": "{}",
         "name": "imd_band",
         "type": "\"string\""
        },
        {
         "metadata": "{}",
         "name": "age_band",
         "type": "\"string\""
        },
        {
         "metadata": "{}",
         "name": "num_of_prev_attempts",
         "type": "\"integer\""
        },
        {
         "metadata": "{}",
         "name": "studied_credits",
         "type": "\"integer\""
        },
        {
         "metadata": "{}",
         "name": "disability",
         "type": "\"string\""
        },
        {
         "metadata": "{}",
         "name": "final_result",
         "type": "\"string\""
        }
       ],
       "type": "table"
      }
     },
     "output_type": "display_data"
    }
   ],
   "source": [
    "SELECT *\n",
    "FROM  \n",
    "  student_info\n",
    "LIMIT 10"
   ]
  },
  {
   "cell_type": "code",
   "execution_count": 0,
   "metadata": {
    "application/vnd.databricks.v1+cell": {
     "cellMetadata": {
      "byteLimit": 2048000,
      "rowLimit": 10000
     },
     "inputWidgets": {},
     "nuid": "8d839d4c-e1b3-453f-8316-4f313f3ad3c8",
     "showTitle": false,
     "tableResultSettingsMap": {},
     "title": ""
    }
   },
   "outputs": [
    {
     "output_type": "display_data",
     "data": {
      "text/html": [
       "<style scoped>\n",
       "  .table-result-container {\n",
       "    max-height: 300px;\n",
       "    overflow: auto;\n",
       "  }\n",
       "  table, th, td {\n",
       "    border: 1px solid black;\n",
       "    border-collapse: collapse;\n",
       "  }\n",
       "  th, td {\n",
       "    padding: 5px;\n",
       "  }\n",
       "  th {\n",
       "    text-align: left;\n",
       "  }\n",
       "</style><div class='table-result-container'><table class='table-result'><thead style='background-color: white'><tr><th>col_name</th><th>data_type</th><th>comment</th></tr></thead><tbody><tr><td>code_module</td><td>string</td><td>null</td></tr><tr><td>code_presentation</td><td>string</td><td>null</td></tr><tr><td>id_student</td><td>int</td><td>null</td></tr><tr><td>gender</td><td>string</td><td>null</td></tr><tr><td>region</td><td>string</td><td>null</td></tr><tr><td>highest_education</td><td>string</td><td>null</td></tr><tr><td>imd_band</td><td>string</td><td>null</td></tr><tr><td>age_band</td><td>string</td><td>null</td></tr><tr><td>num_of_prev_attempts</td><td>int</td><td>null</td></tr><tr><td>studied_credits</td><td>int</td><td>null</td></tr><tr><td>disability</td><td>string</td><td>null</td></tr><tr><td>final_result</td><td>string</td><td>null</td></tr></tbody></table></div>"
      ]
     },
     "metadata": {
      "application/vnd.databricks.v1+output": {
       "addedWidgets": {},
       "aggData": [],
       "aggError": "",
       "aggOverflow": false,
       "aggSchema": [],
       "aggSeriesLimitReached": false,
       "aggType": "",
       "arguments": {},
       "columnCustomDisplayInfos": {},
       "data": [
        [
         "code_module",
         "string",
         null
        ],
        [
         "code_presentation",
         "string",
         null
        ],
        [
         "id_student",
         "int",
         null
        ],
        [
         "gender",
         "string",
         null
        ],
        [
         "region",
         "string",
         null
        ],
        [
         "highest_education",
         "string",
         null
        ],
        [
         "imd_band",
         "string",
         null
        ],
        [
         "age_band",
         "string",
         null
        ],
        [
         "num_of_prev_attempts",
         "int",
         null
        ],
        [
         "studied_credits",
         "int",
         null
        ],
        [
         "disability",
         "string",
         null
        ],
        [
         "final_result",
         "string",
         null
        ]
       ],
       "datasetInfos": [
        {
         "name": "_sqldf",
         "schema": {
          "fields": [
           {
            "metadata": {},
            "name": "col_name",
            "nullable": false,
            "type": "string"
           },
           {
            "metadata": {},
            "name": "data_type",
            "nullable": false,
            "type": "string"
           },
           {
            "metadata": {},
            "name": "comment",
            "nullable": true,
            "type": "string"
           }
          ],
          "type": "struct"
         },
         "tableIdentifier": null,
         "typeStr": "pyspark.sql.connect.dataframe.DataFrame"
        }
       ],
       "dbfsResultPath": null,
       "isJsonSchema": true,
       "metadata": {
        "createTempViewForImplicitDf": true,
        "dataframeName": "_sqldf",
        "executionCount": 1
       },
       "overflow": false,
       "plotOptions": {
        "customPlotOptions": {},
        "displayType": "table",
        "pivotAggregation": null,
        "pivotColumns": null,
        "xColumns": null,
        "yColumns": null
       },
       "removedWidgets": [],
       "schema": [
        {
         "metadata": "{}",
         "name": "col_name",
         "type": "\"string\""
        },
        {
         "metadata": "{}",
         "name": "data_type",
         "type": "\"string\""
        },
        {
         "metadata": "{}",
         "name": "comment",
         "type": "\"string\""
        }
       ],
       "type": "table"
      }
     },
     "output_type": "display_data"
    }
   ],
   "source": [
    "DESCRIBE TABLE student_info"
   ]
  },
  {
   "cell_type": "code",
   "execution_count": 0,
   "metadata": {
    "application/vnd.databricks.v1+cell": {
     "cellMetadata": {
      "byteLimit": 2048000,
      "rowLimit": 10000
     },
     "inputWidgets": {},
     "nuid": "ff6f2495-5a95-4688-8b9d-fae2955feb40",
     "showTitle": false,
     "tableResultSettingsMap": {},
     "title": ""
    }
   },
   "outputs": [
    {
     "output_type": "display_data",
     "data": {
      "text/html": [
       "<style scoped>\n",
       "  .table-result-container {\n",
       "    max-height: 300px;\n",
       "    overflow: auto;\n",
       "  }\n",
       "  table, th, td {\n",
       "    border: 1px solid black;\n",
       "    border-collapse: collapse;\n",
       "  }\n",
       "  th, td {\n",
       "    padding: 5px;\n",
       "  }\n",
       "  th {\n",
       "    text-align: left;\n",
       "  }\n",
       "</style><div class='table-result-container'><table class='table-result'><thead style='background-color: white'><tr><th>check_code_module</th><th>check_code_presentation</th><th>check_id_student</th><th>check_gender</th><th>check_region</th><th>check_highest_education</th><th>check_imd_band</th><th>check_age_band</th><th>check_num_of_prev_attempts</th><th>check_studied_credits</th><th>check_disability</th><th>check_final_result</th></tr></thead><tbody><tr><td>0</td><td>0</td><td>0</td><td>0</td><td>0</td><td>0</td><td>1111</td><td>0</td><td>0</td><td>0</td><td>0</td><td>0</td></tr></tbody></table></div>"
      ]
     },
     "metadata": {
      "application/vnd.databricks.v1+output": {
       "addedWidgets": {},
       "aggData": [],
       "aggError": "",
       "aggOverflow": false,
       "aggSchema": [],
       "aggSeriesLimitReached": false,
       "aggType": "",
       "arguments": {},
       "columnCustomDisplayInfos": {},
       "data": [
        [
         0,
         0,
         0,
         0,
         0,
         0,
         1111,
         0,
         0,
         0,
         0,
         0
        ]
       ],
       "datasetInfos": [
        {
         "name": "_sqldf",
         "schema": {
          "fields": [
           {
            "metadata": {},
            "name": "check_code_module",
            "nullable": false,
            "type": "long"
           },
           {
            "metadata": {},
            "name": "check_code_presentation",
            "nullable": false,
            "type": "long"
           },
           {
            "metadata": {},
            "name": "check_id_student",
            "nullable": false,
            "type": "long"
           },
           {
            "metadata": {},
            "name": "check_gender",
            "nullable": false,
            "type": "long"
           },
           {
            "metadata": {},
            "name": "check_region",
            "nullable": false,
            "type": "long"
           },
           {
            "metadata": {},
            "name": "check_highest_education",
            "nullable": false,
            "type": "long"
           },
           {
            "metadata": {},
            "name": "check_imd_band",
            "nullable": false,
            "type": "long"
           },
           {
            "metadata": {},
            "name": "check_age_band",
            "nullable": false,
            "type": "long"
           },
           {
            "metadata": {},
            "name": "check_num_of_prev_attempts",
            "nullable": false,
            "type": "long"
           },
           {
            "metadata": {},
            "name": "check_studied_credits",
            "nullable": false,
            "type": "long"
           },
           {
            "metadata": {},
            "name": "check_disability",
            "nullable": false,
            "type": "long"
           },
           {
            "metadata": {},
            "name": "check_final_result",
            "nullable": false,
            "type": "long"
           }
          ],
          "type": "struct"
         },
         "tableIdentifier": null,
         "typeStr": "pyspark.sql.connect.dataframe.DataFrame"
        }
       ],
       "dbfsResultPath": null,
       "isJsonSchema": true,
       "metadata": {
        "createTempViewForImplicitDf": true,
        "dataframeName": "_sqldf",
        "executionCount": 13
       },
       "overflow": false,
       "plotOptions": {
        "customPlotOptions": {},
        "displayType": "table",
        "pivotAggregation": null,
        "pivotColumns": null,
        "xColumns": null,
        "yColumns": null
       },
       "removedWidgets": [],
       "schema": [
        {
         "metadata": "{}",
         "name": "check_code_module",
         "type": "\"long\""
        },
        {
         "metadata": "{}",
         "name": "check_code_presentation",
         "type": "\"long\""
        },
        {
         "metadata": "{}",
         "name": "check_id_student",
         "type": "\"long\""
        },
        {
         "metadata": "{}",
         "name": "check_gender",
         "type": "\"long\""
        },
        {
         "metadata": "{}",
         "name": "check_region",
         "type": "\"long\""
        },
        {
         "metadata": "{}",
         "name": "check_highest_education",
         "type": "\"long\""
        },
        {
         "metadata": "{}",
         "name": "check_imd_band",
         "type": "\"long\""
        },
        {
         "metadata": "{}",
         "name": "check_age_band",
         "type": "\"long\""
        },
        {
         "metadata": "{}",
         "name": "check_num_of_prev_attempts",
         "type": "\"long\""
        },
        {
         "metadata": "{}",
         "name": "check_studied_credits",
         "type": "\"long\""
        },
        {
         "metadata": "{}",
         "name": "check_disability",
         "type": "\"long\""
        },
        {
         "metadata": "{}",
         "name": "check_final_result",
         "type": "\"long\""
        }
       ],
       "type": "table"
      }
     },
     "output_type": "display_data"
    }
   ],
   "source": [
    "SELECT\n",
    "  COUNT(*) FILTER(WHERE code_module IS NULL OR code_module = '?') AS check_code_module,\n",
    "  COUNT(*) FILTER(WHERE code_presentation IS NULL OR code_presentation = '?') AS check_code_presentation,\n",
    "  COUNT(*) FILTER(WHERE id_student IS NULL) AS check_id_student,\n",
    "  COUNT(*) FILTER(WHERE gender IS NULL OR gender = '?') AS check_gender,\n",
    "  COUNT(*) FILTER(WHERE region IS NULL OR region = '?') AS check_region,\n",
    "  COUNT(*) FILTER(WHERE highest_education IS NULL OR highest_education = '?') AS check_highest_education,\n",
    "  COUNT(*) FILTER(WHERE imd_band IS NULL OR imd_band = '?') AS check_imd_band,\n",
    "  COUNT(*) FILTER(WHERE age_band IS NULL OR age_band = '?') AS check_age_band,\n",
    "  COUNT(*) FILTER(WHERE num_of_prev_attempts IS NULL) AS check_num_of_prev_attempts,\n",
    "  COUNT(*) FILTER(WHERE studied_credits IS NULL) AS check_studied_credits,\n",
    "  COUNT(*) FILTER(WHERE disability IS NULL OR disability = '?') AS check_disability,\n",
    "  COUNT(*) FILTER(WHERE final_result IS NULL OR final_result = '?') AS check_final_result\n",
    "FROM\n",
    "  student_info;"
   ]
  },
  {
   "cell_type": "markdown",
   "metadata": {
    "application/vnd.databricks.v1+cell": {
     "cellMetadata": {},
     "inputWidgets": {},
     "nuid": "ac1547ae-9769-4e8c-879d-ca6399071329",
     "showTitle": false,
     "tableResultSettingsMap": {},
     "title": ""
    }
   },
   "source": [
    "## STUDENT REGISTRATION"
   ]
  },
  {
   "cell_type": "code",
   "execution_count": 0,
   "metadata": {
    "application/vnd.databricks.v1+cell": {
     "cellMetadata": {
      "byteLimit": 2048000,
      "rowLimit": 10000
     },
     "inputWidgets": {},
     "nuid": "5e91b6ab-8596-4d4c-8ea9-dd79f00d357f",
     "showTitle": false,
     "tableResultSettingsMap": {},
     "title": ""
    }
   },
   "outputs": [
    {
     "output_type": "display_data",
     "data": {
      "text/html": [
       "<style scoped>\n",
       "  .table-result-container {\n",
       "    max-height: 300px;\n",
       "    overflow: auto;\n",
       "  }\n",
       "  table, th, td {\n",
       "    border: 1px solid black;\n",
       "    border-collapse: collapse;\n",
       "  }\n",
       "  th, td {\n",
       "    padding: 5px;\n",
       "  }\n",
       "  th {\n",
       "    text-align: left;\n",
       "  }\n",
       "</style><div class='table-result-container'><table class='table-result'><thead style='background-color: white'><tr><th>code_module</th><th>code_presentation</th><th>id_student</th><th>date_registration</th><th>date_unregistration</th></tr></thead><tbody><tr><td>AAA</td><td>2013J</td><td>11391</td><td>-159</td><td>?</td></tr><tr><td>AAA</td><td>2013J</td><td>28400</td><td>-53</td><td>?</td></tr><tr><td>AAA</td><td>2013J</td><td>30268</td><td>-92</td><td>12</td></tr><tr><td>AAA</td><td>2013J</td><td>31604</td><td>-52</td><td>?</td></tr><tr><td>AAA</td><td>2013J</td><td>32885</td><td>-176</td><td>?</td></tr><tr><td>AAA</td><td>2013J</td><td>38053</td><td>-110</td><td>?</td></tr><tr><td>AAA</td><td>2013J</td><td>45462</td><td>-67</td><td>?</td></tr><tr><td>AAA</td><td>2013J</td><td>45642</td><td>-29</td><td>?</td></tr><tr><td>AAA</td><td>2013J</td><td>52130</td><td>-33</td><td>?</td></tr><tr><td>AAA</td><td>2013J</td><td>53025</td><td>-179</td><td>?</td></tr></tbody></table></div>"
      ]
     },
     "metadata": {
      "application/vnd.databricks.v1+output": {
       "addedWidgets": {},
       "aggData": [],
       "aggError": "",
       "aggOverflow": false,
       "aggSchema": [],
       "aggSeriesLimitReached": false,
       "aggType": "",
       "arguments": {},
       "columnCustomDisplayInfos": {},
       "data": [
        [
         "AAA",
         "2013J",
         11391,
         "-159",
         "?"
        ],
        [
         "AAA",
         "2013J",
         28400,
         "-53",
         "?"
        ],
        [
         "AAA",
         "2013J",
         30268,
         "-92",
         "12"
        ],
        [
         "AAA",
         "2013J",
         31604,
         "-52",
         "?"
        ],
        [
         "AAA",
         "2013J",
         32885,
         "-176",
         "?"
        ],
        [
         "AAA",
         "2013J",
         38053,
         "-110",
         "?"
        ],
        [
         "AAA",
         "2013J",
         45462,
         "-67",
         "?"
        ],
        [
         "AAA",
         "2013J",
         45642,
         "-29",
         "?"
        ],
        [
         "AAA",
         "2013J",
         52130,
         "-33",
         "?"
        ],
        [
         "AAA",
         "2013J",
         53025,
         "-179",
         "?"
        ]
       ],
       "datasetInfos": [
        {
         "name": "_sqldf",
         "schema": {
          "fields": [
           {
            "metadata": {},
            "name": "code_module",
            "nullable": true,
            "type": "string"
           },
           {
            "metadata": {},
            "name": "code_presentation",
            "nullable": true,
            "type": "string"
           },
           {
            "metadata": {},
            "name": "id_student",
            "nullable": true,
            "type": "long"
           },
           {
            "metadata": {},
            "name": "date_registration",
            "nullable": true,
            "type": "string"
           },
           {
            "metadata": {},
            "name": "date_unregistration",
            "nullable": true,
            "type": "string"
           }
          ],
          "type": "struct"
         },
         "tableIdentifier": null,
         "typeStr": "pyspark.sql.connect.dataframe.DataFrame"
        }
       ],
       "dbfsResultPath": null,
       "isJsonSchema": true,
       "metadata": {
        "createTempViewForImplicitDf": true,
        "dataframeName": "_sqldf",
        "executionCount": 15
       },
       "overflow": false,
       "plotOptions": {
        "customPlotOptions": {},
        "displayType": "table",
        "pivotAggregation": null,
        "pivotColumns": null,
        "xColumns": null,
        "yColumns": null
       },
       "removedWidgets": [],
       "schema": [
        {
         "metadata": "{}",
         "name": "code_module",
         "type": "\"string\""
        },
        {
         "metadata": "{}",
         "name": "code_presentation",
         "type": "\"string\""
        },
        {
         "metadata": "{}",
         "name": "id_student",
         "type": "\"long\""
        },
        {
         "metadata": "{}",
         "name": "date_registration",
         "type": "\"string\""
        },
        {
         "metadata": "{}",
         "name": "date_unregistration",
         "type": "\"string\""
        }
       ],
       "type": "table"
      }
     },
     "output_type": "display_data"
    }
   ],
   "source": [
    "SELECT *\n",
    "FROM\n",
    "  student_registration\n",
    "LIMIT 10;"
   ]
  },
  {
   "cell_type": "code",
   "execution_count": 0,
   "metadata": {
    "application/vnd.databricks.v1+cell": {
     "cellMetadata": {
      "byteLimit": 2048000,
      "rowLimit": 10000
     },
     "inputWidgets": {},
     "nuid": "298380eb-dd46-46fb-ad1f-82446b4ba207",
     "showTitle": false,
     "tableResultSettingsMap": {},
     "title": ""
    }
   },
   "outputs": [
    {
     "output_type": "display_data",
     "data": {
      "text/html": [
       "<style scoped>\n",
       "  .table-result-container {\n",
       "    max-height: 300px;\n",
       "    overflow: auto;\n",
       "  }\n",
       "  table, th, td {\n",
       "    border: 1px solid black;\n",
       "    border-collapse: collapse;\n",
       "  }\n",
       "  th, td {\n",
       "    padding: 5px;\n",
       "  }\n",
       "  th {\n",
       "    text-align: left;\n",
       "  }\n",
       "</style><div class='table-result-container'><table class='table-result'><thead style='background-color: white'><tr><th>col_name</th><th>data_type</th><th>comment</th></tr></thead><tbody><tr><td>code_module</td><td>string</td><td>null</td></tr><tr><td>code_presentation</td><td>string</td><td>null</td></tr><tr><td>id_student</td><td>bigint</td><td>null</td></tr><tr><td>date_registration</td><td>string</td><td>null</td></tr><tr><td>date_unregistration</td><td>string</td><td>null</td></tr></tbody></table></div>"
      ]
     },
     "metadata": {
      "application/vnd.databricks.v1+output": {
       "addedWidgets": {},
       "aggData": [],
       "aggError": "",
       "aggOverflow": false,
       "aggSchema": [],
       "aggSeriesLimitReached": false,
       "aggType": "",
       "arguments": {},
       "columnCustomDisplayInfos": {},
       "data": [
        [
         "code_module",
         "string",
         null
        ],
        [
         "code_presentation",
         "string",
         null
        ],
        [
         "id_student",
         "bigint",
         null
        ],
        [
         "date_registration",
         "string",
         null
        ],
        [
         "date_unregistration",
         "string",
         null
        ]
       ],
       "datasetInfos": [
        {
         "name": "_sqldf",
         "schema": {
          "fields": [
           {
            "metadata": {},
            "name": "col_name",
            "nullable": false,
            "type": "string"
           },
           {
            "metadata": {},
            "name": "data_type",
            "nullable": false,
            "type": "string"
           },
           {
            "metadata": {},
            "name": "comment",
            "nullable": true,
            "type": "string"
           }
          ],
          "type": "struct"
         },
         "tableIdentifier": null,
         "typeStr": "pyspark.sql.connect.dataframe.DataFrame"
        }
       ],
       "dbfsResultPath": null,
       "isJsonSchema": true,
       "metadata": {
        "createTempViewForImplicitDf": true,
        "dataframeName": "_sqldf",
        "executionCount": 16
       },
       "overflow": false,
       "plotOptions": {
        "customPlotOptions": {},
        "displayType": "table",
        "pivotAggregation": null,
        "pivotColumns": null,
        "xColumns": null,
        "yColumns": null
       },
       "removedWidgets": [],
       "schema": [
        {
         "metadata": "{}",
         "name": "col_name",
         "type": "\"string\""
        },
        {
         "metadata": "{}",
         "name": "data_type",
         "type": "\"string\""
        },
        {
         "metadata": "{}",
         "name": "comment",
         "type": "\"string\""
        }
       ],
       "type": "table"
      }
     },
     "output_type": "display_data"
    }
   ],
   "source": [
    "DESCRIBE TABLE student_registration;"
   ]
  },
  {
   "cell_type": "markdown",
   "metadata": {
    "application/vnd.databricks.v1+cell": {
     "cellMetadata": {},
     "inputWidgets": {},
     "nuid": "982c44c0-6909-4ad1-8406-df7525e76d4c",
     "showTitle": false,
     "tableResultSettingsMap": {},
     "title": ""
    }
   },
   "source": [
    "We saw problems with the date_registration and date_unregistration. We will fix it by converting it to the date format based on the column code_presentation (The start date of school term)\n",
    "\n",
    "We will create a new view"
   ]
  },
  {
   "cell_type": "code",
   "execution_count": 0,
   "metadata": {
    "application/vnd.databricks.v1+cell": {
     "cellMetadata": {
      "byteLimit": 2048000,
      "rowLimit": 10000
     },
     "inputWidgets": {},
     "nuid": "3dc32a3e-fcdc-4e3a-bf0b-ecea6a7e8eab",
     "showTitle": false,
     "tableResultSettingsMap": {},
     "title": ""
    }
   },
   "outputs": [
    {
     "output_type": "display_data",
     "data": {
      "text/html": [
       "<style scoped>\n",
       "  .table-result-container {\n",
       "    max-height: 300px;\n",
       "    overflow: auto;\n",
       "  }\n",
       "  table, th, td {\n",
       "    border: 1px solid black;\n",
       "    border-collapse: collapse;\n",
       "  }\n",
       "  th, td {\n",
       "    padding: 5px;\n",
       "  }\n",
       "  th {\n",
       "    text-align: left;\n",
       "  }\n",
       "</style><div class='table-result-container'><table class='table-result'><thead style='background-color: white'><tr><th>code_presentation</th></tr></thead><tbody><tr><td>2014J</td></tr><tr><td>2013B</td></tr><tr><td>2014B</td></tr><tr><td>2013J</td></tr></tbody></table></div>"
      ]
     },
     "metadata": {
      "application/vnd.databricks.v1+output": {
       "addedWidgets": {},
       "aggData": [],
       "aggError": "",
       "aggOverflow": false,
       "aggSchema": [],
       "aggSeriesLimitReached": false,
       "aggType": "",
       "arguments": {},
       "columnCustomDisplayInfos": {},
       "data": [
        [
         "2014J"
        ],
        [
         "2013B"
        ],
        [
         "2014B"
        ],
        [
         "2013J"
        ]
       ],
       "datasetInfos": [
        {
         "name": "_sqldf",
         "schema": {
          "fields": [
           {
            "metadata": {},
            "name": "code_presentation",
            "nullable": true,
            "type": "string"
           }
          ],
          "type": "struct"
         },
         "tableIdentifier": null,
         "typeStr": "pyspark.sql.connect.dataframe.DataFrame"
        }
       ],
       "dbfsResultPath": null,
       "isJsonSchema": true,
       "metadata": {
        "createTempViewForImplicitDf": true,
        "dataframeName": "_sqldf",
        "executionCount": 28
       },
       "overflow": false,
       "plotOptions": {
        "customPlotOptions": {},
        "displayType": "table",
        "pivotAggregation": null,
        "pivotColumns": null,
        "xColumns": null,
        "yColumns": null
       },
       "removedWidgets": [],
       "schema": [
        {
         "metadata": "{}",
         "name": "code_presentation",
         "type": "\"string\""
        }
       ],
       "type": "table"
      }
     },
     "output_type": "display_data"
    }
   ],
   "source": [
    "-- See how many code (start_date) to convert\n",
    "SELECT \n",
    "  DISTINCT code_presentation\n",
    "FROM\n",
    "  student_registration;"
   ]
  },
  {
   "cell_type": "code",
   "execution_count": 0,
   "metadata": {
    "application/vnd.databricks.v1+cell": {
     "cellMetadata": {
      "byteLimit": 2048000,
      "rowLimit": 10000
     },
     "inputWidgets": {},
     "nuid": "f2f19d97-616a-40c0-a961-3fc8e8c2e0d9",
     "showTitle": false,
     "tableResultSettingsMap": {},
     "title": ""
    }
   },
   "outputs": [
    {
     "output_type": "stream",
     "name": "stdout",
     "output_type": "stream",
     "text": [
      "Executing subquery: DESCRIBE TABLE student_info.\nExecuting subquery: SELECT\n  COUNT(*) FILTER(WHERE code_module is null) AS check_code_module\n  COUNT(*) FILTER(WHERE code_presentation is null) AS check_code_presentation\n  COUNT(*) FILTER(WHERE id_student is null) AS check_id_student\n  COUNT(*) FILTER(WHERE gender is null) AS check_gender\n  COUNT(*) FILTER(WHERE region is null) AS check_region\n  COUNT(*) FILTER(WHERE highest_education is null) AS check_highest_education\n  COUNT(*) FILTER(WHERE imd_band is null) AS check_imd_band\n  COUNT(*) FILTER(WHERE age_band is null) AS check_age_band\n  COUNT(*) FILTER(WHERE num_of_prev_attempts is null) AS check_num_of_prev_attempts\n  COUNT(*) FILTER(WHERE studied_credits is null) AS check_studied_credits\n  COUNT(*) FILTER(WHERE disability is null) AS check_disability\n  COUNT(*) FILTER(WHERE final_result is null) AS check_final_result\nFROM\n  student_info.\nExecuting subquery: SELECT\n  COUNT(*) FILTER(WHERE code_module is null) AS check_code_module,\n  COUNT(*) FILTER(WHERE code_presentation is null) AS check_code_presentation,\n  COUNT(*) FILTER(WHERE id_student is null) AS check_id_student,\n  COUNT(*) FILTER(WHERE gender is null) AS check_gender,\n  COUNT(*) FILTER(WHERE region is null) AS check_region,\n  COUNT(*) FILTER(WHERE highest_education is null) AS check_highest_education,\n  COUNT(*) FILTER(WHERE imd_band is null) AS check_imd_band,\n  COUNT(*) FILTER(WHERE age_band is null) AS check_age_band,\n  COUNT(*) FILTER(WHERE num_of_prev_attempts is null) AS check_num_of_prev_attempts,\n  COUNT(*) FILTER(WHERE studied_credits is null) AS check_studied_credits,\n  COUNT(*) FILTER(WHERE disability is null) AS check_disability,\n  COUNT(*) FILTER(WHERE final_result is null) AS check_final_result,\nFROM\n  student_info.\nExecuting subquery: SELECT\n  COUNT(*) FILTER(WHERE code_module is null) AS check_code_module,\n  COUNT(*) FILTER(WHERE code_presentation is null) AS check_code_presentation,\n  COUNT(*) FILTER(WHERE id_student is null) AS check_id_student,\n  COUNT(*) FILTER(WHERE gender is null) AS check_gender,\n  COUNT(*) FILTER(WHERE region is null) AS check_region,\n  COUNT(*) FILTER(WHERE highest_education is null) AS check_highest_education,\n  COUNT(*) FILTER(WHERE imd_band is null) AS check_imd_band,\n  COUNT(*) FILTER(WHERE age_band is null) AS check_age_band,\n  COUNT(*) FILTER(WHERE num_of_prev_attempts is null) AS check_num_of_prev_attempts,\n  COUNT(*) FILTER(WHERE studied_credits is null) AS check_studied_credits,\n  COUNT(*) FILTER(WHERE disability is null) AS check_disability,\n  COUNT(*) FILTER(WHERE final_result is null) AS check_final_result\nFROM\n  student_info.\nExecuting subquery: SELECT\n  COUNT(*) FILTER(WHERE code_module is null or code_module = '?') AS check_code_module,\n  COUNT(*) FILTER(WHERE code_presentation is null or code_presentation = '?') AS check_code_presentation,\n  COUNT(*) FILTER(WHERE id_student is null or id_student = '?') AS check_id_student,\n  COUNT(*) FILTER(WHERE gender is null or gender = '?') AS check_gender,\n  COUNT(*) FILTER(WHERE region is null or region = '?') AS check_region,\n  COUNT(*) FILTER(WHERE highest_education is null or highest_education = '?') AS check_highest_education,\n  COUNT(*) FILTER(WHERE imd_band is null or imd_band = '?') AS check_imd_band,\n  COUNT(*) FILTER(WHERE age_band is null or age_band = '?') AS check_age_band,\n  COUNT(*) FILTER(WHERE num_of_prev_attempts is null or num_of_prev_attempts = '?') AS check_num_of_prev_attempts,\n  COUNT(*) FILTER(WHERE studied_credits is null or studied_credits = '?') AS check_studied_credits,\n  COUNT(*) FILTER(WHERE disability is null or disability = '?') AS check_disability,\n  COUNT(*) FILTER(WHERE final_result is null or final_result = '?') AS check_final_result\nFROM\n  student_info.\nExecuting subquery: SELECT\n  COUNT(*) FILTER(WHERE code_module IS NULL OR code_module = '?') AS check_code_module,\n  COUNT(*) FILTER(WHERE code_presentation IS NULL OR code_presentation = '?') AS check_code_presentation,\n  COUNT(*) FILTER(WHERE id_student IS NULL OR id_student = '?') AS check_id_student,\n  COUNT(*) FILTER(WHERE gender IS NULL OR gender = '?') AS check_gender,\n  COUNT(*) FILTER(WHERE region IS NULL OR region = '?') AS check_region,\n  COUNT(*) FILTER(WHERE highest_education IS NULL OR highest_education = '?') AS check_highest_education,\n  COUNT(*) FILTER(WHERE imd_band IS NULL OR imd_band = '?') AS check_imd_band,\n  COUNT(*) FILTER(WHERE age_band IS NULL OR age_band = '?') AS check_age_band,\n  COUNT(*) FILTER(WHERE num_of_prev_attempts IS NULL OR try_cast(num_of_prev_attempts AS STRING) = '?') AS check_num_of_prev_attempts,\n  COUNT(*) FILTER(WHERE studied_credits IS NULL OR try_cast(studied_credits AS STRING) = '?') AS check_studied_credits,\n  COUNT(*) FILTER(WHERE disability IS NULL OR disability = '?') AS check_disability,\n  COUNT(*) FILTER(WHERE final_result IS NULL OR final_result = '?') AS check_final_result\nFROM\n  student_info.\nExecuting subquery: SELECT\n  COUNT(*) FILTER(WHERE code_module IS NULL OR code_module = '?') AS check_code_module,\n  COUNT(*) FILTER(WHERE code_presentation IS NULL OR code_presentation = '?') AS check_code_presentation,\n  COUNT(*) FILTER(WHERE id_student IS NULL) AS check_id_student,\n  COUNT(*) FILTER(WHERE gender IS NULL OR gender = '?') AS check_gender,\n  COUNT(*) FILTER(WHERE region IS NULL OR region = '?') AS check_region,\n  COUNT(*) FILTER(WHERE highest_education IS NULL OR highest_education = '?') AS check_highest_education,\n  COUNT(*) FILTER(WHERE imd_band IS NULL OR imd_band = '?') AS check_imd_band,\n  COUNT(*) FILTER(WHERE age_band IS NULL OR age_band = '?') AS check_age_band,\n  COUNT(*) FILTER(WHERE num_of_prev_attempts IS NULL) AS check_num_of_prev_attempts,\n  COUNT(*) FILTER(WHERE studied_credits IS NULL) AS check_studied_credits,\n  COUNT(*) FILTER(WHERE disability IS NULL OR disability = '?') AS check_disability,\n  COUNT(*) FILTER(WHERE final_result IS NULL OR final_result = '?') AS check_final_result\nFROM\n  student_info.\nExecuting subquery: SELECT *\nFROM\n  student_registration\nLIMIT 10.\nExecuting subquery: DESCRIBE TABLE student_registration.\nExecuting subquery: -- See how many code (start_date) to convert\nSELECT \n  DISTINCT code_presentation\nFROM\n  student_registration.\nExecuting subquery: CREATE OR REPLACE VIEW student_registration_cleaned AS\nSELECT\n  *,\n  -- Convert date_registration\n  CASE \n    WHEN CAST(date_registration AS STRING) RLIKE '^-?[0-9]+$'\n      THEN DATE_ADD(\n        CASE code_presentation\n          WHEN '2013J' THEN '2013-01-01'\n          WHEN '2013B' THEN '2013-05-01'\n          WHEN '2014J' THEN '2014-01-01'\n          WHEN '2014B' THEN '2014-05-01'\n        END,\n        CAST(date_registration as INT)\n      )\n    ELSE NULL\n  END AS real_date_registration,\n\n  -- Convert date_unregistration\n  CASE \n    WHEN CAST(date_unregistration AS STRING) RLIKE '^-?[0-9]+$'\n      THEN DATE_ADD(\n        CASE code_presentation\n          WHEN '2013J' THEN '2013-01-01'\n          WHEN '2013B' THEN '2013-05-01'\n          WHEN '2014J' THEN '2014-01-01'\n          WHEN '2014B' THEN '2014-05-01'\n        END,\n        CAST(date_unregistration as INT)\n      )\n    ELSE NULL\n  END AS real_date_unregistration\nFROM\n  student_registration.\nExecuting subquery: -- TEST THE NEW TABLE\nDESCRIBE TABLE student_registration_cleaned.\nExecuting subquery: SELECT *\nFROM \n  student_registration_cleaned\nLIMIT 10.\nExecuting subquery: CREATE OR REPLACE VIEW student_registration_cleaned AS\nSELECT\n  code_module,\n  code_presentation,\n  id_student,\n  -- Convert date_registration\n  CASE \n    WHEN CAST(date_registration AS STRING) RLIKE '^-?[0-9]+$'\n      THEN DATE_ADD(\n        CASE code_presentation\n          WHEN '2013J' THEN '2013-01-01'\n          WHEN '2013B' THEN '2013-05-01'\n          WHEN '2014J' THEN '2014-01-01'\n          WHEN '2014B' THEN '2014-05-01'\n        END,\n        CAST(date_registration as INT)\n      )\n    ELSE NULL\n  END AS real_date_registration,\n\n  -- Convert date_unregistration\n  CASE \n    WHEN CAST(date_unregistration AS STRING) RLIKE '^-?[0-9]+$'\n      THEN DATE_ADD(\n        CASE code_presentation\n          WHEN '2013J' THEN '2013-01-01'\n          WHEN '2013B' THEN '2013-05-01'\n          WHEN '2014J' THEN '2014-01-01'\n          WHEN '2014B' THEN '2014-05-01'\n        END,\n        CAST(date_unregistration as INT)\n      )\n    ELSE NULL\n  END AS real_date_unregistration\nFROM\n  student_registration."
     ]
    }
   ],
   "source": [
    "CREATE OR REPLACE VIEW student_registration_cleaned AS\n",
    "SELECT\n",
    "  code_module,\n",
    "  code_presentation,\n",
    "  id_student,\n",
    "  -- Convert date_registration\n",
    "  CASE \n",
    "    WHEN CAST(date_registration AS STRING) RLIKE '^-?[0-9]+$'\n",
    "      THEN DATE_ADD(\n",
    "        CASE code_presentation\n",
    "          WHEN '2013J' THEN '2013-01-01'\n",
    "          WHEN '2013B' THEN '2013-05-01'\n",
    "          WHEN '2014J' THEN '2014-01-01'\n",
    "          WHEN '2014B' THEN '2014-05-01'\n",
    "        END,\n",
    "        CAST(date_registration as INT)\n",
    "      )\n",
    "    ELSE NULL\n",
    "  END AS real_date_registration,\n",
    "\n",
    "  -- Convert date_unregistration\n",
    "  CASE \n",
    "    WHEN CAST(date_unregistration AS STRING) RLIKE '^-?[0-9]+$'\n",
    "      THEN DATE_ADD(\n",
    "        CASE code_presentation\n",
    "          WHEN '2013J' THEN '2013-01-01'\n",
    "          WHEN '2013B' THEN '2013-05-01'\n",
    "          WHEN '2014J' THEN '2014-01-01'\n",
    "          WHEN '2014B' THEN '2014-05-01'\n",
    "        END,\n",
    "        CAST(date_unregistration as INT)\n",
    "      )\n",
    "    ELSE NULL\n",
    "  END AS real_date_unregistration\n",
    "FROM\n",
    "  student_registration;"
   ]
  },
  {
   "cell_type": "code",
   "execution_count": 0,
   "metadata": {
    "application/vnd.databricks.v1+cell": {
     "cellMetadata": {
      "byteLimit": 2048000,
      "rowLimit": 10000
     },
     "inputWidgets": {},
     "nuid": "68d15528-b8e4-456c-ae32-c630c8095a6e",
     "showTitle": false,
     "tableResultSettingsMap": {},
     "title": ""
    }
   },
   "outputs": [
    {
     "output_type": "display_data",
     "data": {
      "text/html": [
       "<style scoped>\n",
       "  .table-result-container {\n",
       "    max-height: 300px;\n",
       "    overflow: auto;\n",
       "  }\n",
       "  table, th, td {\n",
       "    border: 1px solid black;\n",
       "    border-collapse: collapse;\n",
       "  }\n",
       "  th, td {\n",
       "    padding: 5px;\n",
       "  }\n",
       "  th {\n",
       "    text-align: left;\n",
       "  }\n",
       "</style><div class='table-result-container'><table class='table-result'><thead style='background-color: white'><tr><th>col_name</th><th>data_type</th><th>comment</th></tr></thead><tbody><tr><td>code_module</td><td>string</td><td>null</td></tr><tr><td>code_presentation</td><td>string</td><td>null</td></tr><tr><td>id_student</td><td>bigint</td><td>null</td></tr><tr><td>real_date_registration</td><td>date</td><td>null</td></tr><tr><td>real_date_unregistration</td><td>date</td><td>null</td></tr></tbody></table></div>"
      ]
     },
     "metadata": {
      "application/vnd.databricks.v1+output": {
       "addedWidgets": {},
       "aggData": [],
       "aggError": "",
       "aggOverflow": false,
       "aggSchema": [],
       "aggSeriesLimitReached": false,
       "aggType": "",
       "arguments": {},
       "columnCustomDisplayInfos": {},
       "data": [
        [
         "code_module",
         "string",
         null
        ],
        [
         "code_presentation",
         "string",
         null
        ],
        [
         "id_student",
         "bigint",
         null
        ],
        [
         "real_date_registration",
         "date",
         null
        ],
        [
         "real_date_unregistration",
         "date",
         null
        ]
       ],
       "datasetInfos": [
        {
         "name": "_sqldf",
         "schema": {
          "fields": [
           {
            "metadata": {},
            "name": "col_name",
            "nullable": false,
            "type": "string"
           },
           {
            "metadata": {},
            "name": "data_type",
            "nullable": false,
            "type": "string"
           },
           {
            "metadata": {},
            "name": "comment",
            "nullable": true,
            "type": "string"
           }
          ],
          "type": "struct"
         },
         "tableIdentifier": null,
         "typeStr": "pyspark.sql.connect.dataframe.DataFrame"
        }
       ],
       "dbfsResultPath": null,
       "isJsonSchema": true,
       "metadata": {
        "createTempViewForImplicitDf": true,
        "dataframeName": "_sqldf",
        "executionCount": 46
       },
       "overflow": false,
       "plotOptions": {
        "customPlotOptions": {},
        "displayType": "table",
        "pivotAggregation": null,
        "pivotColumns": null,
        "xColumns": null,
        "yColumns": null
       },
       "removedWidgets": [],
       "schema": [
        {
         "metadata": "{}",
         "name": "col_name",
         "type": "\"string\""
        },
        {
         "metadata": "{}",
         "name": "data_type",
         "type": "\"string\""
        },
        {
         "metadata": "{}",
         "name": "comment",
         "type": "\"string\""
        }
       ],
       "type": "table"
      }
     },
     "output_type": "display_data"
    }
   ],
   "source": [
    "-- TEST THE NEW TABLE\n",
    "DESCRIBE TABLE student_registration_cleaned;"
   ]
  },
  {
   "cell_type": "code",
   "execution_count": 0,
   "metadata": {
    "application/vnd.databricks.v1+cell": {
     "cellMetadata": {
      "byteLimit": 2048000,
      "rowLimit": 10000
     },
     "inputWidgets": {},
     "nuid": "f4111297-e60b-48cd-b57b-157165045901",
     "showTitle": false,
     "tableResultSettingsMap": {},
     "title": ""
    }
   },
   "outputs": [
    {
     "output_type": "display_data",
     "data": {
      "text/html": [
       "<style scoped>\n",
       "  .table-result-container {\n",
       "    max-height: 300px;\n",
       "    overflow: auto;\n",
       "  }\n",
       "  table, th, td {\n",
       "    border: 1px solid black;\n",
       "    border-collapse: collapse;\n",
       "  }\n",
       "  th, td {\n",
       "    padding: 5px;\n",
       "  }\n",
       "  th {\n",
       "    text-align: left;\n",
       "  }\n",
       "</style><div class='table-result-container'><table class='table-result'><thead style='background-color: white'><tr><th>code_module</th><th>code_presentation</th><th>id_student</th><th>real_date_registration</th><th>real_date_unregistration</th></tr></thead><tbody><tr><td>AAA</td><td>2013J</td><td>11391</td><td>2012-07-26</td><td>null</td></tr><tr><td>AAA</td><td>2013J</td><td>28400</td><td>2012-11-09</td><td>null</td></tr><tr><td>AAA</td><td>2013J</td><td>30268</td><td>2012-10-01</td><td>2013-01-13</td></tr><tr><td>AAA</td><td>2013J</td><td>31604</td><td>2012-11-10</td><td>null</td></tr><tr><td>AAA</td><td>2013J</td><td>32885</td><td>2012-07-09</td><td>null</td></tr><tr><td>AAA</td><td>2013J</td><td>38053</td><td>2012-09-13</td><td>null</td></tr><tr><td>AAA</td><td>2013J</td><td>45462</td><td>2012-10-26</td><td>null</td></tr><tr><td>AAA</td><td>2013J</td><td>45642</td><td>2012-12-03</td><td>null</td></tr><tr><td>AAA</td><td>2013J</td><td>52130</td><td>2012-11-29</td><td>null</td></tr><tr><td>AAA</td><td>2013J</td><td>53025</td><td>2012-07-06</td><td>null</td></tr></tbody></table></div>"
      ]
     },
     "metadata": {
      "application/vnd.databricks.v1+output": {
       "addedWidgets": {},
       "aggData": [],
       "aggError": "",
       "aggOverflow": false,
       "aggSchema": [],
       "aggSeriesLimitReached": false,
       "aggType": "",
       "arguments": {},
       "columnCustomDisplayInfos": {},
       "data": [
        [
         "AAA",
         "2013J",
         11391,
         "2012-07-26",
         null
        ],
        [
         "AAA",
         "2013J",
         28400,
         "2012-11-09",
         null
        ],
        [
         "AAA",
         "2013J",
         30268,
         "2012-10-01",
         "2013-01-13"
        ],
        [
         "AAA",
         "2013J",
         31604,
         "2012-11-10",
         null
        ],
        [
         "AAA",
         "2013J",
         32885,
         "2012-07-09",
         null
        ],
        [
         "AAA",
         "2013J",
         38053,
         "2012-09-13",
         null
        ],
        [
         "AAA",
         "2013J",
         45462,
         "2012-10-26",
         null
        ],
        [
         "AAA",
         "2013J",
         45642,
         "2012-12-03",
         null
        ],
        [
         "AAA",
         "2013J",
         52130,
         "2012-11-29",
         null
        ],
        [
         "AAA",
         "2013J",
         53025,
         "2012-07-06",
         null
        ]
       ],
       "datasetInfos": [
        {
         "name": "_sqldf",
         "schema": {
          "fields": [
           {
            "metadata": {},
            "name": "code_module",
            "nullable": true,
            "type": "string"
           },
           {
            "metadata": {},
            "name": "code_presentation",
            "nullable": true,
            "type": "string"
           },
           {
            "metadata": {},
            "name": "id_student",
            "nullable": true,
            "type": "long"
           },
           {
            "metadata": {},
            "name": "real_date_registration",
            "nullable": true,
            "type": "date"
           },
           {
            "metadata": {},
            "name": "real_date_unregistration",
            "nullable": true,
            "type": "date"
           }
          ],
          "type": "struct"
         },
         "tableIdentifier": null,
         "typeStr": "pyspark.sql.connect.dataframe.DataFrame"
        }
       ],
       "dbfsResultPath": null,
       "isJsonSchema": true,
       "metadata": {
        "createTempViewForImplicitDf": true,
        "dataframeName": "_sqldf",
        "executionCount": 47
       },
       "overflow": false,
       "plotOptions": {
        "customPlotOptions": {},
        "displayType": "table",
        "pivotAggregation": null,
        "pivotColumns": null,
        "xColumns": null,
        "yColumns": null
       },
       "removedWidgets": [],
       "schema": [
        {
         "metadata": "{}",
         "name": "code_module",
         "type": "\"string\""
        },
        {
         "metadata": "{}",
         "name": "code_presentation",
         "type": "\"string\""
        },
        {
         "metadata": "{}",
         "name": "id_student",
         "type": "\"long\""
        },
        {
         "metadata": "{}",
         "name": "real_date_registration",
         "type": "\"date\""
        },
        {
         "metadata": "{}",
         "name": "real_date_unregistration",
         "type": "\"date\""
        }
       ],
       "type": "table"
      }
     },
     "output_type": "display_data"
    }
   ],
   "source": [
    "SELECT *\n",
    "FROM \n",
    "  student_registration_cleaned\n",
    "LIMIT 10;"
   ]
  },
  {
   "cell_type": "code",
   "execution_count": 0,
   "metadata": {
    "application/vnd.databricks.v1+cell": {
     "cellMetadata": {
      "byteLimit": 2048000,
      "rowLimit": 10000
     },
     "inputWidgets": {},
     "nuid": "105d8afb-1353-44ba-8ab0-e3a49217a382",
     "showTitle": false,
     "tableResultSettingsMap": {},
     "title": ""
    }
   },
   "outputs": [
    {
     "output_type": "display_data",
     "data": {
      "text/html": [
       "<style scoped>\n",
       "  .table-result-container {\n",
       "    max-height: 300px;\n",
       "    overflow: auto;\n",
       "  }\n",
       "  table, th, td {\n",
       "    border: 1px solid black;\n",
       "    border-collapse: collapse;\n",
       "  }\n",
       "  th, td {\n",
       "    padding: 5px;\n",
       "  }\n",
       "  th {\n",
       "    text-align: left;\n",
       "  }\n",
       "</style><div class='table-result-container'><table class='table-result'><thead style='background-color: white'><tr><th>check_code_module</th><th>check_code_presentation</th><th>check_id_student</th><th>check_real_date_registration</th></tr></thead><tbody><tr><td>0</td><td>0</td><td>0</td><td>45</td></tr></tbody></table></div>"
      ]
     },
     "metadata": {
      "application/vnd.databricks.v1+output": {
       "addedWidgets": {},
       "aggData": [],
       "aggError": "",
       "aggOverflow": false,
       "aggSchema": [],
       "aggSeriesLimitReached": false,
       "aggType": "",
       "arguments": {},
       "columnCustomDisplayInfos": {},
       "data": [
        [
         0,
         0,
         0,
         45
        ]
       ],
       "datasetInfos": [
        {
         "name": "_sqldf",
         "schema": {
          "fields": [
           {
            "metadata": {},
            "name": "check_code_module",
            "nullable": false,
            "type": "long"
           },
           {
            "metadata": {},
            "name": "check_code_presentation",
            "nullable": false,
            "type": "long"
           },
           {
            "metadata": {},
            "name": "check_id_student",
            "nullable": false,
            "type": "long"
           },
           {
            "metadata": {},
            "name": "check_real_date_registration",
            "nullable": false,
            "type": "long"
           }
          ],
          "type": "struct"
         },
         "tableIdentifier": null,
         "typeStr": "pyspark.sql.connect.dataframe.DataFrame"
        }
       ],
       "dbfsResultPath": null,
       "isJsonSchema": true,
       "metadata": {
        "createTempViewForImplicitDf": true,
        "dataframeName": "_sqldf",
        "executionCount": 49
       },
       "overflow": false,
       "plotOptions": {
        "customPlotOptions": {},
        "displayType": "table",
        "pivotAggregation": null,
        "pivotColumns": null,
        "xColumns": null,
        "yColumns": null
       },
       "removedWidgets": [],
       "schema": [
        {
         "metadata": "{}",
         "name": "check_code_module",
         "type": "\"long\""
        },
        {
         "metadata": "{}",
         "name": "check_code_presentation",
         "type": "\"long\""
        },
        {
         "metadata": "{}",
         "name": "check_id_student",
         "type": "\"long\""
        },
        {
         "metadata": "{}",
         "name": "check_real_date_registration",
         "type": "\"long\""
        }
       ],
       "type": "table"
      }
     },
     "output_type": "display_data"
    }
   ],
   "source": [
    "SELECT \n",
    "  COUNT(*) FILTER(WHERE code_module IS NULL) as check_code_module,\n",
    "  COUNT(*) FILTER(WHERE code_presentation IS NULL) as check_code_presentation,\n",
    "  COUNT(*) FILTER(WHERE id_student IS NULL) as check_id_student,\n",
    "  COUNT(*) FILTER(WHERE real_date_registration IS NULL) as check_real_date_registration\n",
    "FROM\n",
    "  student_registration_cleaned;"
   ]
  },
  {
   "cell_type": "code",
   "execution_count": 0,
   "metadata": {
    "application/vnd.databricks.v1+cell": {
     "cellMetadata": {
      "byteLimit": 2048000,
      "rowLimit": 10000
     },
     "inputWidgets": {},
     "nuid": "b3c4c042-bb2f-4875-94e5-d9e8ee9a2528",
     "showTitle": false,
     "tableResultSettingsMap": {},
     "title": ""
    }
   },
   "outputs": [],
   "source": [
    "CREATE OR REPLACE VIEW student_registration_filtered AS\n",
    "SELECT *\n",
    "FROM \n",
    "  student_registration_cleaned\n",
    "WHERE \n",
    "  real_date_registration IS NOT NULL;"
   ]
  },
  {
   "cell_type": "code",
   "execution_count": 0,
   "metadata": {
    "application/vnd.databricks.v1+cell": {
     "cellMetadata": {
      "byteLimit": 2048000,
      "rowLimit": 10000
     },
     "inputWidgets": {},
     "nuid": "6bd70c2e-5bf4-4b36-a702-ed48d4eadb52",
     "showTitle": false,
     "tableResultSettingsMap": {},
     "title": ""
    }
   },
   "outputs": [
    {
     "output_type": "display_data",
     "data": {
      "text/html": [
       "<style scoped>\n",
       "  .table-result-container {\n",
       "    max-height: 300px;\n",
       "    overflow: auto;\n",
       "  }\n",
       "  table, th, td {\n",
       "    border: 1px solid black;\n",
       "    border-collapse: collapse;\n",
       "  }\n",
       "  th, td {\n",
       "    padding: 5px;\n",
       "  }\n",
       "  th {\n",
       "    text-align: left;\n",
       "  }\n",
       "</style><div class='table-result-container'><table class='table-result'><thead style='background-color: white'><tr><th>code_module</th><th>code_presentation</th><th>id_student</th><th>real_date_registration</th><th>real_date_unregistration</th></tr></thead><tbody><tr><td>AAA</td><td>2013J</td><td>11391</td><td>2012-07-26</td><td>null</td></tr><tr><td>AAA</td><td>2013J</td><td>28400</td><td>2012-11-09</td><td>null</td></tr><tr><td>AAA</td><td>2013J</td><td>30268</td><td>2012-10-01</td><td>2013-01-13</td></tr><tr><td>AAA</td><td>2013J</td><td>31604</td><td>2012-11-10</td><td>null</td></tr><tr><td>AAA</td><td>2013J</td><td>32885</td><td>2012-07-09</td><td>null</td></tr><tr><td>AAA</td><td>2013J</td><td>38053</td><td>2012-09-13</td><td>null</td></tr><tr><td>AAA</td><td>2013J</td><td>45462</td><td>2012-10-26</td><td>null</td></tr><tr><td>AAA</td><td>2013J</td><td>45642</td><td>2012-12-03</td><td>null</td></tr><tr><td>AAA</td><td>2013J</td><td>52130</td><td>2012-11-29</td><td>null</td></tr><tr><td>AAA</td><td>2013J</td><td>53025</td><td>2012-07-06</td><td>null</td></tr></tbody></table></div>"
      ]
     },
     "metadata": {
      "application/vnd.databricks.v1+output": {
       "addedWidgets": {},
       "aggData": [],
       "aggError": "",
       "aggOverflow": false,
       "aggSchema": [],
       "aggSeriesLimitReached": false,
       "aggType": "",
       "arguments": {},
       "columnCustomDisplayInfos": {},
       "data": [
        [
         "AAA",
         "2013J",
         11391,
         "2012-07-26",
         null
        ],
        [
         "AAA",
         "2013J",
         28400,
         "2012-11-09",
         null
        ],
        [
         "AAA",
         "2013J",
         30268,
         "2012-10-01",
         "2013-01-13"
        ],
        [
         "AAA",
         "2013J",
         31604,
         "2012-11-10",
         null
        ],
        [
         "AAA",
         "2013J",
         32885,
         "2012-07-09",
         null
        ],
        [
         "AAA",
         "2013J",
         38053,
         "2012-09-13",
         null
        ],
        [
         "AAA",
         "2013J",
         45462,
         "2012-10-26",
         null
        ],
        [
         "AAA",
         "2013J",
         45642,
         "2012-12-03",
         null
        ],
        [
         "AAA",
         "2013J",
         52130,
         "2012-11-29",
         null
        ],
        [
         "AAA",
         "2013J",
         53025,
         "2012-07-06",
         null
        ]
       ],
       "datasetInfos": [
        {
         "name": "_sqldf",
         "schema": {
          "fields": [
           {
            "metadata": {},
            "name": "code_module",
            "nullable": true,
            "type": "string"
           },
           {
            "metadata": {},
            "name": "code_presentation",
            "nullable": true,
            "type": "string"
           },
           {
            "metadata": {},
            "name": "id_student",
            "nullable": true,
            "type": "long"
           },
           {
            "metadata": {},
            "name": "real_date_registration",
            "nullable": true,
            "type": "date"
           },
           {
            "metadata": {},
            "name": "real_date_unregistration",
            "nullable": true,
            "type": "date"
           }
          ],
          "type": "struct"
         },
         "tableIdentifier": null,
         "typeStr": "pyspark.sql.connect.dataframe.DataFrame"
        }
       ],
       "dbfsResultPath": null,
       "isJsonSchema": true,
       "metadata": {
        "createTempViewForImplicitDf": true,
        "dataframeName": "_sqldf",
        "executionCount": 55
       },
       "overflow": false,
       "plotOptions": {
        "customPlotOptions": {},
        "displayType": "table",
        "pivotAggregation": null,
        "pivotColumns": null,
        "xColumns": null,
        "yColumns": null
       },
       "removedWidgets": [],
       "schema": [
        {
         "metadata": "{}",
         "name": "code_module",
         "type": "\"string\""
        },
        {
         "metadata": "{}",
         "name": "code_presentation",
         "type": "\"string\""
        },
        {
         "metadata": "{}",
         "name": "id_student",
         "type": "\"long\""
        },
        {
         "metadata": "{}",
         "name": "real_date_registration",
         "type": "\"date\""
        },
        {
         "metadata": "{}",
         "name": "real_date_unregistration",
         "type": "\"date\""
        }
       ],
       "type": "table"
      }
     },
     "output_type": "display_data"
    }
   ],
   "source": [
    "SELECT *\n",
    "FROM\n",
    "  student_registration_filtered\n",
    "LIMIT 10;"
   ]
  },
  {
   "cell_type": "markdown",
   "metadata": {
    "application/vnd.databricks.v1+cell": {
     "cellMetadata": {},
     "inputWidgets": {},
     "nuid": "b2749d5f-32d1-46f8-8d9f-d9fb37efe02c",
     "showTitle": false,
     "tableResultSettingsMap": {},
     "title": ""
    }
   },
   "source": [
    "## STUDENT VLE"
   ]
  },
  {
   "cell_type": "code",
   "execution_count": 0,
   "metadata": {
    "application/vnd.databricks.v1+cell": {
     "cellMetadata": {
      "byteLimit": 2048000,
      "rowLimit": 10000
     },
     "inputWidgets": {},
     "nuid": "fef724e1-0825-4431-9671-4013f3e1b0c6",
     "showTitle": false,
     "tableResultSettingsMap": {},
     "title": ""
    }
   },
   "outputs": [
    {
     "output_type": "display_data",
     "data": {
      "text/html": [
       "<style scoped>\n",
       "  .table-result-container {\n",
       "    max-height: 300px;\n",
       "    overflow: auto;\n",
       "  }\n",
       "  table, th, td {\n",
       "    border: 1px solid black;\n",
       "    border-collapse: collapse;\n",
       "  }\n",
       "  th, td {\n",
       "    padding: 5px;\n",
       "  }\n",
       "  th {\n",
       "    text-align: left;\n",
       "  }\n",
       "</style><div class='table-result-container'><table class='table-result'><thead style='background-color: white'><tr><th>code_module</th><th>code_presentation</th><th>id_student</th><th>id_site</th><th>date</th><th>sum_click</th></tr></thead><tbody><tr><td>FFF</td><td>2014J</td><td>647324</td><td>883152</td><td>45</td><td>2</td></tr><tr><td>FFF</td><td>2014J</td><td>647324</td><td>882545</td><td>45</td><td>2</td></tr><tr><td>FFF</td><td>2014J</td><td>647324</td><td>882549</td><td>45</td><td>1</td></tr><tr><td>FFF</td><td>2014J</td><td>647324</td><td>882537</td><td>45</td><td>2</td></tr><tr><td>FFF</td><td>2014J</td><td>647111</td><td>882545</td><td>45</td><td>1</td></tr><tr><td>FFF</td><td>2014J</td><td>647111</td><td>882545</td><td>45</td><td>2</td></tr><tr><td>FFF</td><td>2014J</td><td>647154</td><td>882537</td><td>45</td><td>1</td></tr><tr><td>FFF</td><td>2014J</td><td>647154</td><td>882577</td><td>45</td><td>10</td></tr><tr><td>FFF</td><td>2014J</td><td>647111</td><td>882537</td><td>45</td><td>2</td></tr><tr><td>FFF</td><td>2014J</td><td>647111</td><td>882545</td><td>45</td><td>1</td></tr></tbody></table></div>"
      ]
     },
     "metadata": {
      "application/vnd.databricks.v1+output": {
       "addedWidgets": {},
       "aggData": [],
       "aggError": "",
       "aggOverflow": false,
       "aggSchema": [],
       "aggSeriesLimitReached": false,
       "aggType": "",
       "arguments": {},
       "columnCustomDisplayInfos": {},
       "data": [
        [
         "FFF",
         "2014J",
         647324,
         883152,
         45,
         2
        ],
        [
         "FFF",
         "2014J",
         647324,
         882545,
         45,
         2
        ],
        [
         "FFF",
         "2014J",
         647324,
         882549,
         45,
         1
        ],
        [
         "FFF",
         "2014J",
         647324,
         882537,
         45,
         2
        ],
        [
         "FFF",
         "2014J",
         647111,
         882545,
         45,
         1
        ],
        [
         "FFF",
         "2014J",
         647111,
         882545,
         45,
         2
        ],
        [
         "FFF",
         "2014J",
         647154,
         882537,
         45,
         1
        ],
        [
         "FFF",
         "2014J",
         647154,
         882577,
         45,
         10
        ],
        [
         "FFF",
         "2014J",
         647111,
         882537,
         45,
         2
        ],
        [
         "FFF",
         "2014J",
         647111,
         882545,
         45,
         1
        ]
       ],
       "datasetInfos": [
        {
         "name": "_sqldf",
         "schema": {
          "fields": [
           {
            "metadata": {},
            "name": "code_module",
            "nullable": true,
            "type": "string"
           },
           {
            "metadata": {},
            "name": "code_presentation",
            "nullable": true,
            "type": "string"
           },
           {
            "metadata": {},
            "name": "id_student",
            "nullable": true,
            "type": "integer"
           },
           {
            "metadata": {},
            "name": "id_site",
            "nullable": true,
            "type": "integer"
           },
           {
            "metadata": {},
            "name": "date",
            "nullable": true,
            "type": "integer"
           },
           {
            "metadata": {},
            "name": "sum_click",
            "nullable": true,
            "type": "integer"
           }
          ],
          "type": "struct"
         },
         "tableIdentifier": null,
         "typeStr": "pyspark.sql.connect.dataframe.DataFrame"
        }
       ],
       "dbfsResultPath": null,
       "isJsonSchema": true,
       "metadata": {
        "createTempViewForImplicitDf": true,
        "dataframeName": "_sqldf",
        "executionCount": 59
       },
       "overflow": false,
       "plotOptions": {
        "customPlotOptions": {},
        "displayType": "table",
        "pivotAggregation": null,
        "pivotColumns": null,
        "xColumns": null,
        "yColumns": null
       },
       "removedWidgets": [],
       "schema": [
        {
         "metadata": "{}",
         "name": "code_module",
         "type": "\"string\""
        },
        {
         "metadata": "{}",
         "name": "code_presentation",
         "type": "\"string\""
        },
        {
         "metadata": "{}",
         "name": "id_student",
         "type": "\"integer\""
        },
        {
         "metadata": "{}",
         "name": "id_site",
         "type": "\"integer\""
        },
        {
         "metadata": "{}",
         "name": "date",
         "type": "\"integer\""
        },
        {
         "metadata": "{}",
         "name": "sum_click",
         "type": "\"integer\""
        }
       ],
       "type": "table"
      }
     },
     "output_type": "display_data"
    }
   ],
   "source": [
    "SELECT *\n",
    "FROM \n",
    "  student_vle\n",
    "LIMIT 10;"
   ]
  },
  {
   "cell_type": "code",
   "execution_count": 0,
   "metadata": {
    "application/vnd.databricks.v1+cell": {
     "cellMetadata": {
      "byteLimit": 2048000,
      "rowLimit": 10000
     },
     "inputWidgets": {},
     "nuid": "c59b2949-af7d-4292-b1d9-ed72fb7329ff",
     "showTitle": false,
     "tableResultSettingsMap": {},
     "title": ""
    }
   },
   "outputs": [
    {
     "output_type": "display_data",
     "data": {
      "text/html": [
       "<style scoped>\n",
       "  .table-result-container {\n",
       "    max-height: 300px;\n",
       "    overflow: auto;\n",
       "  }\n",
       "  table, th, td {\n",
       "    border: 1px solid black;\n",
       "    border-collapse: collapse;\n",
       "  }\n",
       "  th, td {\n",
       "    padding: 5px;\n",
       "  }\n",
       "  th {\n",
       "    text-align: left;\n",
       "  }\n",
       "</style><div class='table-result-container'><table class='table-result'><thead style='background-color: white'><tr><th>col_name</th><th>data_type</th><th>comment</th></tr></thead><tbody><tr><td>code_module</td><td>string</td><td>null</td></tr><tr><td>code_presentation</td><td>string</td><td>null</td></tr><tr><td>id_student</td><td>int</td><td>null</td></tr><tr><td>id_site</td><td>int</td><td>null</td></tr><tr><td>date</td><td>int</td><td>null</td></tr><tr><td>sum_click</td><td>int</td><td>null</td></tr></tbody></table></div>"
      ]
     },
     "metadata": {
      "application/vnd.databricks.v1+output": {
       "addedWidgets": {},
       "aggData": [],
       "aggError": "",
       "aggOverflow": false,
       "aggSchema": [],
       "aggSeriesLimitReached": false,
       "aggType": "",
       "arguments": {},
       "columnCustomDisplayInfos": {},
       "data": [
        [
         "code_module",
         "string",
         null
        ],
        [
         "code_presentation",
         "string",
         null
        ],
        [
         "id_student",
         "int",
         null
        ],
        [
         "id_site",
         "int",
         null
        ],
        [
         "date",
         "int",
         null
        ],
        [
         "sum_click",
         "int",
         null
        ]
       ],
       "datasetInfos": [
        {
         "name": "_sqldf",
         "schema": {
          "fields": [
           {
            "metadata": {},
            "name": "col_name",
            "nullable": false,
            "type": "string"
           },
           {
            "metadata": {},
            "name": "data_type",
            "nullable": false,
            "type": "string"
           },
           {
            "metadata": {},
            "name": "comment",
            "nullable": true,
            "type": "string"
           }
          ],
          "type": "struct"
         },
         "tableIdentifier": null,
         "typeStr": "pyspark.sql.connect.dataframe.DataFrame"
        }
       ],
       "dbfsResultPath": null,
       "isJsonSchema": true,
       "metadata": {
        "createTempViewForImplicitDf": true,
        "dataframeName": "_sqldf",
        "executionCount": 61
       },
       "overflow": false,
       "plotOptions": {
        "customPlotOptions": {},
        "displayType": "table",
        "pivotAggregation": null,
        "pivotColumns": null,
        "xColumns": null,
        "yColumns": null
       },
       "removedWidgets": [],
       "schema": [
        {
         "metadata": "{}",
         "name": "col_name",
         "type": "\"string\""
        },
        {
         "metadata": "{}",
         "name": "data_type",
         "type": "\"string\""
        },
        {
         "metadata": "{}",
         "name": "comment",
         "type": "\"string\""
        }
       ],
       "type": "table"
      }
     },
     "output_type": "display_data"
    }
   ],
   "source": [
    "DESCRIBE TABLE student_vle;"
   ]
  },
  {
   "cell_type": "code",
   "execution_count": 0,
   "metadata": {
    "application/vnd.databricks.v1+cell": {
     "cellMetadata": {
      "byteLimit": 2048000,
      "rowLimit": 10000
     },
     "inputWidgets": {},
     "nuid": "2f3e4a91-0359-4100-a3cd-1a95af12b023",
     "showTitle": false,
     "tableResultSettingsMap": {},
     "title": ""
    }
   },
   "outputs": [
    {
     "output_type": "display_data",
     "data": {
      "text/html": [
       "<style scoped>\n",
       "  .table-result-container {\n",
       "    max-height: 300px;\n",
       "    overflow: auto;\n",
       "  }\n",
       "  table, th, td {\n",
       "    border: 1px solid black;\n",
       "    border-collapse: collapse;\n",
       "  }\n",
       "  th, td {\n",
       "    padding: 5px;\n",
       "  }\n",
       "  th {\n",
       "    text-align: left;\n",
       "  }\n",
       "</style><div class='table-result-container'><table class='table-result'><thead style='background-color: white'><tr><th>check_code_module</th><th>check_code_presentation</th><th>check_id_student</th><th>check_id_site</th><th>check_date</th><th>check_sum_click</th></tr></thead><tbody><tr><td>0</td><td>0</td><td>0</td><td>0</td><td>0</td><td>0</td></tr></tbody></table></div>"
      ]
     },
     "metadata": {
      "application/vnd.databricks.v1+output": {
       "addedWidgets": {},
       "aggData": [],
       "aggError": "",
       "aggOverflow": false,
       "aggSchema": [],
       "aggSeriesLimitReached": false,
       "aggType": "",
       "arguments": {},
       "columnCustomDisplayInfos": {},
       "data": [
        [
         0,
         0,
         0,
         0,
         0,
         0
        ]
       ],
       "datasetInfos": [
        {
         "name": "_sqldf",
         "schema": {
          "fields": [
           {
            "metadata": {},
            "name": "check_code_module",
            "nullable": false,
            "type": "long"
           },
           {
            "metadata": {},
            "name": "check_code_presentation",
            "nullable": false,
            "type": "long"
           },
           {
            "metadata": {},
            "name": "check_id_student",
            "nullable": false,
            "type": "long"
           },
           {
            "metadata": {},
            "name": "check_id_site",
            "nullable": false,
            "type": "long"
           },
           {
            "metadata": {},
            "name": "check_date",
            "nullable": false,
            "type": "long"
           },
           {
            "metadata": {},
            "name": "check_sum_click",
            "nullable": false,
            "type": "long"
           }
          ],
          "type": "struct"
         },
         "tableIdentifier": null,
         "typeStr": "pyspark.sql.connect.dataframe.DataFrame"
        }
       ],
       "dbfsResultPath": null,
       "isJsonSchema": true,
       "metadata": {
        "createTempViewForImplicitDf": true,
        "dataframeName": "_sqldf",
        "executionCount": 63
       },
       "overflow": false,
       "plotOptions": {
        "customPlotOptions": {},
        "displayType": "table",
        "pivotAggregation": null,
        "pivotColumns": null,
        "xColumns": null,
        "yColumns": null
       },
       "removedWidgets": [],
       "schema": [
        {
         "metadata": "{}",
         "name": "check_code_module",
         "type": "\"long\""
        },
        {
         "metadata": "{}",
         "name": "check_code_presentation",
         "type": "\"long\""
        },
        {
         "metadata": "{}",
         "name": "check_id_student",
         "type": "\"long\""
        },
        {
         "metadata": "{}",
         "name": "check_id_site",
         "type": "\"long\""
        },
        {
         "metadata": "{}",
         "name": "check_date",
         "type": "\"long\""
        },
        {
         "metadata": "{}",
         "name": "check_sum_click",
         "type": "\"long\""
        }
       ],
       "type": "table"
      }
     },
     "output_type": "display_data"
    }
   ],
   "source": [
    "SELECT\n",
    "  COUNT(*) FILTER(WHERE code_module IS NULL) as check_code_module,\n",
    "  COUNT(*) FILTER(WHERE code_presentation IS NULL) as check_code_presentation,\n",
    "  COUNT(*) FILTER(WHERE id_student IS NULL) as check_id_student,\n",
    "  COUNT(*) FILTER(WHERE id_site IS NULL) as check_id_site,\n",
    "  COUNT(*) FILTER(WHERE `date` IS NULL) as check_date,\n",
    "  COUNT(*) FILTER(WHERE sum_click IS NULL) as check_sum_click\n",
    "FROM\n",
    "  student_vle;"
   ]
  },
  {
   "cell_type": "markdown",
   "metadata": {
    "application/vnd.databricks.v1+cell": {
     "cellMetadata": {},
     "inputWidgets": {},
     "nuid": "66f31cd7-528d-4b33-8136-2f3bb7f017c0",
     "showTitle": false,
     "tableResultSettingsMap": {},
     "title": ""
    }
   },
   "source": [
    "## STUDENT ASSESSMENT"
   ]
  },
  {
   "cell_type": "code",
   "execution_count": 0,
   "metadata": {
    "application/vnd.databricks.v1+cell": {
     "cellMetadata": {
      "byteLimit": 2048000,
      "rowLimit": 10000
     },
     "inputWidgets": {},
     "nuid": "511bb0b3-4042-46a7-b379-1eb89a666eaf",
     "showTitle": false,
     "tableResultSettingsMap": {},
     "title": ""
    }
   },
   "outputs": [
    {
     "output_type": "display_data",
     "data": {
      "text/html": [
       "<style scoped>\n",
       "  .table-result-container {\n",
       "    max-height: 300px;\n",
       "    overflow: auto;\n",
       "  }\n",
       "  table, th, td {\n",
       "    border: 1px solid black;\n",
       "    border-collapse: collapse;\n",
       "  }\n",
       "  th, td {\n",
       "    padding: 5px;\n",
       "  }\n",
       "  th {\n",
       "    text-align: left;\n",
       "  }\n",
       "</style><div class='table-result-container'><table class='table-result'><thead style='background-color: white'><tr><th>id_assessment</th><th>id_student</th><th>date_submitted</th><th>is_banked</th><th>score</th></tr></thead><tbody><tr><td>1752</td><td>11391</td><td>18</td><td>0</td><td>78</td></tr><tr><td>1752</td><td>28400</td><td>22</td><td>0</td><td>70</td></tr><tr><td>1752</td><td>31604</td><td>17</td><td>0</td><td>72</td></tr><tr><td>1752</td><td>32885</td><td>26</td><td>0</td><td>69</td></tr><tr><td>1752</td><td>38053</td><td>19</td><td>0</td><td>79</td></tr><tr><td>1752</td><td>45462</td><td>20</td><td>0</td><td>70</td></tr><tr><td>1752</td><td>45642</td><td>18</td><td>0</td><td>72</td></tr><tr><td>1752</td><td>52130</td><td>19</td><td>0</td><td>72</td></tr><tr><td>1752</td><td>53025</td><td>9</td><td>0</td><td>71</td></tr><tr><td>1752</td><td>57506</td><td>18</td><td>0</td><td>68</td></tr></tbody></table></div>"
      ]
     },
     "metadata": {
      "application/vnd.databricks.v1+output": {
       "addedWidgets": {},
       "aggData": [],
       "aggError": "",
       "aggOverflow": false,
       "aggSchema": [],
       "aggSeriesLimitReached": false,
       "aggType": "",
       "arguments": {},
       "columnCustomDisplayInfos": {},
       "data": [
        [
         1752,
         11391,
         18,
         0,
         "78"
        ],
        [
         1752,
         28400,
         22,
         0,
         "70"
        ],
        [
         1752,
         31604,
         17,
         0,
         "72"
        ],
        [
         1752,
         32885,
         26,
         0,
         "69"
        ],
        [
         1752,
         38053,
         19,
         0,
         "79"
        ],
        [
         1752,
         45462,
         20,
         0,
         "70"
        ],
        [
         1752,
         45642,
         18,
         0,
         "72"
        ],
        [
         1752,
         52130,
         19,
         0,
         "72"
        ],
        [
         1752,
         53025,
         9,
         0,
         "71"
        ],
        [
         1752,
         57506,
         18,
         0,
         "68"
        ]
       ],
       "datasetInfos": [
        {
         "name": "_sqldf",
         "schema": {
          "fields": [
           {
            "metadata": {},
            "name": "id_assessment",
            "nullable": true,
            "type": "integer"
           },
           {
            "metadata": {},
            "name": "id_student",
            "nullable": true,
            "type": "integer"
           },
           {
            "metadata": {},
            "name": "date_submitted",
            "nullable": true,
            "type": "integer"
           },
           {
            "metadata": {},
            "name": "is_banked",
            "nullable": true,
            "type": "integer"
           },
           {
            "metadata": {},
            "name": "score",
            "nullable": true,
            "type": "string"
           }
          ],
          "type": "struct"
         },
         "tableIdentifier": null,
         "typeStr": "pyspark.sql.connect.dataframe.DataFrame"
        }
       ],
       "dbfsResultPath": null,
       "isJsonSchema": true,
       "metadata": {
        "createTempViewForImplicitDf": true,
        "dataframeName": "_sqldf",
        "executionCount": 65
       },
       "overflow": false,
       "plotOptions": {
        "customPlotOptions": {},
        "displayType": "table",
        "pivotAggregation": null,
        "pivotColumns": null,
        "xColumns": null,
        "yColumns": null
       },
       "removedWidgets": [],
       "schema": [
        {
         "metadata": "{}",
         "name": "id_assessment",
         "type": "\"integer\""
        },
        {
         "metadata": "{}",
         "name": "id_student",
         "type": "\"integer\""
        },
        {
         "metadata": "{}",
         "name": "date_submitted",
         "type": "\"integer\""
        },
        {
         "metadata": "{}",
         "name": "is_banked",
         "type": "\"integer\""
        },
        {
         "metadata": "{}",
         "name": "score",
         "type": "\"string\""
        }
       ],
       "type": "table"
      }
     },
     "output_type": "display_data"
    }
   ],
   "source": [
    "SELECT *\n",
    "FROM \n",
    "  student_assessment\n",
    "LIMIT 10;"
   ]
  },
  {
   "cell_type": "code",
   "execution_count": 0,
   "metadata": {
    "application/vnd.databricks.v1+cell": {
     "cellMetadata": {
      "byteLimit": 2048000,
      "rowLimit": 10000
     },
     "inputWidgets": {},
     "nuid": "b071d4e0-7280-44f1-8526-62a6aa4dc168",
     "showTitle": false,
     "tableResultSettingsMap": {},
     "title": ""
    }
   },
   "outputs": [
    {
     "output_type": "display_data",
     "data": {
      "text/html": [
       "<style scoped>\n",
       "  .table-result-container {\n",
       "    max-height: 300px;\n",
       "    overflow: auto;\n",
       "  }\n",
       "  table, th, td {\n",
       "    border: 1px solid black;\n",
       "    border-collapse: collapse;\n",
       "  }\n",
       "  th, td {\n",
       "    padding: 5px;\n",
       "  }\n",
       "  th {\n",
       "    text-align: left;\n",
       "  }\n",
       "</style><div class='table-result-container'><table class='table-result'><thead style='background-color: white'><tr><th>col_name</th><th>data_type</th><th>comment</th></tr></thead><tbody><tr><td>id_assessment</td><td>int</td><td>null</td></tr><tr><td>id_student</td><td>int</td><td>null</td></tr><tr><td>date_submitted</td><td>int</td><td>null</td></tr><tr><td>is_banked</td><td>int</td><td>null</td></tr><tr><td>score</td><td>string</td><td>null</td></tr></tbody></table></div>"
      ]
     },
     "metadata": {
      "application/vnd.databricks.v1+output": {
       "addedWidgets": {},
       "aggData": [],
       "aggError": "",
       "aggOverflow": false,
       "aggSchema": [],
       "aggSeriesLimitReached": false,
       "aggType": "",
       "arguments": {},
       "columnCustomDisplayInfos": {},
       "data": [
        [
         "id_assessment",
         "int",
         null
        ],
        [
         "id_student",
         "int",
         null
        ],
        [
         "date_submitted",
         "int",
         null
        ],
        [
         "is_banked",
         "int",
         null
        ],
        [
         "score",
         "string",
         null
        ]
       ],
       "datasetInfos": [
        {
         "name": "_sqldf",
         "schema": {
          "fields": [
           {
            "metadata": {},
            "name": "col_name",
            "nullable": false,
            "type": "string"
           },
           {
            "metadata": {},
            "name": "data_type",
            "nullable": false,
            "type": "string"
           },
           {
            "metadata": {},
            "name": "comment",
            "nullable": true,
            "type": "string"
           }
          ],
          "type": "struct"
         },
         "tableIdentifier": null,
         "typeStr": "pyspark.sql.connect.dataframe.DataFrame"
        }
       ],
       "dbfsResultPath": null,
       "isJsonSchema": true,
       "metadata": {
        "createTempViewForImplicitDf": true,
        "dataframeName": "_sqldf",
        "executionCount": 70
       },
       "overflow": false,
       "plotOptions": {
        "customPlotOptions": {},
        "displayType": "table",
        "pivotAggregation": null,
        "pivotColumns": null,
        "xColumns": null,
        "yColumns": null
       },
       "removedWidgets": [],
       "schema": [
        {
         "metadata": "{}",
         "name": "col_name",
         "type": "\"string\""
        },
        {
         "metadata": "{}",
         "name": "data_type",
         "type": "\"string\""
        },
        {
         "metadata": "{}",
         "name": "comment",
         "type": "\"string\""
        }
       ],
       "type": "table"
      }
     },
     "output_type": "display_data"
    }
   ],
   "source": [
    "DESCRIBE TABLE student_assessment;"
   ]
  },
  {
   "cell_type": "code",
   "execution_count": 0,
   "metadata": {
    "application/vnd.databricks.v1+cell": {
     "cellMetadata": {
      "byteLimit": 2048000,
      "rowLimit": 10000
     },
     "inputWidgets": {},
     "nuid": "ec4ffafc-7120-4feb-ba26-332eeac0c62a",
     "showTitle": false,
     "tableResultSettingsMap": {},
     "title": ""
    }
   },
   "outputs": [
    {
     "output_type": "display_data",
     "data": {
      "text/html": [
       "<style scoped>\n",
       "  .table-result-container {\n",
       "    max-height: 300px;\n",
       "    overflow: auto;\n",
       "  }\n",
       "  table, th, td {\n",
       "    border: 1px solid black;\n",
       "    border-collapse: collapse;\n",
       "  }\n",
       "  th, td {\n",
       "    padding: 5px;\n",
       "  }\n",
       "  th {\n",
       "    text-align: left;\n",
       "  }\n",
       "</style><div class='table-result-container'><table class='table-result'><thead style='background-color: white'><tr><th>num_affected_rows</th><th>num_inserted_rows</th></tr></thead><tbody></tbody></table></div>"
      ]
     },
     "metadata": {
      "application/vnd.databricks.v1+output": {
       "addedWidgets": {},
       "aggData": [],
       "aggError": "",
       "aggOverflow": false,
       "aggSchema": [],
       "aggSeriesLimitReached": false,
       "aggType": "",
       "arguments": {},
       "columnCustomDisplayInfos": {},
       "data": [],
       "datasetInfos": [
        {
         "name": "_sqldf",
         "schema": {
          "fields": [
           {
            "metadata": {},
            "name": "num_affected_rows",
            "nullable": true,
            "type": "long"
           },
           {
            "metadata": {},
            "name": "num_inserted_rows",
            "nullable": true,
            "type": "long"
           }
          ],
          "type": "struct"
         },
         "tableIdentifier": null,
         "typeStr": "pyspark.sql.connect.dataframe.DataFrame"
        }
       ],
       "dbfsResultPath": null,
       "isJsonSchema": true,
       "metadata": {
        "createTempViewForImplicitDf": true,
        "dataframeName": "_sqldf",
        "executionCount": 1
       },
       "overflow": false,
       "plotOptions": {
        "customPlotOptions": {},
        "displayType": "table",
        "pivotAggregation": null,
        "pivotColumns": null,
        "xColumns": null,
        "yColumns": null
       },
       "removedWidgets": [],
       "schema": [
        {
         "metadata": "{}",
         "name": "num_affected_rows",
         "type": "\"long\""
        },
        {
         "metadata": "{}",
         "name": "num_inserted_rows",
         "type": "\"long\""
        }
       ],
       "type": "table"
      }
     },
     "output_type": "display_data"
    }
   ],
   "source": [
    "CREATE OR REPLACE TABLE student_assessment_filtered AS\n",
    "SELECT\n",
    "  id_assessment,\n",
    "  id_student,\n",
    "  date_submitted,\n",
    "  is_banked,\n",
    "  CAST(score AS INT) AS score\n",
    "FROM\n",
    "  student_assessment\n",
    "WHERE score RLIKE '^[0-9]+$';"
   ]
  },
  {
   "cell_type": "code",
   "execution_count": 0,
   "metadata": {
    "application/vnd.databricks.v1+cell": {
     "cellMetadata": {
      "byteLimit": 2048000,
      "rowLimit": 10000
     },
     "inputWidgets": {},
     "nuid": "435998d6-75bf-4f06-a635-0039199bd397",
     "showTitle": false,
     "tableResultSettingsMap": {},
     "title": ""
    }
   },
   "outputs": [
    {
     "output_type": "display_data",
     "data": {
      "text/html": [
       "<style scoped>\n",
       "  .table-result-container {\n",
       "    max-height: 300px;\n",
       "    overflow: auto;\n",
       "  }\n",
       "  table, th, td {\n",
       "    border: 1px solid black;\n",
       "    border-collapse: collapse;\n",
       "  }\n",
       "  th, td {\n",
       "    padding: 5px;\n",
       "  }\n",
       "  th {\n",
       "    text-align: left;\n",
       "  }\n",
       "</style><div class='table-result-container'><table class='table-result'><thead style='background-color: white'><tr><th>id_assessment</th><th>id_student</th><th>date_submitted</th><th>is_banked</th><th>score</th></tr></thead><tbody><tr><td>1752</td><td>11391</td><td>18</td><td>0</td><td>78</td></tr><tr><td>1752</td><td>28400</td><td>22</td><td>0</td><td>70</td></tr><tr><td>1752</td><td>31604</td><td>17</td><td>0</td><td>72</td></tr><tr><td>1752</td><td>32885</td><td>26</td><td>0</td><td>69</td></tr><tr><td>1752</td><td>38053</td><td>19</td><td>0</td><td>79</td></tr><tr><td>1752</td><td>45462</td><td>20</td><td>0</td><td>70</td></tr><tr><td>1752</td><td>45642</td><td>18</td><td>0</td><td>72</td></tr><tr><td>1752</td><td>52130</td><td>19</td><td>0</td><td>72</td></tr><tr><td>1752</td><td>53025</td><td>9</td><td>0</td><td>71</td></tr><tr><td>1752</td><td>57506</td><td>18</td><td>0</td><td>68</td></tr></tbody></table></div>"
      ]
     },
     "metadata": {
      "application/vnd.databricks.v1+output": {
       "addedWidgets": {},
       "aggData": [],
       "aggError": "",
       "aggOverflow": false,
       "aggSchema": [],
       "aggSeriesLimitReached": false,
       "aggType": "",
       "arguments": {},
       "columnCustomDisplayInfos": {},
       "data": [
        [
         1752,
         11391,
         18,
         0,
         78
        ],
        [
         1752,
         28400,
         22,
         0,
         70
        ],
        [
         1752,
         31604,
         17,
         0,
         72
        ],
        [
         1752,
         32885,
         26,
         0,
         69
        ],
        [
         1752,
         38053,
         19,
         0,
         79
        ],
        [
         1752,
         45462,
         20,
         0,
         70
        ],
        [
         1752,
         45642,
         18,
         0,
         72
        ],
        [
         1752,
         52130,
         19,
         0,
         72
        ],
        [
         1752,
         53025,
         9,
         0,
         71
        ],
        [
         1752,
         57506,
         18,
         0,
         68
        ]
       ],
       "datasetInfos": [
        {
         "name": "_sqldf",
         "schema": {
          "fields": [
           {
            "metadata": {},
            "name": "id_assessment",
            "nullable": true,
            "type": "integer"
           },
           {
            "metadata": {},
            "name": "id_student",
            "nullable": true,
            "type": "integer"
           },
           {
            "metadata": {},
            "name": "date_submitted",
            "nullable": true,
            "type": "integer"
           },
           {
            "metadata": {},
            "name": "is_banked",
            "nullable": true,
            "type": "integer"
           },
           {
            "metadata": {},
            "name": "score",
            "nullable": true,
            "type": "integer"
           }
          ],
          "type": "struct"
         },
         "tableIdentifier": null,
         "typeStr": "pyspark.sql.connect.dataframe.DataFrame"
        }
       ],
       "dbfsResultPath": null,
       "isJsonSchema": true,
       "metadata": {
        "createTempViewForImplicitDf": true,
        "dataframeName": "_sqldf",
        "executionCount": 2
       },
       "overflow": false,
       "plotOptions": {
        "customPlotOptions": {},
        "displayType": "table",
        "pivotAggregation": null,
        "pivotColumns": null,
        "xColumns": null,
        "yColumns": null
       },
       "removedWidgets": [],
       "schema": [
        {
         "metadata": "{}",
         "name": "id_assessment",
         "type": "\"integer\""
        },
        {
         "metadata": "{}",
         "name": "id_student",
         "type": "\"integer\""
        },
        {
         "metadata": "{}",
         "name": "date_submitted",
         "type": "\"integer\""
        },
        {
         "metadata": "{}",
         "name": "is_banked",
         "type": "\"integer\""
        },
        {
         "metadata": "{}",
         "name": "score",
         "type": "\"integer\""
        }
       ],
       "type": "table"
      }
     },
     "output_type": "display_data"
    }
   ],
   "source": [
    "SELECT *\n",
    "FROM\n",
    "  student_assessment_filtered\n",
    "LIMIT 10;"
   ]
  }
 ],
 "metadata": {
  "application/vnd.databricks.v1+notebook": {
   "computePreferences": null,
   "dashboards": [],
   "environmentMetadata": {
    "base_environment": "",
    "environment_version": "2"
   },
   "inputWidgetPreferences": null,
   "language": "sql",
   "notebookMetadata": {},
   "notebookName": "02 - EDA",
   "widgets": {}
  },
  "language_info": {
   "name": "sql"
  }
 },
 "nbformat": 4,
 "nbformat_minor": 0
}